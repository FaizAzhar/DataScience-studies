{
 "cells": [
  {
   "cell_type": "markdown",
   "id": "0cdfa324",
   "metadata": {},
   "source": [
    "# Object Oriented Programming\n",
    "\n",
    "This note is created as a platform to practice creating object, classes and instances that can be useful when we want to create some program that is not available in Python packages."
   ]
  },
  {
   "cell_type": "code",
   "execution_count": 1,
   "id": "72bca8f1",
   "metadata": {},
   "outputs": [],
   "source": [
    "import numpy as np\n",
    "import pandas as pd\n",
    "\n",
    "class Yeet:\n",
    "    def __init__(self, data):\n",
    "        self.data = data\n",
    "    \n",
    "    def oSum(self):\n",
    "        return self.data.describe()"
   ]
  },
  {
   "cell_type": "code",
   "execution_count": 2,
   "id": "f93e7e5c",
   "metadata": {},
   "outputs": [
    {
     "data": {
      "text/html": [
       "<div>\n",
       "<style scoped>\n",
       "    .dataframe tbody tr th:only-of-type {\n",
       "        vertical-align: middle;\n",
       "    }\n",
       "\n",
       "    .dataframe tbody tr th {\n",
       "        vertical-align: top;\n",
       "    }\n",
       "\n",
       "    .dataframe thead th {\n",
       "        text-align: right;\n",
       "    }\n",
       "</style>\n",
       "<table border=\"1\" class=\"dataframe\">\n",
       "  <thead>\n",
       "    <tr style=\"text-align: right;\">\n",
       "      <th></th>\n",
       "      <th>0</th>\n",
       "    </tr>\n",
       "  </thead>\n",
       "  <tbody>\n",
       "    <tr>\n",
       "      <th>count</th>\n",
       "      <td>3.0</td>\n",
       "    </tr>\n",
       "    <tr>\n",
       "      <th>mean</th>\n",
       "      <td>2.0</td>\n",
       "    </tr>\n",
       "    <tr>\n",
       "      <th>std</th>\n",
       "      <td>1.0</td>\n",
       "    </tr>\n",
       "    <tr>\n",
       "      <th>min</th>\n",
       "      <td>1.0</td>\n",
       "    </tr>\n",
       "    <tr>\n",
       "      <th>25%</th>\n",
       "      <td>1.5</td>\n",
       "    </tr>\n",
       "    <tr>\n",
       "      <th>50%</th>\n",
       "      <td>2.0</td>\n",
       "    </tr>\n",
       "    <tr>\n",
       "      <th>75%</th>\n",
       "      <td>2.5</td>\n",
       "    </tr>\n",
       "    <tr>\n",
       "      <th>max</th>\n",
       "      <td>3.0</td>\n",
       "    </tr>\n",
       "  </tbody>\n",
       "</table>\n",
       "</div>"
      ],
      "text/plain": [
       "         0\n",
       "count  3.0\n",
       "mean   2.0\n",
       "std    1.0\n",
       "min    1.0\n",
       "25%    1.5\n",
       "50%    2.0\n",
       "75%    2.5\n",
       "max    3.0"
      ]
     },
     "execution_count": 2,
     "metadata": {},
     "output_type": "execute_result"
    }
   ],
   "source": [
    "df = pd.DataFrame([1,2,3])\n",
    "obj = Yeet(df)\n",
    "obj.oSum()"
   ]
  },
  {
   "cell_type": "code",
   "execution_count": 3,
   "id": "b96ee4ae",
   "metadata": {},
   "outputs": [],
   "source": [
    "from collections import Counter\n",
    "import numpy as np\n",
    "\n",
    "def euclidean_distance(x1,x2):\n",
    "    return np.sqrt(np.sum((x1-x2)**2))\n",
    "\n",
    "class KNN:    \n",
    "    def __init__(self, k=3):\n",
    "        self.k=k\n",
    "    \n",
    "    def fit(self, x_train, y_train):\n",
    "        self.x_train = x_train\n",
    "        self.y_train = y_train\n",
    "        \n",
    "    def predictLabel(self, x):\n",
    "        # run predict function and return all predictions       \n",
    "        y_predict = [self.predict(i) for i in x]\n",
    "        return np.array(y_predict)\n",
    "    \n",
    "    def predict(self, x):\n",
    "        # function to predict label of a point\n",
    "        # compute the euclidean distance\n",
    "        distance = [euclidean_distance(x,i) for i in self.x_train]\n",
    "        # return the indices for nearest neighbor using np.argsort\n",
    "        k_nearest = np.argsort(distance)[:self.k]\n",
    "        k_labels = [self.y_train[i] for i in k_nearest]\n",
    "        predLabel = Counter(k_labels).most_common(1)\n",
    "        return predLabel[0][0]"
   ]
  },
  {
   "cell_type": "markdown",
   "id": "4bc5217f",
   "metadata": {},
   "source": [
    "### Problem 1\n",
    "1. Write a Rectangle class in Python language, allowing you to build  a rectangle with length and width attributes.\n",
    "2. Create a Perimeter() method to calculate the perimeter of the rectangle and a Area() method to calculate the area of ​​the rectangle.\n",
    "3. Create a method display() that display the length, width, perimeter and area of an object created using an instantiation on rectangle class.\n",
    "4. Create a Parallelepipede child class inheriting from the Rectangle class and with a height attribute and another Volume() method to calculate the volume of the Parallelepiped."
   ]
  },
  {
   "cell_type": "code",
   "execution_count": 6,
   "id": "30dd610c",
   "metadata": {},
   "outputs": [],
   "source": [
    "class Rectangle:\n",
    "    def __init__(self, l=1, w=1):\n",
    "        self.l = l\n",
    "        self.w = w\n",
    "    \n",
    "    def Perimeter(self):\n",
    "        return 2*(self.l + self.w)\n",
    "    \n",
    "    def Area(self):\n",
    "        return self.l * self.w\n",
    "    \n",
    "class Parallelepipede(Rectangle):\n",
    "    def __init__(self, l=1, w=1, h=1):\n",
    "        Rectangle.__init__(self, l, w)\n",
    "        self.h = h\n",
    "    \n",
    "    def Volume(self):\n",
    "        return self.Area() * self.h      "
   ]
  },
  {
   "cell_type": "code",
   "execution_count": 8,
   "id": "663d5c95",
   "metadata": {},
   "outputs": [
    {
     "name": "stdout",
     "output_type": "stream",
     "text": [
      "objA Area:  6 \n",
      "objA Perimeter: 10 \n",
      "objB Volume:  90\n"
     ]
    }
   ],
   "source": [
    "objA = Rectangle(2,3)\n",
    "objB = Parallelepipede(3,6,5)\n",
    "\n",
    "print('objA Area: ', objA.Area(),\n",
    "     '\\nobjA Perimeter:', objA.Perimeter(),\n",
    "     '\\nobjB Volume: ', objB.Volume())"
   ]
  }
 ],
 "metadata": {
  "kernelspec": {
   "display_name": "Python 3 (ipykernel)",
   "language": "python",
   "name": "python3"
  },
  "language_info": {
   "codemirror_mode": {
    "name": "ipython",
    "version": 3
   },
   "file_extension": ".py",
   "mimetype": "text/x-python",
   "name": "python",
   "nbconvert_exporter": "python",
   "pygments_lexer": "ipython3",
   "version": "3.9.13"
  }
 },
 "nbformat": 4,
 "nbformat_minor": 5
}
