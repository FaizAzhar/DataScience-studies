{
 "cells": [
  {
   "cell_type": "markdown",
   "id": "df4f0daf",
   "metadata": {},
   "source": [
    "# QR decomposition\n",
    "\n",
    "QR decomposition or QR factorization is known as a basis for eigenvalue algorithm to calculate the eigenvalues and eigenvectors of a matrix numerically. If you have encounter with problem that requires to do eigenvalue calculation, you might notice that after doing some manipulation on our matrix, we'll end up need to calculate equations to find out our unknown $\\lambda$. \n",
    "\n",
    "This method is developed in the late of 1950s and the idea behind the decomposition is to write the matrix as a product of an orthogonal matrix and an upper triangular matrix which is \n",
    "\n",
    "$$ A = QR $$\n",
    "\n",
    "where A = a square matrix,\n",
    "Q = an orthonormal matrix,\n",
    "R = an upper triangular matrix.\n",
    "\n",
    "The following note is summarized from the link below:\n",
    "* https://www.youtube.com/watch?v=FAnNBw7d0vg\n",
    "* https://www.youtube.com/watch?v=_neGVEBjLJA\n",
    "* https://en.wikipedia.org/wiki/QR_decomposition"
   ]
  },
  {
   "cell_type": "code",
   "execution_count": 1,
   "id": "27b2bc4f",
   "metadata": {},
   "outputs": [],
   "source": [
    "# We'll use the Gram Schmidt Process to find our QR decompose.\n",
    "# for this process, we need to handle with the columns of the matrix,\n",
    "# thus, it is easier for us to use a transposed matrix and then \n",
    "# transpose it again to get the actual solution.\n",
    "\n",
    "import numpy as np\n",
    "\n",
    "def QR(matrix):\n",
    "    A = np.array(matrix).T\n",
    "    u1 = A[0]\n",
    "    U = np.zeros(A.shape)\n",
    "    Q = np.zeros(A.shape)\n",
    "    U[0] = u1\n",
    "    Q[0] = A[0]/oNorm(A[0])\n",
    "    \n",
    "    for col in range(1,len(A)):\n",
    "        proj_store = np.zeros(A.shape)\n",
    "        for i in range(0, col):\n",
    "            proj_store[i] = oProj(A[col],U[i])\n",
    "\n",
    "        U[col] = A[col] - np.sum(proj_store, axis=0)\n",
    "        Q[col] = U[col]/oNorm(U[col])\n",
    "    \n",
    "    return Q.T, np.dot(Q,A.T)\n",
    "\n",
    "def oProj(vec1, vec2):\n",
    "    # will return the projection of v1 onto v2\n",
    "    v1, v2 = np.array(vec1), np.array(vec2)\n",
    "    v2_norm = oNorm(v2)\n",
    "    return (np.dot(v1,v2)/np.dot(v2,v2))*v2\n",
    "\n",
    "def oNorm(vec):\n",
    "    # will return the magnitude of the vector\n",
    "    return np.sqrt(sum(vec**2))"
   ]
  },
  {
   "cell_type": "code",
   "execution_count": 2,
   "id": "436c2ffd",
   "metadata": {},
   "outputs": [
    {
     "data": {
      "text/plain": [
       "(array([[ 0.85714286, -0.39428571, -0.33142857],\n",
       "        [ 0.42857143,  0.90285714,  0.03428571],\n",
       "        [-0.28571429,  0.17142857, -0.94285714]]),\n",
       " array([[ 1.40000000e+01,  2.10000000e+01, -1.40000000e+01],\n",
       "        [-6.66133815e-16,  1.75000000e+02, -7.00000000e+01],\n",
       "        [ 0.00000000e+00,  1.42108547e-14,  3.50000000e+01]]))"
      ]
     },
     "execution_count": 2,
     "metadata": {},
     "output_type": "execute_result"
    }
   ],
   "source": [
    "A = [[12, -51, 4],\n",
    "    [6, 167, -68],\n",
    "    [-4, 24, -41]]\n",
    "QR(A) \n",
    "\n",
    "# should obtain\n",
    "# Q = [[6/7, -69/175, -58/175],    R = [[14, 21, -14],\n",
    "#      [3/7, 158/175, 6/175],           [0, 175, -70],\n",
    "#      [-2/7, 6/35, -33/35]]            [0,  0,  35]]"
   ]
  },
  {
   "cell_type": "markdown",
   "id": "c83fa288",
   "metadata": {},
   "source": [
    "We can see how this composition can help us in finding the desired eigenvalue by using the following QR algorithm"
   ]
  },
  {
   "cell_type": "code",
   "execution_count": 3,
   "id": "a6b4c2d0",
   "metadata": {},
   "outputs": [],
   "source": [
    "# the eigenvalues are the diagonal entries of the right triangular matrix\n",
    "def eigen(matrix, n=10000):\n",
    "    A = np.array(matrix)\n",
    "    for n in range(n):\n",
    "        q, r = QR(A)\n",
    "        q_inv = np.linalg.inv(q)\n",
    "        A = np.dot(np.dot(q_inv,A),q)\n",
    "    return A   "
   ]
  },
  {
   "cell_type": "code",
   "execution_count": 4,
   "id": "f763144d",
   "metadata": {},
   "outputs": [
    {
     "data": {
      "text/plain": [
       "(array([[ 1.56136684e+002,  6.22705050e+001, -8.74603501e+001],\n",
       "        [ 4.64421707e-322, -3.41966750e+001,  1.58136450e+001],\n",
       "        [-2.42092166e-322,  2.47032823e-323,  1.60599909e+001]]),\n",
       " array([156.13668406,  16.05999094, -34.196675  ]))"
      ]
     },
     "execution_count": 4,
     "metadata": {},
     "output_type": "execute_result"
    }
   ],
   "source": [
    "eigenval, eigenvec = np.linalg.eig([[12, -51, 4],[6, 167, -68],[-4, 24, -41]])\n",
    "\n",
    "eigen(A), eigenval #our result is close with the numpy linear algebra package"
   ]
  }
 ],
 "metadata": {
  "kernelspec": {
   "display_name": "Python 3 (ipykernel)",
   "language": "python",
   "name": "python3"
  },
  "language_info": {
   "codemirror_mode": {
    "name": "ipython",
    "version": 3
   },
   "file_extension": ".py",
   "mimetype": "text/x-python",
   "name": "python",
   "nbconvert_exporter": "python",
   "pygments_lexer": "ipython3",
   "version": "3.9.13"
  }
 },
 "nbformat": 4,
 "nbformat_minor": 5
}
