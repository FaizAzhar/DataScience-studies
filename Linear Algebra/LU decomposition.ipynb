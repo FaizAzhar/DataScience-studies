{
 "cells": [
  {
   "cell_type": "markdown",
   "id": "dc7a4511",
   "metadata": {},
   "source": [
    "# LU decomposition\n",
    "\n",
    "System of linear equations can be solved in different methods. One of the way is through row reduced echelon form (RREF) method. Throughout the time, scientists & researchers have try to come up with more efficient ways to find solutions on this system. Why? It is because in reality, we will need to deal with a huge matrices. And solving it using the RREF method can take quite a time and computing power. As a remedy to this complication, matrix decomposition was introduced. If you have a chance to take machine learning courses, maybe you will stumble upon the Single Value Decomposition concept. This is an example of matrix decomposition.\n",
    "\n",
    "For today's simulation, we'll walkthrough over other type of decomposition called the LU decomposition. There are many techniques how to split our matrices into lower triangular matrix and upper triangular matrix but we will use video below as our reference:\n",
    "* https://www.youtube.com/watch?v=jbeX2HCW6OE"
   ]
  },
  {
   "cell_type": "code",
   "execution_count": 1,
   "id": "1c263ea1",
   "metadata": {},
   "outputs": [],
   "source": [
    "import numpy as np\n",
    "\n",
    "# input is nxn matrix\n",
    "def LU(matrix):\n",
    "    dim = len(matrix)\n",
    "    u_mat = np.array(matrix)\n",
    "    l_mat = initialL(dim)\n",
    "    \n",
    "    for row in np.arange(1,dim):\n",
    "        for col in np.arange(0,row):\n",
    "            c = float(u_mat[row][col]) / float(u_mat[col][col])\n",
    "            l_mat[row][col] = c\n",
    "            u_mat[row] = u_mat[row] - c*u_mat[col]\n",
    "    \n",
    "    return l_mat, u_mat\n",
    "\n",
    "def P(matrix):\n",
    "    p_mat = initialL(len(matrix))\n",
    "    p_mat = p_mat.tolist()\n",
    "    for col in range(len(matrix)):\n",
    "        r = highRow(matrix,col)\n",
    "        p_mat = chgRow(p_mat, col, r)\n",
    "        matrix = chgRow(matrix, col, r)\n",
    "       \n",
    "    return np.array(matrix), np.array(p_mat)\n",
    "\n",
    "def highRow(matrix, col=1):\n",
    "    row = len(matrix)\n",
    "    maxR = np.zeros(row)\n",
    "    for i in range(row):\n",
    "        maxR[i] = matrix[i][col]\n",
    "    return np.argmax(maxR)\n",
    "\n",
    "def chgRow(matrix, target, replacement):\n",
    "    target_row = matrix[target]\n",
    "    replacement_row = matrix[replacement]\n",
    "    matrix[target] = replacement_row\n",
    "    matrix[replacement] = target_row\n",
    "    \n",
    "    return matrix\n",
    "\n",
    "def initialL(dim):\n",
    "    l = np.zeros((dim,dim))\n",
    "    for row in range(dim):\n",
    "        for col in range(dim):\n",
    "            if row == col:\n",
    "                l[row][col] = 1.0\n",
    "    return l\n",
    "\n",
    "def forward_sub(matrix, b):\n",
    "    dim = len(matrix)\n",
    "    for row in range(dim):\n",
    "        for col in range(dim):\n",
    "            if row == col:\n",
    "                b[row] = b[row] / float(matrix[row][col])\n",
    "            else:\n",
    "                b[row] -= b[col]*float(matrix[row][col])\n",
    "    return b\n",
    "\n",
    "def backward_sub(matrix, b):\n",
    "    dim = len(matrix) - 1\n",
    "    for row in np.arange(dim,-1,-1):\n",
    "        for col in np.arange(dim,-1,-1):\n",
    "            if row == col:\n",
    "                b[row] = b[row] / float(matrix[row][col])\n",
    "            else:\n",
    "                b[row] -= b[col]*float(matrix[row][col])\n",
    "    return b"
   ]
  },
  {
   "cell_type": "code",
   "execution_count": 2,
   "id": "abfcdf7d",
   "metadata": {},
   "outputs": [],
   "source": [
    "# testing:\n",
    "# x + y + z = 1, 4x + 3y - z = 6, 3x + 5y + 3z = 4\n",
    "# [[1,1,1],\n",
    "#  [4,3,-1],\n",
    "#  [3,5,3]]\n",
    "\n",
    "# output:\n",
    "# L = [[1,0,0],      U = [[1,1,1],\n",
    "#      [4,1,0],          [0,-1,-5],\n",
    "#      [3,-2,1]]         [0,0,-10]"
   ]
  },
  {
   "cell_type": "code",
   "execution_count": 3,
   "id": "f6ecc8e7",
   "metadata": {},
   "outputs": [
    {
     "data": {
      "text/plain": [
       "(array([[ 1.,  0.,  0.],\n",
       "        [ 4.,  1.,  0.],\n",
       "        [ 3., -2.,  1.]]),\n",
       " array([[  1,   1,   1],\n",
       "        [  0,  -1,  -5],\n",
       "        [  0,   0, -10]]))"
      ]
     },
     "execution_count": 3,
     "metadata": {},
     "output_type": "execute_result"
    }
   ],
   "source": [
    "import numpy as np\n",
    "A = [[1,1,1],[4,3,-1],[3,5,3]]\n",
    "l,u = LU(A)\n",
    "l,u"
   ]
  },
  {
   "cell_type": "markdown",
   "id": "9213cbae",
   "metadata": {},
   "source": [
    "### Application\n",
    "Our system of linear equation is going to be as follows:\n",
    "$$ Ax = b $$\n",
    "\n",
    "Substitute A=LU\n",
    "\n",
    "$$ (LU)x = b $$\n",
    "\n",
    "Applying Associative property for matrix,\n",
    "\n",
    "$$ L(Ux) = b $$\n",
    "$$ Lc = b $$\n",
    "\n",
    "So, to solve for x, we'll reverse the 2 steps above."
   ]
  },
  {
   "cell_type": "code",
   "execution_count": 4,
   "id": "0171ae03",
   "metadata": {},
   "outputs": [
    {
     "data": {
      "text/plain": [
       "[1.0, 2.0, 5.0]"
      ]
     },
     "execution_count": 4,
     "metadata": {},
     "output_type": "execute_result"
    }
   ],
   "source": [
    "forward_sub(l,[1,6,4])"
   ]
  },
  {
   "cell_type": "code",
   "execution_count": 5,
   "id": "77de7e43",
   "metadata": {},
   "outputs": [
    {
     "data": {
      "text/plain": [
       "[1.0, 0.5, -0.5]"
      ]
     },
     "execution_count": 5,
     "metadata": {},
     "output_type": "execute_result"
    }
   ],
   "source": [
    "backward_sub(u, [1,2,5])"
   ]
  },
  {
   "cell_type": "markdown",
   "id": "a6705b81",
   "metadata": {},
   "source": [
    "Hence x = [1, 0.5, -0.5]"
   ]
  },
  {
   "cell_type": "code",
   "execution_count": 6,
   "id": "13aa272d",
   "metadata": {
    "scrolled": true
   },
   "outputs": [
    {
     "data": {
      "text/plain": [
       "(array([[ 1.,  0.,  0.],\n",
       "        [ 2.,  1.,  0.],\n",
       "        [ 2., -1.,  1.]]),\n",
       " array([[1, 3, 2],\n",
       "        [0, 1, 3],\n",
       "        [0, 0, 1]]))"
      ]
     },
     "execution_count": 6,
     "metadata": {},
     "output_type": "execute_result"
    }
   ],
   "source": [
    "# output should be [3,1,-2]. we'll arrive to the same answer \n",
    "# eventhough we don't get the rref.\n",
    "# output should be: [1,0, 0, 3] \n",
    "#                   [0,1, 0, 1] \n",
    "#                   [0,0, 1,-2]\n",
    "\n",
    "# you can refer to my note called Gauss Jordan Elimination.ipynb\n",
    "A = [[1,3,2],\n",
    "    [2,7,7],\n",
    "    [2,5,2]]\n",
    "\n",
    "l, u = LU(A)\n",
    "l, u"
   ]
  },
  {
   "cell_type": "code",
   "execution_count": 7,
   "id": "12c81c8f",
   "metadata": {},
   "outputs": [
    {
     "data": {
      "text/plain": [
       "[3.0, 1.0, -2.0]"
      ]
     },
     "execution_count": 7,
     "metadata": {},
     "output_type": "execute_result"
    }
   ],
   "source": [
    "backward_sub(u, forward_sub(l,[2,-1,7]))"
   ]
  },
  {
   "cell_type": "markdown",
   "id": "5b6711e6",
   "metadata": {},
   "source": [
    "Similar result with our RREF method."
   ]
  },
  {
   "cell_type": "markdown",
   "id": "84491c83",
   "metadata": {},
   "source": [
    "### PLU decomposition\n",
    "\n",
    "The LU technique above is great if we do not encounter any 0 at our diagonal pivot. However, in case we encounter with such situation, some extra steps need to be done first, which is, we need to permute the row with row that have non-zero value at our pivot point. Let us consider the example below."
   ]
  },
  {
   "cell_type": "code",
   "execution_count": 15,
   "id": "5e3c4ef1",
   "metadata": {},
   "outputs": [],
   "source": [
    "# testing:\n",
    "#       2y + z = 4\n",
    "#        x + y + 2z = 6\n",
    "#        2x + y + z = 7\n",
    "# output should be: [[1. , 0. , 0. , 2.2],\n",
    "#                    [0. , 1. , 0. , 1.4],\n",
    "#                    [0. , 0. , 1. , 1.2]]\n",
    "\n",
    "A = [[0.,2.,1.],\n",
    "    [1.,1.,2.],\n",
    "    [2.,1.,1.]]"
   ]
  },
  {
   "cell_type": "markdown",
   "id": "8f153812",
   "metadata": {},
   "source": [
    "Here, we can see that the first row have 0 at the first column. We need to exchange this row with other row that has non-zero value for its first column. To be save, we are going to arrange this matrix such that for every column, the pivot point is the largest value."
   ]
  },
  {
   "cell_type": "code",
   "execution_count": 16,
   "id": "0c7e60c1",
   "metadata": {
    "scrolled": true
   },
   "outputs": [
    {
     "data": {
      "text/plain": [
       "(array([[2., 1., 1.],\n",
       "        [0., 2., 1.],\n",
       "        [1., 1., 2.]]),\n",
       " array([[0., 0., 1.],\n",
       "        [1., 0., 0.],\n",
       "        [0., 1., 0.]]))"
      ]
     },
     "execution_count": 16,
     "metadata": {},
     "output_type": "execute_result"
    }
   ],
   "source": [
    "res, p = P(A)\n",
    "res, p"
   ]
  },
  {
   "cell_type": "markdown",
   "id": "c3f10f59",
   "metadata": {},
   "source": [
    "Using this permuted matrix, we will now able to decompose it into LU.\n",
    "Our system of linear equation is going to be as follows:\n",
    "$$ Ax = b $$\n",
    "\n",
    "A cannot be decomposed because pivot point have 0.\n",
    "\n",
    "turn A into a matrix that can be decomposed\n",
    "\n",
    "$$ PAx = Pb $$\n",
    "\n",
    "Now, PA=LU,\n",
    "\n",
    "$$ (LU)x = Pb $$\n",
    "$$ L(Ux) = Pb $$\n",
    "$$ Lc = Pb $$\n"
   ]
  },
  {
   "cell_type": "code",
   "execution_count": 17,
   "id": "64b321b6",
   "metadata": {},
   "outputs": [
    {
     "data": {
      "text/plain": [
       "[2.2, 1.4, 1.2]"
      ]
     },
     "execution_count": 17,
     "metadata": {},
     "output_type": "execute_result"
    }
   ],
   "source": [
    "l, u = LU(res)\n",
    "x = backward_sub(u, forward_sub(l,np.dot(p,[4,6,7]).tolist()))\n",
    "x"
   ]
  },
  {
   "cell_type": "code",
   "execution_count": 18,
   "id": "ff5d7819",
   "metadata": {},
   "outputs": [
    {
     "data": {
      "text/plain": [
       "array([7., 4., 6.])"
      ]
     },
     "execution_count": 18,
     "metadata": {},
     "output_type": "execute_result"
    }
   ],
   "source": [
    "np.dot(A,x)"
   ]
  },
  {
   "cell_type": "markdown",
   "id": "dd434580",
   "metadata": {},
   "source": [
    "And there you go, we got a similar result with our rref method"
   ]
  }
 ],
 "metadata": {
  "kernelspec": {
   "display_name": "Python 3 (ipykernel)",
   "language": "python",
   "name": "python3"
  },
  "language_info": {
   "codemirror_mode": {
    "name": "ipython",
    "version": 3
   },
   "file_extension": ".py",
   "mimetype": "text/x-python",
   "name": "python",
   "nbconvert_exporter": "python",
   "pygments_lexer": "ipython3",
   "version": "3.9.13"
  }
 },
 "nbformat": 4,
 "nbformat_minor": 5
}
