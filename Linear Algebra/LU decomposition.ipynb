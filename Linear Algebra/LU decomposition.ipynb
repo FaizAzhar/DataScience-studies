{
 "cells": [
  {
   "cell_type": "markdown",
   "id": "dc7a4511",
   "metadata": {},
   "source": [
    "# LU decomposition\n",
    "\n",
    "System of linear equations can be solved in different methods. One of the way is through row reduced echelon form (RREF) method. Throughout the time, scientists & researchers have try to come up with more efficient ways to find solutions on this system. Why? It is because in reality, we will need to deal with a huge matrices. And solving it using the RREF method can take quite a time and computing power. As a remedy to this complication, matrix decomposition was introduced. If you have a chance to take machine learning courses, maybe you will stumble upon the Single Value Decomposition concept. This is an example of matrix decomposition.\n",
    "\n",
    "For today's simulation, we'll walkthrough over other type of decomposition called the LU decomposition. There are many techniques how to split our matrices into lower triangular matrix and upper triangular matrix but we will use video below as our reference:\n",
    "* https://www.youtube.com/watch?v=jbeX2HCW6OE"
   ]
  },
  {
   "cell_type": "code",
   "execution_count": 1,
   "id": "1c263ea1",
   "metadata": {},
   "outputs": [],
   "source": [
    "import numpy as np\n",
    "\n",
    "# input is nxn matrix\n",
    "def LU(matrix):\n",
    "    dim = len(matrix)\n",
    "    u_mat = np.array(matrix)\n",
    "    l_mat = initialL(dim)\n",
    "    \n",
    "    for row in np.arange(1,dim):\n",
    "        for col in np.arange(0,row):\n",
    "            c = u_mat[row][col] / u_mat[col][col]\n",
    "            l_mat[row][col] = c\n",
    "            u_mat[row] = u_mat[row] - c*u_mat[col]\n",
    "    \n",
    "    return l_mat, u_mat\n",
    "    \n",
    "def initialL(dim):\n",
    "    l = np.zeros((dim,dim))\n",
    "    for row in range(dim):\n",
    "        for col in range(dim):\n",
    "            if row == col:\n",
    "                l[row][col] = 1.0\n",
    "    return l\n",
    "\n",
    "def forward_sub(matrix, b):\n",
    "    dim = len(matrix)\n",
    "    for row in range(dim):\n",
    "        for col in range(dim):\n",
    "            if row == col:\n",
    "                b[row] = b[row] / matrix[row][col]\n",
    "            else:\n",
    "                b[row] -= b[col]*matrix[row][col]\n",
    "    return b\n",
    "\n",
    "def backward_sub(matrix, b):\n",
    "    dim = len(matrix) - 1\n",
    "    for row in np.arange(dim,-1,-1):\n",
    "        for col in np.arange(dim,-1,-1):\n",
    "            if row == col:\n",
    "                b[row] = b[row] / matrix[row][col]\n",
    "            else:\n",
    "                b[row] -= b[col]*matrix[row][col]\n",
    "    return b"
   ]
  },
  {
   "cell_type": "code",
   "execution_count": 2,
   "id": "abfcdf7d",
   "metadata": {},
   "outputs": [],
   "source": [
    "# testing:\n",
    "# x + y + z = 1, 4x + 3y - z = 6, 3x + 5y + 3z = 4\n",
    "# [[1,1,1],\n",
    "#  [4,3,-1],\n",
    "#  [3,5,3]]\n",
    "\n",
    "# output:\n",
    "# L = [[1,0,0],      U = [[1,1,1],\n",
    "#      [4,1,0],          [0,-1,-5],\n",
    "#      [3,-2,1]]         [0,0,-10]"
   ]
  },
  {
   "cell_type": "code",
   "execution_count": 3,
   "id": "f6ecc8e7",
   "metadata": {},
   "outputs": [
    {
     "data": {
      "text/plain": [
       "(array([[ 1.,  0.,  0.],\n",
       "        [ 4.,  1.,  0.],\n",
       "        [ 3., -2.,  1.]]),\n",
       " array([[  1,   1,   1],\n",
       "        [  0,  -1,  -5],\n",
       "        [  0,   0, -10]]))"
      ]
     },
     "execution_count": 3,
     "metadata": {},
     "output_type": "execute_result"
    }
   ],
   "source": [
    "A = [[1,1,1],[4,3,-1],[3,5,3]]\n",
    "l,u = LU(A)\n",
    "l,u"
   ]
  },
  {
   "cell_type": "markdown",
   "id": "9213cbae",
   "metadata": {},
   "source": [
    "### Application\n",
    "Our system of linear equation is going to be as follows:\n",
    "$$ Ax = b $$\n",
    "\n",
    "Substitute A=LU\n",
    "\n",
    "$$ (LU)x = b $$\n",
    "\n",
    "Applying Associative property for matrix,\n",
    "\n",
    "$$ L(Ux) = b $$\n",
    "$$ Lc = b $$\n",
    "\n",
    "So, to solve for x, we'll reverse the 2 steps above."
   ]
  },
  {
   "cell_type": "code",
   "execution_count": 4,
   "id": "0171ae03",
   "metadata": {},
   "outputs": [
    {
     "data": {
      "text/plain": [
       "[1.0, 2.0, 5.0]"
      ]
     },
     "execution_count": 4,
     "metadata": {},
     "output_type": "execute_result"
    }
   ],
   "source": [
    "forward_sub(l,[1,6,4])"
   ]
  },
  {
   "cell_type": "code",
   "execution_count": 5,
   "id": "77de7e43",
   "metadata": {},
   "outputs": [
    {
     "data": {
      "text/plain": [
       "[1.0, 0.5, -0.5]"
      ]
     },
     "execution_count": 5,
     "metadata": {},
     "output_type": "execute_result"
    }
   ],
   "source": [
    "backward_sub(u, [1,2,5])"
   ]
  },
  {
   "cell_type": "markdown",
   "id": "a6705b81",
   "metadata": {},
   "source": [
    "Hence x = [1, 0.5, -0.5]"
   ]
  },
  {
   "cell_type": "code",
   "execution_count": 6,
   "id": "13aa272d",
   "metadata": {
    "scrolled": true
   },
   "outputs": [
    {
     "data": {
      "text/plain": [
       "(array([[ 1.,  0.,  0.],\n",
       "        [ 2.,  1.,  0.],\n",
       "        [ 2., -1.,  1.]]),\n",
       " array([[1, 3, 2],\n",
       "        [0, 1, 3],\n",
       "        [0, 0, 1]]))"
      ]
     },
     "execution_count": 6,
     "metadata": {},
     "output_type": "execute_result"
    }
   ],
   "source": [
    "# output should be [3,1,-2]. we'll arrive to the same answer \n",
    "# eventhough we don't get the rref.\n",
    "# output should be: [1,0, 0, 3] \n",
    "#                   [0,1, 0, 1] \n",
    "#                   [0,0, 1,-2]\n",
    "\n",
    "# you can refer to my note called Gauss Jordan Elimination.ipynb\n",
    "A = [[1,3,2],\n",
    "    [2,7,7],\n",
    "    [2,5,2]]\n",
    "\n",
    "l, u = LU(A)\n",
    "l, u"
   ]
  },
  {
   "cell_type": "code",
   "execution_count": 7,
   "id": "12c81c8f",
   "metadata": {},
   "outputs": [
    {
     "data": {
      "text/plain": [
       "[3.0, 1.0, -2.0]"
      ]
     },
     "execution_count": 7,
     "metadata": {},
     "output_type": "execute_result"
    }
   ],
   "source": [
    "backward_sub(u, forward_sub(l,[2,-1,7]))"
   ]
  },
  {
   "cell_type": "markdown",
   "id": "5b6711e6",
   "metadata": {},
   "source": [
    "Similar result with our RREF method."
   ]
  }
 ],
 "metadata": {
  "kernelspec": {
   "display_name": "Python 3 (ipykernel)",
   "language": "python",
   "name": "python3"
  },
  "language_info": {
   "codemirror_mode": {
    "name": "ipython",
    "version": 3
   },
   "file_extension": ".py",
   "mimetype": "text/x-python",
   "name": "python",
   "nbconvert_exporter": "python",
   "pygments_lexer": "ipython3",
   "version": "3.9.13"
  }
 },
 "nbformat": 4,
 "nbformat_minor": 5
}
