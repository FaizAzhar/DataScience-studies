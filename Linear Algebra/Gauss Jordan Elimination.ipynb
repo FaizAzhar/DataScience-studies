{
 "cells": [
  {
   "cell_type": "markdown",
   "id": "10895130",
   "metadata": {},
   "source": [
    "# Gauss Jordan Elimination\n",
    "\n",
    "This technique which also known as row reduced echelon form is used to turn our system of linear equations into identity matrix and directly getting the solutions to the system."
   ]
  },
  {
   "cell_type": "code",
   "execution_count": 1,
   "id": "a319718f",
   "metadata": {},
   "outputs": [],
   "source": [
    "import numpy as np\n",
    "\n",
    "# we'll use list to process our gauss jordan \n",
    "# our gauss jordan function will accept augmented matrix as input\n",
    "def rref(matrix):\n",
    "    if np.array(matrix).shape[0] - np.array(matrix).shape[1] != -1:\n",
    "        raise ValueError(\"System have infinitely many solution\")\n",
    "        \n",
    "    col = len(matrix) - 1 \n",
    "    Rs = [np.array(row) for row in matrix]\n",
    "    # code below will do row echelon form \n",
    "    for i in range(col):\n",
    "        r = highRow(Rs, col=i)\n",
    "        Rs = chgRow(Rs, i, r)\n",
    "        Rs[i] = Rs[i]/Rs[i][i]\n",
    "        for inext in np.arange(col,i,-1):\n",
    "            Rs[inext] = Rs[inext] - Rs[i]*Rs[inext][i]\n",
    "    \n",
    "    # code below will do the row reduced echelon form\n",
    "    if checkConsistency(Rs) == 1:\n",
    "        for i in np.arange(col,-1,-1):\n",
    "            Rs[i] = Rs[i]/Rs[i][i]\n",
    "            for iprev in range(i):\n",
    "                Rs[iprev] = Rs[iprev] - Rs[i]*Rs[iprev][i]        \n",
    "    \n",
    "    return np.array(Rs)\n",
    "\n",
    "# this function will return row with the highest value for a specific column    \n",
    "def highRow(matrix, col=1):\n",
    "    row = len(matrix)\n",
    "    maxR = np.zeros(row)\n",
    "    for i in range(row):\n",
    "        maxR[i] = matrix[i][col]\n",
    "    return np.argmax(maxR)\n",
    "\n",
    "def chgRow(matrix, target, replacement):\n",
    "    target_row = matrix[target]\n",
    "    replacement_row = matrix[replacement]\n",
    "    matrix[target] = replacement_row\n",
    "    matrix[replacement] = target_row\n",
    "    return matrix\n",
    "\n",
    "def checkConsistency(matrix):\n",
    "    n = len(matrix[0])\n",
    "    for row in matrix:\n",
    "        if np.count_nonzero(row) == 1:\n",
    "            raise ValueError(\"System do not have solution\")\n",
    "    return 1   "
   ]
  },
  {
   "cell_type": "code",
   "execution_count": 2,
   "id": "bfda0501",
   "metadata": {},
   "outputs": [
    {
     "data": {
      "text/plain": [
       "array([[1. , 0. , 0. , 2.2],\n",
       "       [0. , 1. , 0. , 1.4],\n",
       "       [0. , 0. , 1. , 1.2]])"
      ]
     },
     "execution_count": 2,
     "metadata": {},
     "output_type": "execute_result"
    }
   ],
   "source": [
    "# testing:\n",
    "#       2y + z = 4\n",
    "#        x + y + 2z = 6\n",
    "#        2x + y + z = 7\n",
    "# output should be: [1,0, 0, 2.2] \n",
    "#                   [0,2, 0, 2.8] \n",
    "#                   [0,0,-2.5,-3]\n",
    "\n",
    "A = [[0,2,1,4],\n",
    "    [1,1,2,6],\n",
    "    [2,1,1,7]]\n",
    "\n",
    "rref(A)"
   ]
  },
  {
   "cell_type": "code",
   "execution_count": 3,
   "id": "871011c1",
   "metadata": {},
   "outputs": [
    {
     "data": {
      "text/plain": [
       "array([[ 1.        , -0.        , -0.        ,  3.        ],\n",
       "       [ 0.47619048,  1.        ,  0.        ,  2.42857143],\n",
       "       [-0.19047619, -0.        ,  1.        , -2.57142857]])"
      ]
     },
     "execution_count": 3,
     "metadata": {},
     "output_type": "execute_result"
    }
   ],
   "source": [
    "# output should be [3,1,-2]. we'll arrive to the same answer \n",
    "# eventhough we don't get the rref.\n",
    "# output should be: [1,0, 0, 3] \n",
    "#                   [0,1, 0, 1] \n",
    "#                   [0,0, 1,-2]\n",
    "\n",
    "A = [[1,3,2,2],\n",
    "    [2,7,7,-1],\n",
    "    [2,5,2,7]]\n",
    "\n",
    "rref(A)"
   ]
  },
  {
   "cell_type": "code",
   "execution_count": 4,
   "id": "00f8872e",
   "metadata": {},
   "outputs": [
    {
     "ename": "ValueError",
     "evalue": "System have infinitely many solution",
     "output_type": "error",
     "traceback": [
      "\u001b[1;31m---------------------------------------------------------------------------\u001b[0m",
      "\u001b[1;31mValueError\u001b[0m                                Traceback (most recent call last)",
      "\u001b[1;32m~\\AppData\\Local\\Temp\\ipykernel_5496\\3199608719.py\u001b[0m in \u001b[0;36m<module>\u001b[1;34m\u001b[0m\n\u001b[0;32m     11\u001b[0m     [1,3,2,1,1,-2]]\n\u001b[0;32m     12\u001b[0m \u001b[1;33m\u001b[0m\u001b[0m\n\u001b[1;32m---> 13\u001b[1;33m \u001b[0mrref\u001b[0m\u001b[1;33m(\u001b[0m\u001b[0mA\u001b[0m\u001b[1;33m)\u001b[0m\u001b[1;33m\u001b[0m\u001b[1;33m\u001b[0m\u001b[0m\n\u001b[0m",
      "\u001b[1;32m~\\AppData\\Local\\Temp\\ipykernel_5496\\4018304035.py\u001b[0m in \u001b[0;36mrref\u001b[1;34m(matrix)\u001b[0m\n\u001b[0;32m      5\u001b[0m \u001b[1;32mdef\u001b[0m \u001b[0mrref\u001b[0m\u001b[1;33m(\u001b[0m\u001b[0mmatrix\u001b[0m\u001b[1;33m)\u001b[0m\u001b[1;33m:\u001b[0m\u001b[1;33m\u001b[0m\u001b[1;33m\u001b[0m\u001b[0m\n\u001b[0;32m      6\u001b[0m     \u001b[1;32mif\u001b[0m \u001b[0mnp\u001b[0m\u001b[1;33m.\u001b[0m\u001b[0marray\u001b[0m\u001b[1;33m(\u001b[0m\u001b[0mmatrix\u001b[0m\u001b[1;33m)\u001b[0m\u001b[1;33m.\u001b[0m\u001b[0mshape\u001b[0m\u001b[1;33m[\u001b[0m\u001b[1;36m0\u001b[0m\u001b[1;33m]\u001b[0m \u001b[1;33m-\u001b[0m \u001b[0mnp\u001b[0m\u001b[1;33m.\u001b[0m\u001b[0marray\u001b[0m\u001b[1;33m(\u001b[0m\u001b[0mmatrix\u001b[0m\u001b[1;33m)\u001b[0m\u001b[1;33m.\u001b[0m\u001b[0mshape\u001b[0m\u001b[1;33m[\u001b[0m\u001b[1;36m1\u001b[0m\u001b[1;33m]\u001b[0m \u001b[1;33m!=\u001b[0m \u001b[1;33m-\u001b[0m\u001b[1;36m1\u001b[0m\u001b[1;33m:\u001b[0m\u001b[1;33m\u001b[0m\u001b[1;33m\u001b[0m\u001b[0m\n\u001b[1;32m----> 7\u001b[1;33m         \u001b[1;32mraise\u001b[0m \u001b[0mValueError\u001b[0m\u001b[1;33m(\u001b[0m\u001b[1;34m\"System have infinitely many solution\"\u001b[0m\u001b[1;33m)\u001b[0m\u001b[1;33m\u001b[0m\u001b[1;33m\u001b[0m\u001b[0m\n\u001b[0m\u001b[0;32m      8\u001b[0m \u001b[1;33m\u001b[0m\u001b[0m\n\u001b[0;32m      9\u001b[0m     \u001b[0mcol\u001b[0m \u001b[1;33m=\u001b[0m \u001b[0mlen\u001b[0m\u001b[1;33m(\u001b[0m\u001b[0mmatrix\u001b[0m\u001b[1;33m)\u001b[0m \u001b[1;33m-\u001b[0m \u001b[1;36m1\u001b[0m\u001b[1;33m\u001b[0m\u001b[1;33m\u001b[0m\u001b[0m\n",
      "\u001b[1;31mValueError\u001b[0m: System have infinitely many solution"
     ]
    }
   ],
   "source": [
    "# output should return error bcs infinite solution\n",
    "# solution using manual calculation is:\n",
    "# [1, 0, 0, -19/2, 4, 71/2]\n",
    "# [0, 1, 0,   4,  -1, -11]\n",
    "# [0, 0, 1, -3/4,  0, -9/4]\n",
    "# [0, 0, 0,   0,   0,   0]\n",
    "\n",
    "A = [[1,3,-2,4,1,7],\n",
    "    [2,6,0,5,2,5],\n",
    "    [4,11,8,0,5,7],\n",
    "    [1,3,2,1,1,-2]]\n",
    "\n",
    "rref(A)"
   ]
  }
 ],
 "metadata": {
  "kernelspec": {
   "display_name": "Python 3 (ipykernel)",
   "language": "python",
   "name": "python3"
  },
  "language_info": {
   "codemirror_mode": {
    "name": "ipython",
    "version": 3
   },
   "file_extension": ".py",
   "mimetype": "text/x-python",
   "name": "python",
   "nbconvert_exporter": "python",
   "pygments_lexer": "ipython3",
   "version": "3.9.13"
  }
 },
 "nbformat": 4,
 "nbformat_minor": 5
}
