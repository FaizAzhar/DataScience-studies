{
 "cells": [
  {
   "cell_type": "markdown",
   "id": "a42d6040",
   "metadata": {},
   "source": [
    "# Change of basis\n",
    "\n",
    "The following note is summarized from the following videos:\n",
    "* https://www.youtube.com/watch?v=HZa1RwFHgwU\n",
    "\n",
    "Changing of basis is a way to translate a vector from one basis to another basis. This concept allow us to construct a matrix transformation and transform vectors into another vector space. \n",
    "\n",
    "Let's say that we have a basis A, \n",
    "\n",
    "$$ A =  \\begin{bmatrix}\n",
    "1 & 0\\\\\n",
    "0 & 1\n",
    "\\end{bmatrix}$$\n",
    "\n",
    "and a basis B,\n",
    "\n",
    "$$ B =  \\begin{bmatrix}\n",
    "1 & 3\\\\\n",
    "2 & 1\n",
    "\\end{bmatrix}$$\n",
    "\n",
    "and then, consider a vector x,\n",
    "\n",
    "$$ x =  \\begin{bmatrix}\n",
    "1\\\\\n",
    "2\n",
    "\\end{bmatrix}$$\n",
    "\n",
    "if we are living in world A and move in x direction, we'll end up standing at coordinate $\\begin{bmatrix} 1\\\\ 2 \\end{bmatrix}$. However, if we are at B world, moving in the x direction will make us arrive at coordinate $\\begin{bmatrix} 7\\\\ 4 \\end{bmatrix}$."
   ]
  },
  {
   "cell_type": "code",
   "execution_count": 1,
   "id": "af0bc5ca",
   "metadata": {},
   "outputs": [
    {
     "data": {
      "text/plain": [
       "(array([1, 2]), array([7, 4]))"
      ]
     },
     "execution_count": 1,
     "metadata": {},
     "output_type": "execute_result"
    }
   ],
   "source": [
    "import numpy as np\n",
    "x = [1,2]\n",
    "A = [[1,0],\n",
    "    [0,1]]\n",
    "B = [[1,3],\n",
    "    [2,1]]\n",
    "\n",
    "np.dot(A,x), np.dot(B,x)"
   ]
  },
  {
   "cell_type": "markdown",
   "id": "8801ecfb",
   "metadata": {},
   "source": [
    "How about if we are fixing our final coordinate, let's say $ z = \\begin{bmatrix} 4\\\\ 3 \\end{bmatrix}$. To arrive at coordinate z, at A world, we need to move 4 units in the $ \\begin{bmatrix} 1\\\\ 0 \\end{bmatrix}$ direction and 3 units in the $ \\begin{bmatrix} 0\\\\ 1 \\end{bmatrix}$ direction. At world B, we'll need to move only 1 unit in the $ \\begin{bmatrix} 1\\\\ 2 \\end{bmatrix}$ and 1 unit in the $ \\begin{bmatrix} 3\\\\ 1 \\end{bmatrix}$ direction"
   ]
  },
  {
   "cell_type": "code",
   "execution_count": 3,
   "id": "43c719c3",
   "metadata": {},
   "outputs": [
    {
     "data": {
      "text/plain": [
       "(array([4., 3.]), array([1., 1.]))"
      ]
     },
     "execution_count": 3,
     "metadata": {},
     "output_type": "execute_result"
    }
   ],
   "source": [
    "z = [4, 3]\n",
    "np.linalg.solve(A,z), np.linalg.solve(B,z)"
   ]
  },
  {
   "cell_type": "markdown",
   "id": "b7245740",
   "metadata": {},
   "source": [
    "What we can see here is that there is a relation between these two spaces A & B. We can connect these 2 worlds because it have the same characteristic which is, both of them are basis. The basis can be reduced into Identity matrix, which means that we can find it's inverse!\n",
    "\n",
    "Let A & B are the 2x2 basis and\n",
    "$$ Ax = y , Bz = y$$\n",
    "This means that \n",
    "$$ Ax = Bz $$\n",
    "Since a basis have inverse, we can relate our basis from one another by\n",
    "$$ B^{-1}Ax = z $$\n",
    "if we want to know z, and\n",
    "$$ x = A^{-1}Bz $$ if we want to know x."
   ]
  },
  {
   "cell_type": "code",
   "execution_count": 9,
   "id": "0750a9c3",
   "metadata": {},
   "outputs": [
    {
     "data": {
      "text/plain": [
       "array([1.77777778, 1.44444444])"
      ]
     },
     "execution_count": 9,
     "metadata": {},
     "output_type": "execute_result"
    }
   ],
   "source": [
    "# 1. Given the vector [5,4], write this vector in terms of the basis:\n",
    "# u1 = [2,-1] , u2 = [1,4]\n",
    "U = [[2,1],\n",
    "    [-1,4]]\n",
    "v = [5,4]\n",
    "\n",
    "np.linalg.solve(U,v) \n",
    "\n",
    "#i.e, need to move 1.7 units in u1 direction and \n",
    "# 1.4 units in u2 direction"
   ]
  },
  {
   "cell_type": "code",
   "execution_count": 10,
   "id": "a23ba5c0",
   "metadata": {},
   "outputs": [
    {
     "data": {
      "text/plain": [
       "(array([[1., 3.],\n",
       "        [2., 1.]]),\n",
       " array([[-0.2,  0.6],\n",
       "        [ 0.4, -0.2]]))"
      ]
     },
     "execution_count": 10,
     "metadata": {},
     "output_type": "execute_result"
    }
   ],
   "source": [
    "# 2. Given that we have 2 basis A & B as in our introduction:\n",
    "# i. What transformation should all coordinates in B undergo to get into vector space A?\n",
    "# ii. What transformation should all coordinates in A undergo to get into vector space B?\n",
    "\n",
    "A = [[1,0],\n",
    "    [0,1]]\n",
    "B = [[1,3],\n",
    "    [2,1]]\n",
    "\n",
    "np.dot(np.linalg.inv(A),B), np.dot(np.linalg.inv(B),A)"
   ]
  }
 ],
 "metadata": {
  "kernelspec": {
   "display_name": "Python 3 (ipykernel)",
   "language": "python",
   "name": "python3"
  },
  "language_info": {
   "codemirror_mode": {
    "name": "ipython",
    "version": 3
   },
   "file_extension": ".py",
   "mimetype": "text/x-python",
   "name": "python",
   "nbconvert_exporter": "python",
   "pygments_lexer": "ipython3",
   "version": "3.9.13"
  }
 },
 "nbformat": 4,
 "nbformat_minor": 5
}
