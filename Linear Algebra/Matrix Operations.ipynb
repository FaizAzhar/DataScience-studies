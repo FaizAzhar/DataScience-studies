{
 "cells": [
  {
   "cell_type": "markdown",
   "id": "1d0c1dc8",
   "metadata": {},
   "source": [
    "# Matrix Operation\n",
    "This note is a platform for me to practice on matrices operations, how to use matrices in python and how to use matrices in calculating advance mathematics problem such as in the time series, differential equation, statistics and machine learning.\n",
    "\n",
    "Readings and data for these note can be taken from the link below:\n",
    "* https://ecampusontario.pressbooks.pub/linearalgebrautm/\n",
    "* https://mathworld.wolfram.com/Determinant.html#:~:text=Determinants%20are%20mathematical%20objects%20that,%2C%20the%20matrix%20is%20nonsingular)."
   ]
  },
  {
   "cell_type": "code",
   "execution_count": 24,
   "id": "b5911ab9",
   "metadata": {},
   "outputs": [],
   "source": [
    "# We'll build our own linear algebra package here:\n",
    "\n",
    "import numpy as np\n",
    "\n",
    "class mygebra:\n",
    "    def __init__(self):\n",
    "        pass\n",
    "    \n",
    "    def checkDimSum (self, mat_A, mat_B):\n",
    "        if mat_A.shape != mat_B.shape:\n",
    "            raise ValueError(\"Arrays must have the same size\")\n",
    "        else:\n",
    "            return 1\n",
    "   \n",
    "    # Matrix Sum\n",
    "    def oSum (self, mat_A, mat_B):\n",
    "        mat_A, mat_B = np.array(mat_A), np.array(mat_B)\n",
    "        if self.checkDimSum(mat_A, mat_B)==1:\n",
    "            res = np.zeros(mat_A.shape)\n",
    "            for i in range(res.shape[0]):\n",
    "                for j in range(res.shape[1]):\n",
    "                    res[i][j] = mat_A[i][j] + mat_B[i][j]\n",
    "            return res\n",
    " \n",
    "    def checkDimProd (self, mat_A, mat_B):\n",
    "        if mat_A.shape[1] != mat_B.shape[1]:\n",
    "            raise ValueError(\"COL first arr different from ROW second arr\")\n",
    "        else:\n",
    "            return 1\n",
    "    \n",
    "    # Matrix Dot Product\n",
    "    def oDot (self, mat_A, mat_B):\n",
    "        mat_A, mat_B = np.array(mat_A), np.array(mat_B).T\n",
    "        if self.checkDimProd(mat_A, mat_B)==1:\n",
    "            res = np.zeros((mat_A.shape[0], mat_B.shape[0]))\n",
    "            for i in range(res.shape[0]):\n",
    "                for j in range(res.shape[1]):\n",
    "                    res[i][j] = np.sum(mat_A[i]*mat_B[j])\n",
    "            return res \n",
    "    \n",
    "    # minor expansion\n",
    "    def minor(self, mat_A):\n",
    "        k = mat_A.shape[0]\n",
    "        while k != 2:\n",
    "            \n",
    "    # nxn Matrix Determinant\n",
    "    def oDet(self, mat_A):\n",
    "        mat_A = np.array(mat_A)\n",
    "        if mat_A.shape[0] != mat_A.shape[1]:\n",
    "            raise ValueError(\"arr shape is not NxN\")\n",
    "        else:\n",
    "            k = mat_A.shape[0]\n",
    "            sign_A = self.oSign(k) * mat_A\n",
    "            \n",
    "            \n",
    "    def oSign(self,k):\n",
    "        mat = np.zeros((k,k))\n",
    "        for i in range(k):\n",
    "            for j in range(k):\n",
    "                mat[i][j] = (-1)**(i+j)\n",
    "        return mat"
   ]
  },
  {
   "cell_type": "code",
   "execution_count": 36,
   "id": "61e53081",
   "metadata": {},
   "outputs": [
    {
     "data": {
      "text/plain": [
       "array([[3., 2., 2.],\n",
       "       [1., 2., 6.]])"
      ]
     },
     "execution_count": 36,
     "metadata": {},
     "output_type": "execute_result"
    }
   ],
   "source": [
    "MO = mygebra()\n",
    "A = [[2,1,3],\n",
    "    [-1,2,0]]\n",
    "B = [[1,1,-1],\n",
    "    [2,0,6]]\n",
    "\n",
    "#Sum Operation\n",
    "MO.oSum(A,B)"
   ]
  },
  {
   "cell_type": "code",
   "execution_count": 28,
   "id": "7038a109",
   "metadata": {},
   "outputs": [
    {
     "data": {
      "text/plain": [
       "array([[67., 29.],\n",
       "       [78., 24.],\n",
       "       [55., 10.]])"
      ]
     },
     "execution_count": 28,
     "metadata": {},
     "output_type": "execute_result"
    }
   ],
   "source": [
    "A = [[2,3,5],\n",
    "    [1,4,7],\n",
    "    [0,1,8]]\n",
    "\n",
    "B = [[8,9],\n",
    "    [7,2],\n",
    "    [6,1]]\n",
    "\n",
    "#Dot Product Operation\n",
    "MO.oDot(A,B)"
   ]
  },
  {
   "cell_type": "code",
   "execution_count": 32,
   "id": "35a1fd16",
   "metadata": {},
   "outputs": [
    {
     "data": {
      "text/plain": [
       "array([[ 4.,  1., 25., 12.],\n",
       "       [-4.,  2., 23., 36.]])"
      ]
     },
     "execution_count": 32,
     "metadata": {},
     "output_type": "execute_result"
    }
   ],
   "source": [
    "A = [[3,-1,2],\n",
    "    [0,1,4]]\n",
    "\n",
    "B = [[2,1,6,0],\n",
    "    [0,2,3,4],\n",
    "    [-1,0,5,8]]\n",
    "\n",
    "#Dot Product Operation\n",
    "MO.oDot(A,B)"
   ]
  },
  {
   "cell_type": "markdown",
   "id": "8b78e99a",
   "metadata": {},
   "source": [
    "The matrix follows the following laws:\n",
    "1. Associative, (AB)C = A(BC)\n",
    "2. Distributive, A(B + C) = AB + AC = (B + C)A\n",
    "3. Commutative only if ~\n",
    "    if and only if (A - B)(A + B) = A$^{2}$ - B$^{2}$"
   ]
  }
 ],
 "metadata": {
  "kernelspec": {
   "display_name": "Python 3 (ipykernel)",
   "language": "python",
   "name": "python3"
  },
  "language_info": {
   "codemirror_mode": {
    "name": "ipython",
    "version": 3
   },
   "file_extension": ".py",
   "mimetype": "text/x-python",
   "name": "python",
   "nbconvert_exporter": "python",
   "pygments_lexer": "ipython3",
   "version": "3.9.13"
  }
 },
 "nbformat": 4,
 "nbformat_minor": 5
}
