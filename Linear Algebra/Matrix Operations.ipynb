{
 "cells": [
  {
   "cell_type": "markdown",
   "id": "1d0c1dc8",
   "metadata": {},
   "source": [
    "# Matrix Operations\n",
    "This note is a platform for me to practice on matrices operations, how to use matrices in python and how to use matrices in calculating advance mathematics problem such as in the time series, differential equation, statistics and machine learning.\n",
    "\n",
    "Readings and data for these note can be taken from the link below:\n",
    "* https://ecampusontario.pressbooks.pub/linearalgebrautm/\n",
    "* https://mathworld.wolfram.com/Determinant.html#:~:text=Determinants%20are%20mathematical%20objects%20that,%2C%20the%20matrix%20is%20nonsingular)."
   ]
  },
  {
   "cell_type": "code",
   "execution_count": 1,
   "id": "b5911ab9",
   "metadata": {},
   "outputs": [],
   "source": [
    "# We'll build our own linear algebra package here:\n",
    "import numpy as np\n",
    "\n",
    "class mygebra:\n",
    "    def __init__(self):\n",
    "        pass\n",
    "    \n",
    "    def checkDimSum (self, mat_A, mat_B):\n",
    "        if mat_A.shape != mat_B.shape:\n",
    "            raise ValueError(\"Arrays must have the same size\")\n",
    "        else:\n",
    "            return 1\n",
    "   \n",
    "    # Matrix Sum\n",
    "    def oSum (self, mat_A, mat_B):\n",
    "        mat_A, mat_B = np.array(mat_A), np.array(mat_B)\n",
    "        if self.checkDimSum(mat_A, mat_B)==1:\n",
    "            res = np.zeros(mat_A.shape)\n",
    "            for i in range(res.shape[0]):\n",
    "                for j in range(res.shape[1]):\n",
    "                    res[i][j] = mat_A[i][j] + mat_B[i][j]\n",
    "            return res\n",
    " \n",
    "    # Matrix Transpose\n",
    "    def oT (self, mat_A):\n",
    "        mat_A = np.array(mat_A)\n",
    "        res = np.zeros((mat_A.shape[1], mat_A.shape[0]))\n",
    "        for i in range(res.shape[0]):\n",
    "            for j in range(res.shape[1]):\n",
    "                if i==j:\n",
    "                    res[i][j] = mat_A[i][j]\n",
    "                else:\n",
    "                    res[i][j] = mat_A[j][i]\n",
    "        return res\n",
    "        \n",
    "    def checkDimProd (self, mat_A, mat_B):\n",
    "        if mat_A.shape[1] != mat_B.shape[1]:\n",
    "            raise ValueError(\"COL first arr different from ROW second arr\")\n",
    "        else:\n",
    "            return 1\n",
    "    \n",
    "    # Matrix Dot Product\n",
    "    def oDot (self, mat_A, mat_B):\n",
    "        mat_A, mat_B = np.array(mat_A), self.oT(np.array(mat_B))\n",
    "        if self.checkDimProd(mat_A, mat_B)==1:\n",
    "            res = np.zeros((mat_A.shape[0], mat_B.shape[0]))\n",
    "            for i in range(res.shape[0]):\n",
    "                for j in range(res.shape[1]):\n",
    "                    res[i][j] = np.sum(mat_A[i]*mat_B[j])\n",
    "            return res \n",
    "      \n",
    "    # nxn Matrix Determinant\n",
    "    def oDet(self, A, total=0.0):\n",
    "        indices = list(range(len(A)))\n",
    "     \n",
    "        if len(A) == 2 and len(A[0]) == 2:\n",
    "            val = A[0][0] * A[1][1] - A[1][0] * A[0][1]\n",
    "            return val\n",
    " \n",
    "        for fc in indices: \n",
    "            As = A # make a copy\n",
    "            As = As[1:] \n",
    "            height = len(As)\n",
    "            for i in range(height): \n",
    "                As[i] = As[i][0:fc] + As[i][fc+1:] \n",
    "            sign = (-1) ** (fc % 2) \n",
    "            sub_det = self.oDet(As)\n",
    "            total += sign * A[0][fc] * sub_det \n",
    "        return total\n",
    "\n",
    "    # Adjoint of a Matrix\n",
    "    def oAdj(self, A):\n",
    "        A = np.array(A)\n",
    "        res = np.zeros(A.shape)\n",
    "        if A.shape[0] == 2:\n",
    "            return np.array([[-A[0][0],A[1][0]],[A[0][1],-A[1][1]]])\n",
    "        else:\n",
    "            for row in range(A.shape[0]): \n",
    "                for col in range(A.shape[1]):\n",
    "                    sub_A = np.delete(A, row, 0)\n",
    "                    sub_A = np.delete(sub_A, col, 1)\n",
    "                    res[row][col] += ((-1)**(row+col)) * self.oDet(sub_A.tolist())\n",
    "            return res\n",
    "        \n",
    "    # Inverse of Matrices\n",
    "    def oInv(self, A):\n",
    "        det = self.oDet(A)\n",
    "        A_adj = self.oAdj(A)\n",
    "        return (1/det)*A_adj"
   ]
  },
  {
   "cell_type": "code",
   "execution_count": 2,
   "id": "61e53081",
   "metadata": {},
   "outputs": [
    {
     "data": {
      "text/plain": [
       "array([[3., 2., 2.],\n",
       "       [1., 2., 6.]])"
      ]
     },
     "execution_count": 2,
     "metadata": {},
     "output_type": "execute_result"
    }
   ],
   "source": [
    "MO = mygebra()\n",
    "A = [[2,1,3],\n",
    "    [-1,2,0]]\n",
    "B = [[1,1,-1],\n",
    "    [2,0,6]]\n",
    "\n",
    "#Sum Operation\n",
    "MO.oSum(A,B)"
   ]
  },
  {
   "cell_type": "code",
   "execution_count": 3,
   "id": "fd571fcc",
   "metadata": {},
   "outputs": [
    {
     "data": {
      "text/plain": [
       "array([[ 2., -1.],\n",
       "       [ 1.,  2.],\n",
       "       [ 3.,  0.]])"
      ]
     },
     "execution_count": 3,
     "metadata": {},
     "output_type": "execute_result"
    }
   ],
   "source": [
    "MO.oT(A)"
   ]
  },
  {
   "cell_type": "code",
   "execution_count": 4,
   "id": "7038a109",
   "metadata": {},
   "outputs": [
    {
     "data": {
      "text/plain": [
       "array([[67., 29.],\n",
       "       [78., 24.],\n",
       "       [55., 10.]])"
      ]
     },
     "execution_count": 4,
     "metadata": {},
     "output_type": "execute_result"
    }
   ],
   "source": [
    "A = [[2,3,5],\n",
    "    [1,4,7],\n",
    "    [0,1,8]]\n",
    "\n",
    "B = [[8,9],\n",
    "    [7,2],\n",
    "    [6,1]]\n",
    "\n",
    "#Dot Product Operation\n",
    "MO.oDot(A,B)"
   ]
  },
  {
   "cell_type": "code",
   "execution_count": 5,
   "id": "35a1fd16",
   "metadata": {},
   "outputs": [
    {
     "data": {
      "text/plain": [
       "array([[ 4.,  1., 25., 12.],\n",
       "       [-4.,  2., 23., 36.]])"
      ]
     },
     "execution_count": 5,
     "metadata": {},
     "output_type": "execute_result"
    }
   ],
   "source": [
    "A = [[3,-1,2],\n",
    "    [0,1,4]]\n",
    "\n",
    "B = [[2,1,6,0],\n",
    "    [0,2,3,4],\n",
    "    [-1,0,5,8]]\n",
    "\n",
    "#Dot Product Operation\n",
    "MO.oDot(A,B)"
   ]
  },
  {
   "cell_type": "code",
   "execution_count": 6,
   "id": "639eed81",
   "metadata": {},
   "outputs": [
    {
     "data": {
      "text/plain": [
       "(-348.0, -347.9999999999998)"
      ]
     },
     "execution_count": 6,
     "metadata": {},
     "output_type": "execute_result"
    }
   ],
   "source": [
    "A = [[1,2,3,4],\n",
    "     [8,5,6,7],\n",
    "     [9,12,10,11],\n",
    "     [13,14,16,15]]\n",
    "\n",
    "MO.oDet(A), np.linalg.det(A)"
   ]
  },
  {
   "cell_type": "code",
   "execution_count": 7,
   "id": "9ba2bc8d",
   "metadata": {},
   "outputs": [
    {
     "data": {
      "text/plain": [
       "(array([[-4., -4., -4.,  4.],\n",
       "        [-4., -4.,  4., -4.],\n",
       "        [-4.,  4., -4., -4.],\n",
       "        [ 4., -4., -4., -4.]]),\n",
       " array([[ 0.25,  0.25,  0.25, -0.25],\n",
       "        [ 0.25,  0.25, -0.25,  0.25],\n",
       "        [ 0.25, -0.25,  0.25,  0.25],\n",
       "        [-0.25,  0.25,  0.25,  0.25]]))"
      ]
     },
     "execution_count": 7,
     "metadata": {},
     "output_type": "execute_result"
    }
   ],
   "source": [
    "MO = mygebra()\n",
    "B = [[1,1,1,-1],\n",
    "    [1,1,-1,1],\n",
    "    [1,-1,1,1],\n",
    "    [-1,1,1,1]]\n",
    "MO.oAdj(B), MO.oInv(B)"
   ]
  },
  {
   "cell_type": "markdown",
   "id": "8b78e99a",
   "metadata": {},
   "source": [
    "The matrix follows the following properties:\n",
    "1. Associative, (AB)C = A(BC)\n",
    "2. Distributive, A(B + C) = AB + AC = (B + C)A\n",
    "3. Commutative only if ~\n",
    "    if and only if (A - B)(A + B) = A$^{2}$ - B$^{2}$"
   ]
  },
  {
   "cell_type": "code",
   "execution_count": null,
   "id": "7613817c",
   "metadata": {},
   "outputs": [],
   "source": []
  }
 ],
 "metadata": {
  "kernelspec": {
   "display_name": "Python 3 (ipykernel)",
   "language": "python",
   "name": "python3"
  },
  "language_info": {
   "codemirror_mode": {
    "name": "ipython",
    "version": 3
   },
   "file_extension": ".py",
   "mimetype": "text/x-python",
   "name": "python",
   "nbconvert_exporter": "python",
   "pygments_lexer": "ipython3",
   "version": "3.9.13"
  }
 },
 "nbformat": 4,
 "nbformat_minor": 5
}
