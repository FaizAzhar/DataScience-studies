{
 "cells": [
  {
   "cell_type": "markdown",
   "id": "b8fb7aa0",
   "metadata": {},
   "source": [
    "# Singular Value Decomposition\n",
    "\n",
    "$$ A = UE V^{T}$$\n",
    "\n",
    "U and V are eigenvectors while E is a diagonal matrix with eigenvalue entries.\n",
    "\n",
    "V can be calculated by using $A^{T}A$ while U can be calculated by using $AA^{T}$. \n",
    "\n",
    "The reference is as below:\n",
    "* https://web.mit.edu/be.400/www/SVD/Singular_Value_Decomposition.htm"
   ]
  },
  {
   "cell_type": "code",
   "execution_count": 1,
   "id": "7bf10abe",
   "metadata": {},
   "outputs": [],
   "source": [
    "import numpy as np\n",
    "\n",
    "def SVD_decompose(A):\n",
    "    A = np.array(A)\n",
    "    U,s,Vt = np.linalg.svd(A)\n",
    "    \n",
    "    S = np.zeros((len(U),len(Vt)))\n",
    "    \n",
    "    for i in range(len(U)):\n",
    "        for j in range(len(Vt)):\n",
    "            if i==j:\n",
    "                S[i][j] = s[i]\n",
    "                \n",
    "    return U, S, Vt\n",
    "    "
   ]
  },
  {
   "cell_type": "code",
   "execution_count": 2,
   "id": "4718b0d7",
   "metadata": {
    "scrolled": false
   },
   "outputs": [
    {
     "data": {
      "text/plain": [
       "(array([[2., 4.],\n",
       "        [1., 3.],\n",
       "        [0., 0.],\n",
       "        [0., 0.]]),\n",
       " array([[-0.81741556, -0.57604844,  0.        ,  0.        ],\n",
       "        [-0.57604844,  0.81741556,  0.        ,  0.        ],\n",
       "        [ 0.        ,  0.        ,  1.        ,  0.        ],\n",
       "        [ 0.        ,  0.        ,  0.        ,  1.        ]]),\n",
       " array([[5.4649857 , 0.        ],\n",
       "        [0.        , 0.36596619],\n",
       "        [0.        , 0.        ],\n",
       "        [0.        , 0.        ]]),\n",
       " array([[-0.40455358, -0.9145143 ],\n",
       "        [-0.9145143 ,  0.40455358]]))"
      ]
     },
     "execution_count": 2,
     "metadata": {},
     "output_type": "execute_result"
    }
   ],
   "source": [
    "A = np.array([[2,4],\n",
    "    [1,3],\n",
    "    [0,0],\n",
    "    [0,0]])\n",
    "\n",
    "a, b, c, = SVD_decompose(A)\n",
    "np.dot(np.dot(a,b),c), a, b, c"
   ]
  }
 ],
 "metadata": {
  "kernelspec": {
   "display_name": "Python 3 (ipykernel)",
   "language": "python",
   "name": "python3"
  },
  "language_info": {
   "codemirror_mode": {
    "name": "ipython",
    "version": 3
   },
   "file_extension": ".py",
   "mimetype": "text/x-python",
   "name": "python",
   "nbconvert_exporter": "python",
   "pygments_lexer": "ipython3",
   "version": "3.9.13"
  }
 },
 "nbformat": 4,
 "nbformat_minor": 5
}
