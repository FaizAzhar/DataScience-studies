{
 "cells": [
  {
   "cell_type": "markdown",
   "id": "463edcdc",
   "metadata": {},
   "source": [
    "# Pseudoinverse\n",
    "Pseudoinverse is very useful when we had a rectangular matrix and need to find it's inverse. Usually in regression, we will always have more equation than variable. Hence, resulting us to get an overdetermined system (system with many solution or no solution). \n",
    "\n",
    "To get a pseudoinverse of a matrix, the Singular Value Decomposition (SVD) will be used. \n",
    "\n",
    "$$ A = UE V^{T}$$\n",
    "\n",
    "using this matrix decomposition, the following step will then be used.\n",
    "\n",
    "$$ Ax = b$$\n",
    "$$ UE V^{T}x = b$$\n",
    "$$ VE^{-1}U^{T}UE V^{T}x = VE^{-1}U^{T}b$$\n",
    "$$ x = VE^{-1}U^{T}b$$\n",
    "\n",
    "The $VE^{-1}U^{T}$ is our pseudoinverse because it will brings back b vector to x."
   ]
  },
  {
   "cell_type": "code",
   "execution_count": 1,
   "id": "fa85786f",
   "metadata": {},
   "outputs": [],
   "source": [
    "import numpy as np\n",
    "\n",
    "def pseudoinv(A):\n",
    "    U, S, Vt = SVD_decompose(A)\n",
    "    \n",
    "    S_inv = np.zeros(S.shape)\n",
    "    for i in range(S.shape[0]):\n",
    "        for j in range(S.shape[1]):\n",
    "            if i == j:\n",
    "                S_inv[i][j] = 1/S[i][j]\n",
    "    S_inv = S_inv.T\n",
    "    \n",
    "    return np.dot(np.dot(Vt.T,S_inv),U.T)\n",
    "\n",
    "def SVD_decompose(A):\n",
    "    A = np.array(A)\n",
    "    U,s,Vt = np.linalg.svd(A)\n",
    "    \n",
    "    S = np.zeros((len(U),len(Vt)))\n",
    "    \n",
    "    for i in range(len(U)):\n",
    "        for j in range(len(Vt)):\n",
    "            if i==j:\n",
    "                S[i][j] = s[i]\n",
    "                \n",
    "    return U, S, Vt"
   ]
  },
  {
   "cell_type": "code",
   "execution_count": 2,
   "id": "a8f0501f",
   "metadata": {},
   "outputs": [
    {
     "data": {
      "text/plain": [
       "array([[ 2.50000000e-01, -1.38777878e-17],\n",
       "       [ 1.50000000e-01, -2.00000000e-01]])"
      ]
     },
     "execution_count": 2,
     "metadata": {},
     "output_type": "execute_result"
    }
   ],
   "source": [
    "A = [[4,0],\n",
    "    [3,-5]]\n",
    "pseudoinv(A)"
   ]
  },
  {
   "cell_type": "code",
   "execution_count": 3,
   "id": "ebc6c8ba",
   "metadata": {},
   "outputs": [
    {
     "data": {
      "text/plain": [
       "array([12,  4])"
      ]
     },
     "execution_count": 3,
     "metadata": {},
     "output_type": "execute_result"
    }
   ],
   "source": [
    "#checking pseudoinverse\n",
    "\n",
    "b = np.dot(A,np.array([3,1]))\n",
    "b"
   ]
  },
  {
   "cell_type": "code",
   "execution_count": 4,
   "id": "2579eb69",
   "metadata": {},
   "outputs": [
    {
     "data": {
      "text/plain": [
       "array([3., 1.])"
      ]
     },
     "execution_count": 4,
     "metadata": {},
     "output_type": "execute_result"
    }
   ],
   "source": [
    "np.dot(pseudoinv(A),b)"
   ]
  }
 ],
 "metadata": {
  "kernelspec": {
   "display_name": "Python 3 (ipykernel)",
   "language": "python",
   "name": "python3"
  },
  "language_info": {
   "codemirror_mode": {
    "name": "ipython",
    "version": 3
   },
   "file_extension": ".py",
   "mimetype": "text/x-python",
   "name": "python",
   "nbconvert_exporter": "python",
   "pygments_lexer": "ipython3",
   "version": "3.9.13"
  }
 },
 "nbformat": 4,
 "nbformat_minor": 5
}
