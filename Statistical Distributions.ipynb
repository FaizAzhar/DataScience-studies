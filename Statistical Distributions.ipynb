{
 "cells": [
  {
   "cell_type": "markdown",
   "id": "d0fd70ef",
   "metadata": {},
   "source": [
    "# Discrete & Continuous Distribution"
   ]
  },
  {
   "cell_type": "markdown",
   "id": "5bb77b76",
   "metadata": {},
   "source": [
    "This note will summarize the distribution that we will frequently see when analyzing data.\n",
    "\n",
    "You can refer to link https://www.datacamp.com/tutorial/probability-distributions-python for example"
   ]
  },
  {
   "cell_type": "code",
   "execution_count": 4,
   "id": "ca16e44c",
   "metadata": {},
   "outputs": [],
   "source": [
    "%matplotlib inline\n",
    "import matplotlib.pyplot as plt\n",
    "import numpy as np"
   ]
  },
  {
   "cell_type": "markdown",
   "id": "c023d7fa",
   "metadata": {},
   "source": [
    "### Uniform Distribution\n",
    "$$ f(x) = \\begin{cases} \\frac{1}{b-a} & a \\le x \\le b \\\\ 0 & x<a, x>b \\end{cases}$$"
   ]
  },
  {
   "cell_type": "code",
   "execution_count": 24,
   "id": "d95f671e",
   "metadata": {},
   "outputs": [
    {
     "data": {
      "text/plain": [
       "15.062441170614472"
      ]
     },
     "execution_count": 24,
     "metadata": {},
     "output_type": "execute_result"
    },
    {
     "data": {
      "image/png": "[encoded data removed]",
      "text/plain": [
       "<Figure size 640x480 with 1 Axes>"
      ]
     },
     "metadata": {},
     "output_type": "display_data"
    }
   ],
   "source": [
    "from scipy.stats import uniform\n",
    "\n",
    "n=10000\n",
    "start=5\n",
    "width=20\n",
    "data = uniform.rvs(size=n, loc=start, scale=width, random_state=12345)\n",
    "\n",
    "fig, ax = plt.subplots(1,1)\n",
    "ax.hist(data, bins=20)\n",
    "data.mean()"
   ]
  },
  {
   "cell_type": "markdown",
   "id": "249678d7",
   "metadata": {},
   "source": [
    "Another way we can really claim that the generated data are from the uniform distribution is that from the histogram shown, most of the frequency for each bins are about 500 count. I.e, out of 10000 steps, there are about 500 times where the data generated falls into 1st bin, 2nd bin etc.. Thus, there are 500/10000 chances that the next data generated will fall into one of the bin.\n",
    "This is the same answer that we'll get if we use the pdf for uniform distribution which is,\n",
    "\n",
    "$$ f(x) = \\frac{1}{b-a} = \\frac{1}{25-5} = \\frac{1}{20} = \\frac{500}{10000} $$"
   ]
  },
  {
   "cell_type": "code",
   "execution_count": null,
   "id": "41175f51",
   "metadata": {},
   "outputs": [],
   "source": []
  }
 ],
 "metadata": {
  "kernelspec": {
   "display_name": "Python 3 (ipykernel)",
   "language": "python",
   "name": "python3"
  },
  "language_info": {
   "codemirror_mode": {
    "name": "ipython",
    "version": 3
   },
   "file_extension": ".py",
   "mimetype": "text/x-python",
   "name": "python",
   "nbconvert_exporter": "python",
   "pygments_lexer": "ipython3",
   "version": "3.9.13"
  }
 },
 "nbformat": 4,
 "nbformat_minor": 5
}
