{
 "cells": [
  {
   "cell_type": "code",
   "execution_count": 1,
   "id": "247c908b",
   "metadata": {},
   "outputs": [
    {
     "name": "stdout",
     "output_type": "stream",
     "text": [
      "Hello World\n"
     ]
    }
   ],
   "source": [
    "print(\"Hello World\")"
   ]
  },
  {
   "cell_type": "markdown",
   "id": "fbf59d66",
   "metadata": {},
   "source": [
    "# Testing\n",
    "## This is a tester\n",
    "for reference, please read https://wesmckinney.com/book/numpy-basics.html. The writer made such a good explanation on everything that you need to know as a preparation to become a good data scientist."
   ]
  },
  {
   "cell_type": "code",
   "execution_count": 2,
   "id": "95da9c4a",
   "metadata": {},
   "outputs": [
    {
     "name": "stdout",
     "output_type": "stream",
     "text": [
      "Hello World\n"
     ]
    }
   ],
   "source": [
    "print(\"Hello World\")\n"
   ]
  },
  {
   "cell_type": "markdown",
   "id": "0a305dc3",
   "metadata": {},
   "source": [
    "Hello there\n"
   ]
  },
  {
   "cell_type": "code",
   "execution_count": 22,
   "id": "a8529a3d",
   "metadata": {},
   "outputs": [
    {
     "data": {
      "text/plain": [
       "[2, 4, 5]"
      ]
     },
     "execution_count": 22,
     "metadata": {},
     "output_type": "execute_result"
    }
   ],
   "source": [
    "seq = [1,2,4,5,4,6,7,8]\n",
    "seq[1:4]"
   ]
  },
  {
   "cell_type": "code",
   "execution_count": 2,
   "id": "003298ca",
   "metadata": {},
   "outputs": [
    {
     "data": {
      "text/plain": [
       "[1, 2, 4, 5]"
      ]
     },
     "execution_count": 2,
     "metadata": {},
     "output_type": "execute_result"
    }
   ],
   "source": [
    "seq[:4]"
   ]
  },
  {
   "cell_type": "code",
   "execution_count": 10,
   "id": "e0a0dc21",
   "metadata": {},
   "outputs": [
    {
     "data": {
      "text/plain": [
       "[1, 2, 4, 4, 5, 6, 7, 8]"
      ]
     },
     "execution_count": 10,
     "metadata": {},
     "output_type": "execute_result"
    }
   ],
   "source": [
    "seq.sort()\n",
    "seq"
   ]
  },
  {
   "cell_type": "code",
   "execution_count": 23,
   "id": "89a63fcc",
   "metadata": {},
   "outputs": [
    {
     "data": {
      "text/plain": [
       "[1, 2, 4, 5, 4, 6, 7, 8, 1, 1, 1, 2, 2, 2, 3]"
      ]
     },
     "execution_count": 23,
     "metadata": {},
     "output_type": "execute_result"
    }
   ],
   "source": [
    ";,oList = [1,1,1,2,2,2,3]\n",
    "for elem in oList:.\n",
    "    seq.append(elem)\n",
    "seq"
   ]
  },
  {
   "cell_type": "code",
   "execution_count": 40,
   "id": "5c6c7081",
   "metadata": {},
   "outputs": [
    {
     "data": {
      "text/plain": [
       "{0: 5, 1: 4, 2: 3, 3: 2, 4: 1}"
      ]
     },
     "execution_count": 40,
     "metadata": {},
     "output_type": "execute_result"
    }
   ],
   "source": [
    "oDict = {}\n",
    "for key, val in zip(range(5),range(5,0,-1)):\n",
    "    oDict[key] = val\n",
    "oDict"
   ]
  },
  {
   "cell_type": "code",
   "execution_count": 43,
   "id": "75d48dc3",
   "metadata": {},
   "outputs": [],
   "source": [
    "oSeta = {1,1,1,1,2,2,2,2,2,3,3,3}\n",
    "oSetb = {3,3,3,3,3,4,4,5,6,6,6,7}"
   ]
  },
  {
   "cell_type": "code",
   "execution_count": 51,
   "id": "f7a4dcff",
   "metadata": {},
   "outputs": [
    {
     "data": {
      "text/plain": [
       "{1, 2, 3, 5}"
      ]
     },
     "execution_count": 51,
     "metadata": {},
     "output_type": "execute_result"
    }
   ],
   "source": [
    "oSeta.add(5)\n",
    "oSeta"
   ]
  },
  {
   "cell_type": "markdown",
   "id": "daf32aef",
   "metadata": {},
   "source": [
    "## Writing a function \n",
    "### testing to write a function in jupyter notebook\n"
   ]
  },
  {
   "cell_type": "code",
   "execution_count": 1,
   "id": "d96e9167",
   "metadata": {},
   "outputs": [],
   "source": [
    "def oSum(x,y):\n",
    "    return x + y"
   ]
  },
  {
   "cell_type": "code",
   "execution_count": 2,
   "id": "47128be4",
   "metadata": {},
   "outputs": [
    {
     "data": {
      "text/plain": [
       "7"
      ]
     },
     "execution_count": 2,
     "metadata": {},
     "output_type": "execute_result"
    }
   ],
   "source": [
    "oSum(3,4)"
   ]
  },
  {
   "cell_type": "code",
   "execution_count": 3,
   "id": "4f0a7a37",
   "metadata": {},
   "outputs": [],
   "source": [
    "def oMult3num(a,b,c,d,e,f):\n",
    "    return a*b, c*d, e*f"
   ]
  },
  {
   "cell_type": "code",
   "execution_count": 4,
   "id": "10b830bd",
   "metadata": {},
   "outputs": [
    {
     "data": {
      "text/plain": [
       "(2, 12, 30)"
      ]
     },
     "execution_count": 4,
     "metadata": {},
     "output_type": "execute_result"
    }
   ],
   "source": [
    "oMult3num(1,2,3,4,5,6)"
   ]
  },
  {
   "cell_type": "code",
   "execution_count": 8,
   "id": "91b1e888",
   "metadata": {},
   "outputs": [
    {
     "data": {
      "text/plain": [
       "tuple"
      ]
     },
     "execution_count": 8,
     "metadata": {},
     "output_type": "execute_result"
    }
   ],
   "source": [
    "ans = oMult3num(1,2,3,4,5,6)\n",
    "type(ans)"
   ]
  },
  {
   "cell_type": "markdown",
   "id": "3b3a35b7",
   "metadata": {},
   "source": [
    "## Built in function that is frequently used in data science\n"
   ]
  },
  {
   "cell_type": "markdown",
   "id": "0f51aa0f",
   "metadata": {},
   "source": [
    "### 1. enumerate\n",
    "#### enumerate will return a tuple of (i, value)\n"
   ]
  },
  {
   "cell_type": "code",
   "execution_count": 8,
   "id": "fb2eb9a2",
   "metadata": {},
   "outputs": [
    {
     "name": "stdout",
     "output_type": "stream",
     "text": [
      "[2, 3, 4, 5, 6, 7, 8] 7\n"
     ]
    }
   ],
   "source": [
    "oList = [1,2,3,4,5,6,7]\n",
    "oIndex = 0\n",
    "newList = []\n",
    "for oVal in oList:\n",
    "    newList.append(oVal + 1)\n",
    "    oIndex += 1\n",
    "print(newList, oIndex)"
   ]
  },
  {
   "cell_type": "markdown",
   "id": "d33282cc",
   "metadata": {},
   "source": [
    "#### instead of doing as above, we can use enumerate function as below"
   ]
  },
  {
   "cell_type": "code",
   "execution_count": 9,
   "id": "fa9da3e8",
   "metadata": {},
   "outputs": [
    {
     "name": "stdout",
     "output_type": "stream",
     "text": [
      "[2, 3, 4, 5, 6, 7, 8] 6\n"
     ]
    }
   ],
   "source": [
    "oList = [1,2,3,4,5,6,7]\n",
    "newList = []\n",
    "for oIndex, oVal in enumerate(oList):\n",
    "    newList.append(oVal + 1)\n",
    "    \n",
    "print(newList, oIndex)"
   ]
  },
  {
   "cell_type": "markdown",
   "id": "c102ef75",
   "metadata": {},
   "source": [
    "### 2. sorted\n",
    "#### If we have a list, this function will sort the value of the list"
   ]
  },
  {
   "cell_type": "code",
   "execution_count": 11,
   "id": "f33eb3a1",
   "metadata": {},
   "outputs": [
    {
     "data": {
      "text/plain": [
       "[0, 2, 2, 4, 4, 5, 6, 6, 7, 7]"
      ]
     },
     "execution_count": 11,
     "metadata": {},
     "output_type": "execute_result"
    }
   ],
   "source": [
    "oList = [6,4,7,2,7,2,5,0,4,6]\n",
    "sorted(oList)"
   ]
  },
  {
   "cell_type": "markdown",
   "id": "6e04737e",
   "metadata": {},
   "source": [
    "### 3. zip\n",
    "#### “pairs” up the elements of a number of lists, tuples, or other sequences to create a list of tuples"
   ]
  },
  {
   "cell_type": "code",
   "execution_count": 20,
   "id": "40ae5a2f",
   "metadata": {},
   "outputs": [
    {
     "data": {
      "text/plain": [
       "[(1, 0),\n",
       " (2, 2),\n",
       " (3, 2),\n",
       " (4, 4),\n",
       " (5, 4),\n",
       " (6, 5),\n",
       " (7, 6),\n",
       " (8, 6),\n",
       " (9, 7),\n",
       " (10, 7)]"
      ]
     },
     "execution_count": 20,
     "metadata": {},
     "output_type": "execute_result"
    }
   ],
   "source": [
    "oList = sorted(oList)\n",
    "oSeq = list(range(1,11))\n",
    "oPair = zip(oSeq, oList)\n",
    "list(oPair)"
   ]
  },
  {
   "cell_type": "markdown",
   "id": "dfacc138",
   "metadata": {},
   "source": [
    "## A taste of functional programming vs. object-oriented programming\n",
    "### This is just an example from what I understand the difference between these 2 ways of writing a program"
   ]
  },
  {
   "cell_type": "markdown",
   "id": "dfcbc618",
   "metadata": {},
   "source": [
    "### Functional Programming"
   ]
  },
  {
   "cell_type": "code",
   "execution_count": 25,
   "id": "c5f4410b",
   "metadata": {},
   "outputs": [],
   "source": [
    "import re\n",
    "def remove_punctuation(value):\n",
    "    return re.sub(\"[!#?]\", \"\", value)\n",
    "\n",
    "clean_ops = [str.strip, remove_punctuation, str.title]\n",
    "\n",
    "def clean_strings(strings, ops):\n",
    "    result = []\n",
    "    for value in strings:\n",
    "        for func in ops:\n",
    "            value = func(value)\n",
    "        result.append(value)\n",
    "    return result"
   ]
  },
  {
   "cell_type": "code",
   "execution_count": 26,
   "id": "165f01aa",
   "metadata": {},
   "outputs": [
    {
     "data": {
      "text/plain": [
       "['Alabama',\n",
       " 'Georgia',\n",
       " 'Georgia',\n",
       " 'Georgia',\n",
       " 'Florida',\n",
       " 'South   Carolina',\n",
       " 'West Virginia']"
      ]
     },
     "execution_count": 26,
     "metadata": {},
     "output_type": "execute_result"
    }
   ],
   "source": [
    "states = [\"   Alabama \", \"Georgia!\", \"Georgia\", \"georgia\", \"FlOrIda\", \"south   carolina##\", \"West virginia?\"]\n",
    "clean_strings(states,clean_ops)"
   ]
  },
  {
   "cell_type": "markdown",
   "id": "ade7919d",
   "metadata": {},
   "source": [
    "### Lambda function"
   ]
  },
  {
   "cell_type": "code",
   "execution_count": 27,
   "id": "11635fae",
   "metadata": {},
   "outputs": [
    {
     "data": {
      "text/plain": [
       "[0, 4, 4, 16, 16, 25, 36, 36, 49, 49]"
      ]
     },
     "execution_count": 27,
     "metadata": {},
     "output_type": "execute_result"
    }
   ],
   "source": [
    "def test_func(some_list, f):\n",
    "    return [f(x) for x in some_list]\n",
    "\n",
    "test_func(oList, lambda x: x**2)\n"
   ]
  },
  {
   "cell_type": "markdown",
   "id": "e9463ed6",
   "metadata": {},
   "source": [
    "## To open & write file using the built in function"
   ]
  },
  {
   "cell_type": "code",
   "execution_count": 35,
   "id": "e4c437f2",
   "metadata": {},
   "outputs": [],
   "source": [
    "path = \"C:/Users/farea/Desktop/test.txt\"\n",
    "oFile = open(path, encoding = \"utf-8\")"
   ]
  },
  {
   "cell_type": "code",
   "execution_count": 36,
   "id": "f56074ce",
   "metadata": {},
   "outputs": [
    {
     "data": {
      "text/plain": [
       "['testing2 one to three',\n",
       " 'hi there,',\n",
       " '',\n",
       " 'just testing how to open a txt file,',\n",
       " 'here,',\n",
       " 'wish me luck',\n",
       " 'gg']"
      ]
     },
     "execution_count": 36,
     "metadata": {},
     "output_type": "execute_result"
    }
   ],
   "source": [
    "oLine = [x.rstrip() for x in oFile]\n",
    "oLine"
   ]
  },
  {
   "cell_type": "markdown",
   "id": "ddbac15b",
   "metadata": {},
   "source": [
    "it is best to close back the file that you just opened to reduce the running storage"
   ]
  },
  {
   "cell_type": "code",
   "execution_count": 37,
   "id": "65a8757a",
   "metadata": {},
   "outputs": [],
   "source": [
    "oFile.close()"
   ]
  },
  {
   "cell_type": "markdown",
   "id": "78e1c0a7",
   "metadata": {},
   "source": [
    "# Using NumPy\n",
    "we'll use NumPy because the array develop in NumPy can perform faster calculation compare to the usual list in Python. i.e, if use list need to use loop to do calculation on each of the list's element. But using ndarray, the computation will be done to all elements at once."
   ]
  },
  {
   "cell_type": "code",
   "execution_count": 2,
   "id": "8f5716b0",
   "metadata": {},
   "outputs": [],
   "source": [
    "import numpy as np"
   ]
  },
  {
   "cell_type": "code",
   "execution_count": 43,
   "id": "a1064306",
   "metadata": {},
   "outputs": [
    {
     "data": {
      "text/plain": [
       "array([ 1,  2,  3,  4,  5,  6,  7,  8,  9, 10, 11, 12, 13, 14, 15, 16, 17,\n",
       "       18, 19])"
      ]
     },
     "execution_count": 43,
     "metadata": {},
     "output_type": "execute_result"
    }
   ],
   "source": [
    "oRng = np.arange(1,20)\n",
    "oRng"
   ]
  },
  {
   "cell_type": "markdown",
   "id": "9b38794c",
   "metadata": {},
   "source": [
    "## 1d, 2d, 3d array"
   ]
  },
  {
   "cell_type": "code",
   "execution_count": 30,
   "id": "d42e636b",
   "metadata": {},
   "outputs": [],
   "source": [
    "arr1d = np.array([1,2,3,4])\n",
    "arr2d = np.array([[1,2,3], [4,5,6],[7,8,9]])"
   ]
  },
  {
   "cell_type": "code",
   "execution_count": 5,
   "id": "add852dc",
   "metadata": {},
   "outputs": [
    {
     "data": {
      "text/plain": [
       "4"
      ]
     },
     "execution_count": 5,
     "metadata": {},
     "output_type": "execute_result"
    }
   ],
   "source": [
    "arr1d[3]"
   ]
  },
  {
   "cell_type": "code",
   "execution_count": 6,
   "id": "c4ee6dde",
   "metadata": {},
   "outputs": [
    {
     "data": {
      "text/plain": [
       "array([4, 5, 6])"
      ]
     },
     "execution_count": 6,
     "metadata": {},
     "output_type": "execute_result"
    }
   ],
   "source": [
    "arr2d[1]"
   ]
  },
  {
   "cell_type": "code",
   "execution_count": 7,
   "id": "ff5fbd75",
   "metadata": {},
   "outputs": [
    {
     "data": {
      "text/plain": [
       "5"
      ]
     },
     "execution_count": 7,
     "metadata": {},
     "output_type": "execute_result"
    }
   ],
   "source": [
    "arr2d[1][1]"
   ]
  },
  {
   "cell_type": "code",
   "execution_count": 8,
   "id": "bef0ddde",
   "metadata": {},
   "outputs": [
    {
     "data": {
      "text/plain": [
       "5"
      ]
     },
     "execution_count": 8,
     "metadata": {},
     "output_type": "execute_result"
    }
   ],
   "source": [
    "arr2d[1,1]"
   ]
  },
  {
   "cell_type": "code",
   "execution_count": 11,
   "id": "301572ce",
   "metadata": {},
   "outputs": [
    {
     "data": {
      "text/plain": [
       "array([[1, 2, 3],\n",
       "       [4, 5, 6]])"
      ]
     },
     "execution_count": 11,
     "metadata": {},
     "output_type": "execute_result"
    }
   ],
   "source": [
    "arr2d[:2]"
   ]
  },
  {
   "cell_type": "code",
   "execution_count": 36,
   "id": "559a870b",
   "metadata": {},
   "outputs": [
    {
     "data": {
      "text/plain": [
       "array([1, 4, 7])"
      ]
     },
     "execution_count": 36,
     "metadata": {},
     "output_type": "execute_result"
    }
   ],
   "source": [
    "arr2d[:3,0]"
   ]
  },
  {
   "cell_type": "markdown",
   "id": "8db77ba3",
   "metadata": {},
   "source": [
    "## Boolean Indexing\n",
    "### can be useful when we want to do calculation on certain row of an array\n",
    "\n",
    "Note: The length for the boolean array must equal to the length of array that we want to filter\n"
   ]
  },
  {
   "cell_type": "code",
   "execution_count": 39,
   "id": "9771a375",
   "metadata": {},
   "outputs": [],
   "source": [
    "names = np.array([\"Bob\", \"Joe\", \"Will\", \"Bob\", \"Will\", \"Joe\", \"Joe\"])\n",
    "data = np.array([[4, 7], [0, 2], [-5, 6], [0, 0], [1, 2], [-12, -4], [3, 4]])"
   ]
  },
  {
   "cell_type": "code",
   "execution_count": 40,
   "id": "6d879aaa",
   "metadata": {},
   "outputs": [
    {
     "data": {
      "text/plain": [
       "array([ True, False, False,  True, False, False, False])"
      ]
     },
     "execution_count": 40,
     "metadata": {},
     "output_type": "execute_result"
    }
   ],
   "source": [
    "names == \"Bob\""
   ]
  },
  {
   "cell_type": "code",
   "execution_count": 41,
   "id": "44484697",
   "metadata": {},
   "outputs": [
    {
     "data": {
      "text/plain": [
       "array([[4, 7],\n",
       "       [0, 0]])"
      ]
     },
     "execution_count": 41,
     "metadata": {},
     "output_type": "execute_result"
    }
   ],
   "source": [
    "data[names == \"Bob\"]"
   ]
  },
  {
   "cell_type": "markdown",
   "id": "86659399",
   "metadata": {},
   "source": [
    "We also can set the boolean index directly by using expression as below"
   ]
  },
  {
   "cell_type": "code",
   "execution_count": 42,
   "id": "200e4a53",
   "metadata": {},
   "outputs": [
    {
     "data": {
      "text/plain": [
       "array([ -5, -12,  -4])"
      ]
     },
     "execution_count": 42,
     "metadata": {},
     "output_type": "execute_result"
    }
   ],
   "source": [
    "data[data < 0]"
   ]
  },
  {
   "cell_type": "code",
   "execution_count": 43,
   "id": "323a7395",
   "metadata": {},
   "outputs": [
    {
     "data": {
      "text/plain": [
       "array([[4, 7],\n",
       "       [0, 2],\n",
       "       [0, 6],\n",
       "       [0, 0],\n",
       "       [1, 2],\n",
       "       [0, 0],\n",
       "       [3, 4]])"
      ]
     },
     "execution_count": 43,
     "metadata": {},
     "output_type": "execute_result"
    }
   ],
   "source": [
    "data[data < 0] = 0\n",
    "data"
   ]
  },
  {
   "cell_type": "markdown",
   "id": "72a70f2c",
   "metadata": {},
   "source": [
    "## Fancy Indexing\n",
    "### Indexing using integer arrays"
   ]
  },
  {
   "cell_type": "code",
   "execution_count": 48,
   "id": "a9ab60e8",
   "metadata": {},
   "outputs": [
    {
     "data": {
      "text/plain": [
       "array([[0., 0., 0., 0.],\n",
       "       [1., 1., 1., 1.],\n",
       "       [2., 2., 2., 2.],\n",
       "       [3., 3., 3., 3.],\n",
       "       [4., 4., 4., 4.],\n",
       "       [5., 5., 5., 5.],\n",
       "       [6., 6., 6., 6.],\n",
       "       [7., 7., 7., 7.]])"
      ]
     },
     "execution_count": 48,
     "metadata": {},
     "output_type": "execute_result"
    }
   ],
   "source": [
    "arr1d = np.zeros((8,4))\n",
    "for i in range(8):\n",
    "    arr1d[i]=i\n",
    "arr1d"
   ]
  },
  {
   "cell_type": "code",
   "execution_count": 49,
   "id": "a0da1215",
   "metadata": {},
   "outputs": [
    {
     "data": {
      "text/plain": [
       "array([[4., 4., 4., 4.],\n",
       "       [5., 5., 5., 5.],\n",
       "       [1., 1., 1., 1.],\n",
       "       [0., 0., 0., 0.]])"
      ]
     },
     "execution_count": 49,
     "metadata": {},
     "output_type": "execute_result"
    }
   ],
   "source": [
    "arr1d[[4,5,1,0]]"
   ]
  },
  {
   "cell_type": "markdown",
   "id": "d10ba797",
   "metadata": {},
   "source": [
    "## Transpose and swap axes"
   ]
  },
  {
   "cell_type": "code",
   "execution_count": 50,
   "id": "2fa2f4c1",
   "metadata": {},
   "outputs": [
    {
     "data": {
      "text/plain": [
       "array([[0., 1., 2., 3., 4., 5., 6., 7.],\n",
       "       [0., 1., 2., 3., 4., 5., 6., 7.],\n",
       "       [0., 1., 2., 3., 4., 5., 6., 7.],\n",
       "       [0., 1., 2., 3., 4., 5., 6., 7.]])"
      ]
     },
     "execution_count": 50,
     "metadata": {},
     "output_type": "execute_result"
    }
   ],
   "source": [
    "arr1d.T"
   ]
  },
  {
   "cell_type": "code",
   "execution_count": 51,
   "id": "0bce25b2",
   "metadata": {},
   "outputs": [
    {
     "data": {
      "text/plain": [
       "array([[0., 1., 2., 3., 4., 5., 6., 7.],\n",
       "       [0., 1., 2., 3., 4., 5., 6., 7.],\n",
       "       [0., 1., 2., 3., 4., 5., 6., 7.],\n",
       "       [0., 1., 2., 3., 4., 5., 6., 7.]])"
      ]
     },
     "execution_count": 51,
     "metadata": {},
     "output_type": "execute_result"
    }
   ],
   "source": [
    "arr1d.swapaxes(0,1)"
   ]
  },
  {
   "cell_type": "code",
   "execution_count": 57,
   "id": "cef1c9bd",
   "metadata": {},
   "outputs": [
    {
     "data": {
      "text/plain": [
       "array([[0., 1., 2., 3., 4., 5., 6., 7.],\n",
       "       [0., 1., 2., 3., 4., 5., 6., 7.],\n",
       "       [0., 1., 2., 3., 4., 5., 6., 7.],\n",
       "       [0., 1., 2., 3., 4., 5., 6., 7.]])"
      ]
     },
     "execution_count": 57,
     "metadata": {},
     "output_type": "execute_result"
    }
   ],
   "source": [
    "arr1d.swapaxes(1, 0)"
   ]
  },
  {
   "cell_type": "markdown",
   "id": "cf292fc8",
   "metadata": {},
   "source": [
    "# Array-oriented programming\n",
    "### Using arrays for computations"
   ]
  },
  {
   "cell_type": "code",
   "execution_count": 69,
   "id": "cb5c55a7",
   "metadata": {},
   "outputs": [
    {
     "data": {
      "text/plain": [
       "array([[-5.  , -4.99, -4.98, ...,  4.97,  4.98,  4.99],\n",
       "       [-5.  , -4.99, -4.98, ...,  4.97,  4.98,  4.99],\n",
       "       [-5.  , -4.99, -4.98, ...,  4.97,  4.98,  4.99],\n",
       "       ...,\n",
       "       [-5.  , -4.99, -4.98, ...,  4.97,  4.98,  4.99],\n",
       "       [-5.  , -4.99, -4.98, ...,  4.97,  4.98,  4.99],\n",
       "       [-5.  , -4.99, -4.98, ...,  4.97,  4.98,  4.99]])"
      ]
     },
     "execution_count": 69,
     "metadata": {},
     "output_type": "execute_result"
    }
   ],
   "source": [
    "points = np.arange(-5,5,0.01)\n",
    "xs, ys = np.meshgrid(points, points)\n",
    "xs"
   ]
  },
  {
   "cell_type": "code",
   "execution_count": 70,
   "id": "60da19ed",
   "metadata": {},
   "outputs": [
    {
     "data": {
      "text/plain": [
       "array([[-5.  , -5.  , -5.  , ..., -5.  , -5.  , -5.  ],\n",
       "       [-4.99, -4.99, -4.99, ..., -4.99, -4.99, -4.99],\n",
       "       [-4.98, -4.98, -4.98, ..., -4.98, -4.98, -4.98],\n",
       "       ...,\n",
       "       [ 4.97,  4.97,  4.97, ...,  4.97,  4.97,  4.97],\n",
       "       [ 4.98,  4.98,  4.98, ...,  4.98,  4.98,  4.98],\n",
       "       [ 4.99,  4.99,  4.99, ...,  4.99,  4.99,  4.99]])"
      ]
     },
     "execution_count": 70,
     "metadata": {},
     "output_type": "execute_result"
    }
   ],
   "source": [
    "ys"
   ]
  },
  {
   "cell_type": "code",
   "execution_count": 71,
   "id": "ff3956bb",
   "metadata": {},
   "outputs": [],
   "source": [
    "z=np.sqrt(xs**2 + ys**2)"
   ]
  },
  {
   "cell_type": "code",
   "execution_count": 72,
   "id": "329ea03d",
   "metadata": {},
   "outputs": [
    {
     "data": {
      "text/plain": [
       "Text(0.5, 1.0, 'Image plot of $\\\\sqrt{x^2 + y^2}$ for a grid of values')"
      ]
     },
     "execution_count": 72,
     "metadata": {},
     "output_type": "execute_result"
    },
    {
     "data": {
      "image/png": "[encoded data removed]",
      "text/plain": [
       "<Figure size 640x480 with 2 Axes>"
      ]
     },
     "metadata": {},
     "output_type": "display_data"
    }
   ],
   "source": [
    "import matplotlib.pyplot as plt\n",
    "\n",
    "plt.imshow(z, cmap=plt.cm.gray, extent=[-5, 5, -5, 5])\n",
    "\n",
    "plt.colorbar()\n",
    "\n",
    "plt.title(\"Image plot of $\\sqrt{x^2 + y^2}$ for a grid of values\")\n"
   ]
  },
  {
   "cell_type": "markdown",
   "id": "6447c42f",
   "metadata": {},
   "source": [
    "additional example of an array-oriented programming is as follow"
   ]
  },
  {
   "cell_type": "code",
   "execution_count": 73,
   "id": "481e70e2",
   "metadata": {},
   "outputs": [],
   "source": [
    "oCond = np.array([True,True,False,False,False,True,False,True,False,False])\n",
    "xs = np.arange(-1,-11,-1)\n",
    "ys = np.arange(1,11,1)"
   ]
  },
  {
   "cell_type": "code",
   "execution_count": 75,
   "id": "c41f1c39",
   "metadata": {},
   "outputs": [
    {
     "data": {
      "text/plain": [
       "array([-1, -2,  3,  4,  5, -6,  7, -8,  9, 10])"
      ]
     },
     "execution_count": 75,
     "metadata": {},
     "output_type": "execute_result"
    }
   ],
   "source": [
    "np.where(oCond,xs,ys)"
   ]
  },
  {
   "cell_type": "markdown",
   "id": "4326e689",
   "metadata": {},
   "source": [
    "Note: The 2nd & 3rd argument of 'where' method can be array or scalar"
   ]
  },
  {
   "cell_type": "markdown",
   "id": "8cb42907",
   "metadata": {},
   "source": [
    "## Math & Statistical method frequently used with NumPy\n",
    "### Aggregations / reductions"
   ]
  },
  {
   "cell_type": "code",
   "execution_count": 78,
   "id": "21234eef",
   "metadata": {},
   "outputs": [
    {
     "data": {
      "text/plain": [
       "array([[-1.42382504,  1.26372846, -0.87066174, -0.25917323],\n",
       "       [-0.07534331, -0.74088465, -1.3677927 ,  0.6488928 ],\n",
       "       [ 0.36105811, -1.95286306,  2.34740965,  0.96849691],\n",
       "       [-0.75938718,  0.90219827, -0.46695317, -0.06068952],\n",
       "       [ 0.78884434, -1.25666813,  0.57585751,  1.39897899]])"
      ]
     },
     "execution_count": 78,
     "metadata": {},
     "output_type": "execute_result"
    }
   ],
   "source": [
    "rng = np.random.default_rng(seed=12345)\n",
    "arr = rng.standard_normal((5, 4))\n",
    "arr"
   ]
  },
  {
   "cell_type": "code",
   "execution_count": 79,
   "id": "6a28cfa0",
   "metadata": {},
   "outputs": [
    {
     "data": {
      "text/plain": [
       "0.0010611661248891013"
      ]
     },
     "execution_count": 79,
     "metadata": {},
     "output_type": "execute_result"
    }
   ],
   "source": [
    "np.mean(arr)"
   ]
  },
  {
   "cell_type": "code",
   "execution_count": 80,
   "id": "8b8254a5",
   "metadata": {},
   "outputs": [
    {
     "data": {
      "text/plain": [
       "0.0010611661248891013"
      ]
     },
     "execution_count": 80,
     "metadata": {},
     "output_type": "execute_result"
    }
   ],
   "source": [
    "arr.mean()"
   ]
  },
  {
   "cell_type": "code",
   "execution_count": 81,
   "id": "fd0880b7",
   "metadata": {},
   "outputs": [
    {
     "data": {
      "text/plain": [
       "array([-0.32248289, -0.38378196,  0.4310254 , -0.0962079 ,  0.37675318])"
      ]
     },
     "execution_count": 81,
     "metadata": {},
     "output_type": "execute_result"
    }
   ],
   "source": [
    "arr.mean(axis=1)"
   ]
  },
  {
   "cell_type": "code",
   "execution_count": 82,
   "id": "17c3f663",
   "metadata": {},
   "outputs": [
    {
     "data": {
      "text/plain": [
       "array([-0.22173061, -0.35689782,  0.04357191,  0.53930119])"
      ]
     },
     "execution_count": 82,
     "metadata": {},
     "output_type": "execute_result"
    }
   ],
   "source": [
    "arr.mean(axis=0)"
   ]
  },
  {
   "cell_type": "markdown",
   "id": "ab1d1fd5",
   "metadata": {},
   "source": [
    "## Array set operations \n",
    "* unique(x)\n",
    "* intersect1d(x,y)\n",
    "* in1d(x,y) -> a boolean array indicating if each x is in y\n",
    "* union1d(x,y)\n",
    "* setdiff1d(x,y) -> show elements in x that are not in y\n",
    "* setxor1d(x,y) -> show elements in x or y that is not in both x & y"
   ]
  },
  {
   "cell_type": "markdown",
   "id": "c1560ce8",
   "metadata": {},
   "source": [
    "## Linear Algebra with NumPy\n",
    "\n",
    "can use numpy.linalg method\n",
    "* diag = Return the diagonal (or off-diagonal) elements of a square matrix as a 1D array, or convert a 1D array into a square matrix with zeros on the off-diagonal\n",
    "* dot = Matrix multiplication\n",
    "* trace = Compute the sum of the diagonal elements\n",
    "* det = Compute the matrix determinant\n",
    "* eig = Compute the eigenvalues and eigenvectors of a square matrix\n",
    "* inv = Compute the inverse of a square matrix\n",
    "* pinv = Compute the Moore-Penrose pseudoinverse of a matrix\n",
    "* qr = Compute the QR decomposition\n",
    "* svd = Compute the singular value decomposition (SVD)\n",
    "* solve = Solve the linear system Ax = b for x, where A is a square matrix\n",
    "* lstsq = Compute the least-squares solution to Ax = b"
   ]
  },
  {
   "cell_type": "markdown",
   "id": "3d38df19",
   "metadata": {},
   "source": [
    "Simulating Random Walk using NumPy"
   ]
  },
  {
   "cell_type": "code",
   "execution_count": 9,
   "id": "55edea2e",
   "metadata": {},
   "outputs": [
    {
     "data": {
      "image/png": "[encoded data removed]",
      "text/plain": [
       "<Figure size 640x480 with 1 Axes>"
      ]
     },
     "metadata": {},
     "output_type": "display_data"
    }
   ],
   "source": [
    "import random\n",
    "position=0\n",
    "steps=1000\n",
    "oLocation = [position]\n",
    "for i in range(steps):\n",
    "    if random.randint(0,1)==1:\n",
    "        i=1\n",
    "    else:\n",
    "        i=-1\n",
    "    position += i\n",
    "    oLocation.append(position)\n",
    "\n",
    "fig, ax = plt.subplots(1,1)\n",
    "ax = plt.plot(oLocation)"
   ]
  },
  {
   "cell_type": "markdown",
   "id": "f11db9b0",
   "metadata": {},
   "source": [
    "# Data Visualization with matplotlib"
   ]
  },
  {
   "cell_type": "markdown",
   "id": "8c494e1a",
   "metadata": {},
   "source": [
    "We'll use the convention below to import matplotlib"
   ]
  },
  {
   "cell_type": "code",
   "execution_count": 5,
   "id": "30f4bc3b",
   "metadata": {},
   "outputs": [],
   "source": [
    "import matplotlib.pyplot as plt"
   ]
  },
  {
   "cell_type": "code",
   "execution_count": 4,
   "id": "af9a2bd4",
   "metadata": {},
   "outputs": [
    {
     "data": {
      "text/plain": [
       "array([0, 1, 2, 3, 4, 5, 6, 7, 8, 9])"
      ]
     },
     "execution_count": 4,
     "metadata": {},
     "output_type": "execute_result"
    }
   ],
   "source": [
    "data = np.arange(10)\n",
    "data"
   ]
  },
  {
   "cell_type": "code",
   "execution_count": 15,
   "id": "eedfcdfa",
   "metadata": {},
   "outputs": [
    {
     "data": {
      "image/png": "[encoded data removed]",
      "text/plain": [
       "<Figure size 640x480 with 1 Axes>"
      ]
     },
     "metadata": {},
     "output_type": "display_data"
    }
   ],
   "source": [
    "plt.plot(data);"
   ]
  },
  {
   "cell_type": "markdown",
   "id": "728d793e",
   "metadata": {},
   "source": [
    "As per standard, we'll produce our plot inside a figure, where in this figure, we'll populate our data inside subplot"
   ]
  },
  {
   "cell_type": "code",
   "execution_count": 14,
   "id": "f59ec21e",
   "metadata": {},
   "outputs": [
    {
     "data": {
      "image/png": "[encoded data removed]",
      "text/plain": [
       "<Figure size 640x480 with 3 Axes>"
      ]
     },
     "metadata": {},
     "output_type": "display_data"
    }
   ],
   "source": [
    "fig = plt.figure()\n",
    "ax1 = fig.add_subplot(2,2,1)\n",
    "ax2 = fig.add_subplot(2,2,2)\n",
    "ax3 = fig.add_subplot(2,2,3)"
   ]
  },
  {
   "cell_type": "markdown",
   "id": "581e692b",
   "metadata": {},
   "source": [
    "Another way to create subplot quickly is by using 'subplots' method as below"
   ]
  },
  {
   "cell_type": "code",
   "execution_count": 16,
   "id": "79ad0590",
   "metadata": {},
   "outputs": [
    {
     "data": {
      "text/plain": [
       "array([[<AxesSubplot:>, <AxesSubplot:>],\n",
       "       [<AxesSubplot:>, <AxesSubplot:>]], dtype=object)"
      ]
     },
     "execution_count": 16,
     "metadata": {},
     "output_type": "execute_result"
    },
    {
     "data": {
      "image/png": "[encoded data removed]",
      "text/plain": [
       "<Figure size 640x480 with 4 Axes>"
      ]
     },
     "metadata": {},
     "output_type": "display_data"
    }
   ],
   "source": [
    "fig, axs = plt.subplots(2,2)\n",
    "axs"
   ]
  },
  {
   "cell_type": "code",
   "execution_count": 20,
   "id": "ab1091b9",
   "metadata": {},
   "outputs": [
    {
     "data": {
      "image/png": "[encoded data removed]",
      "text/plain": [
       "<Figure size 640x480 with 4 Axes>"
      ]
     },
     "metadata": {},
     "output_type": "display_data"
    }
   ],
   "source": [
    "fig, axs = plt.subplots(2,2)\n",
    "axs[1,0].scatter(np.arange(30), np.arange(30) + 3 * np.random.standard_normal\n",
    "(30));"
   ]
  },
  {
   "cell_type": "markdown",
   "id": "6ff81e0a",
   "metadata": {},
   "source": [
    "# Getting started with Pandas\n",
    "This library is often used to help cleaning data and analysis fast & convenient in Python.\n",
    "\n",
    "It is often used in tandem with other numerical computing tools such as NumPy, scipy, statsmodel, & scikit.\n",
    "\n",
    "The convention style that we'll use when using pandas is as below"
   ]
  },
  {
   "cell_type": "code",
   "execution_count": 2,
   "id": "f7f64714",
   "metadata": {},
   "outputs": [],
   "source": [
    "import pandas as pd\n",
    "from pandas import Series, DataFrame"
   ]
  },
  {
   "cell_type": "markdown",
   "id": "a72e92f4",
   "metadata": {},
   "source": [
    "### Series\n",
    "Is a 1d array like object with elements must be of the same type."
   ]
  },
  {
   "cell_type": "code",
   "execution_count": 13,
   "id": "6310b0d7",
   "metadata": {},
   "outputs": [
    {
     "data": {
      "text/plain": [
       "0    2\n",
       "1    4\n",
       "2    5\n",
       "3    6\n",
       "dtype: int64"
      ]
     },
     "execution_count": 13,
     "metadata": {},
     "output_type": "execute_result"
    }
   ],
   "source": [
    "obj = Series([2,4,5,6])\n",
    "obj"
   ]
  },
  {
   "cell_type": "markdown",
   "id": "e62f3bc9",
   "metadata": {},
   "source": [
    "Note on the left of our series is the index for each element of the series. Often, we'll want to create a Series with an index identifying each data point with a label"
   ]
  },
  {
   "cell_type": "code",
   "execution_count": 15,
   "id": "44cb24cb",
   "metadata": {},
   "outputs": [
    {
     "data": {
      "text/plain": [
       "d    2\n",
       "c    4\n",
       "b    5\n",
       "a    6\n",
       "dtype: int64"
      ]
     },
     "execution_count": 15,
     "metadata": {},
     "output_type": "execute_result"
    }
   ],
   "source": [
    "obj = Series([2,4,5,6], index=[\"d\",\"c\",\"b\",\"a\"])\n",
    "obj"
   ]
  },
  {
   "cell_type": "code",
   "execution_count": 16,
   "id": "df612960",
   "metadata": {},
   "outputs": [
    {
     "data": {
      "text/plain": [
       "5"
      ]
     },
     "execution_count": 16,
     "metadata": {},
     "output_type": "execute_result"
    }
   ],
   "source": [
    "obj[\"b\"]"
   ]
  },
  {
   "cell_type": "markdown",
   "id": "ce95db6f",
   "metadata": {},
   "source": [
    "In case we have a dictionary, we can pass it into Series too"
   ]
  },
  {
   "cell_type": "code",
   "execution_count": 17,
   "id": "fa088693",
   "metadata": {},
   "outputs": [
    {
     "data": {
      "text/plain": [
       "MY     20\n",
       "UK      3\n",
       "CA     14\n",
       "INA     7\n",
       "dtype: int64"
      ]
     },
     "execution_count": 17,
     "metadata": {},
     "output_type": "execute_result"
    }
   ],
   "source": [
    "oDict = {\"MY\":20, \"UK\":3, \"CA\": 14, \"INA\":7}\n",
    "obj = pd.Series(oDict)\n",
    "obj"
   ]
  },
  {
   "cell_type": "code",
   "execution_count": 18,
   "id": "0c2eed4f",
   "metadata": {},
   "outputs": [
    {
     "data": {
      "text/plain": [
       "{'MY': 20, 'UK': 3, 'CA': 14, 'INA': 7}"
      ]
     },
     "execution_count": 18,
     "metadata": {},
     "output_type": "execute_result"
    }
   ],
   "source": [
    "obj.to_dict()"
   ]
  },
  {
   "cell_type": "markdown",
   "id": "fc049fba",
   "metadata": {},
   "source": [
    "Why use Series/DataFrame? Because the index is useful when performing calculation (it has data alignment features or in database, we call it as the join operation). For instance:"
   ]
  },
  {
   "cell_type": "code",
   "execution_count": 25,
   "id": "c340f7e1",
   "metadata": {},
   "outputs": [
    {
     "data": {
      "text/plain": [
       "CA     16.0\n",
       "INA    39.0\n",
       "MY     21.0\n",
       "UK      NaN\n",
       "US      NaN\n",
       "dtype: object"
      ]
     },
     "execution_count": 25,
     "metadata": {},
     "output_type": "execute_result"
    }
   ],
   "source": [
    "obj=pd.Series(oDict)\n",
    "obj1=pd.Series({\"US\":False, \"MY\":1,\"INA\":32,\"CA\":2})\n",
    "obj + obj1"
   ]
  },
  {
   "cell_type": "markdown",
   "id": "f1f797ed",
   "metadata": {},
   "source": [
    "We can use name attribute to further clarify what our Series object is."
   ]
  },
  {
   "cell_type": "code",
   "execution_count": 26,
   "id": "e7a417c4",
   "metadata": {},
   "outputs": [
    {
     "data": {
      "text/plain": [
       "State\n",
       "MY     20\n",
       "UK      3\n",
       "CA     14\n",
       "INA     7\n",
       "Name: Testing data, dtype: int64"
      ]
     },
     "execution_count": 26,
     "metadata": {},
     "output_type": "execute_result"
    }
   ],
   "source": [
    "obj.name = \"Testing data\"\n",
    "obj.index.name = \"State\"\n",
    "obj"
   ]
  },
  {
   "cell_type": "markdown",
   "id": "debd614f",
   "metadata": {},
   "source": [
    "### DataFrame\n",
    "It is a collection of columns that can be of different value type (int, string, float, etc.). We can think of it as a dictionary of many Series."
   ]
  },
  {
   "cell_type": "code",
   "execution_count": 3,
   "id": "503c4ad5",
   "metadata": {},
   "outputs": [
    {
     "data": {
      "text/html": [
       "<div>\n",
       "<style scoped>\n",
       "    .dataframe tbody tr th:only-of-type {\n",
       "        vertical-align: middle;\n",
       "    }\n",
       "\n",
       "    .dataframe tbody tr th {\n",
       "        vertical-align: top;\n",
       "    }\n",
       "\n",
       "    .dataframe thead th {\n",
       "        text-align: right;\n",
       "    }\n",
       "</style>\n",
       "<table border=\"1\" class=\"dataframe\">\n",
       "  <thead>\n",
       "    <tr style=\"text-align: right;\">\n",
       "      <th></th>\n",
       "      <th>class</th>\n",
       "      <th>marks</th>\n",
       "      <th>stud</th>\n",
       "    </tr>\n",
       "  </thead>\n",
       "  <tbody>\n",
       "    <tr>\n",
       "      <th>0</th>\n",
       "      <td>3a</td>\n",
       "      <td>23</td>\n",
       "      <td>45</td>\n",
       "    </tr>\n",
       "    <tr>\n",
       "      <th>1</th>\n",
       "      <td>4b</td>\n",
       "      <td>24</td>\n",
       "      <td>43</td>\n",
       "    </tr>\n",
       "    <tr>\n",
       "      <th>2</th>\n",
       "      <td>3c</td>\n",
       "      <td>21</td>\n",
       "      <td>43</td>\n",
       "    </tr>\n",
       "  </tbody>\n",
       "</table>\n",
       "</div>"
      ],
      "text/plain": [
       "  class  marks  stud\n",
       "0    3a     23    45\n",
       "1    4b     24    43\n",
       "2    3c     21    43"
      ]
     },
     "execution_count": 3,
     "metadata": {},
     "output_type": "execute_result"
    }
   ],
   "source": [
    "obj = {\"class\":[\"3a\",\"4b\",\"3c\"], \"marks\":[23,24,21], \"stud\":[45,43,43]}\n",
    "obj = pd.DataFrame(obj)\n",
    "obj"
   ]
  },
  {
   "cell_type": "markdown",
   "id": "548d1e98",
   "metadata": {},
   "source": [
    "Just like Series, each columns of the DataFrame has already been assigned by the name attribute"
   ]
  },
  {
   "cell_type": "code",
   "execution_count": 32,
   "id": "011fe284",
   "metadata": {},
   "outputs": [
    {
     "data": {
      "text/plain": [
       "0    23\n",
       "1    24\n",
       "2    21\n",
       "Name: marks, dtype: int64"
      ]
     },
     "execution_count": 32,
     "metadata": {},
     "output_type": "execute_result"
    }
   ],
   "source": [
    "obj.marks"
   ]
  },
  {
   "cell_type": "markdown",
   "id": "42dce243",
   "metadata": {},
   "source": [
    "If assigning list or array, the length of element must match with the DataFrame object. But if you assigned Series, we can use the index to realigned the data."
   ]
  },
  {
   "cell_type": "code",
   "execution_count": 4,
   "id": "b902bfb4",
   "metadata": {},
   "outputs": [
    {
     "data": {
      "text/html": [
       "<div>\n",
       "<style scoped>\n",
       "    .dataframe tbody tr th:only-of-type {\n",
       "        vertical-align: middle;\n",
       "    }\n",
       "\n",
       "    .dataframe tbody tr th {\n",
       "        vertical-align: top;\n",
       "    }\n",
       "\n",
       "    .dataframe thead th {\n",
       "        text-align: right;\n",
       "    }\n",
       "</style>\n",
       "<table border=\"1\" class=\"dataframe\">\n",
       "  <thead>\n",
       "    <tr style=\"text-align: right;\">\n",
       "      <th></th>\n",
       "      <th>class</th>\n",
       "      <th>marks</th>\n",
       "      <th>stud</th>\n",
       "      <th>debt</th>\n",
       "    </tr>\n",
       "  </thead>\n",
       "  <tbody>\n",
       "    <tr>\n",
       "      <th>0</th>\n",
       "      <td>3a</td>\n",
       "      <td>23</td>\n",
       "      <td>45</td>\n",
       "      <td>-1.7</td>\n",
       "    </tr>\n",
       "    <tr>\n",
       "      <th>1</th>\n",
       "      <td>4b</td>\n",
       "      <td>24</td>\n",
       "      <td>43</td>\n",
       "      <td>-1.2</td>\n",
       "    </tr>\n",
       "    <tr>\n",
       "      <th>2</th>\n",
       "      <td>3c</td>\n",
       "      <td>21</td>\n",
       "      <td>43</td>\n",
       "      <td>-1.5</td>\n",
       "    </tr>\n",
       "  </tbody>\n",
       "</table>\n",
       "</div>"
      ],
      "text/plain": [
       "  class  marks  stud  debt\n",
       "0    3a     23    45  -1.7\n",
       "1    4b     24    43  -1.2\n",
       "2    3c     21    43  -1.5"
      ]
     },
     "execution_count": 4,
     "metadata": {},
     "output_type": "execute_result"
    }
   ],
   "source": [
    "val = pd.Series([-1.2, -1.5, -1.7], index=[1,2,0])\n",
    "obj[\"debt\"] = val\n",
    "obj"
   ]
  },
  {
   "cell_type": "markdown",
   "id": "fe4b8aa2",
   "metadata": {},
   "source": [
    "Another common form of data is a nested dictionary of dictionaries. If the nested dictionary is passed to the DataFrame, pandas will interpret the outer dictionary keys as the columns, and the inner keys as the row indices.\n",
    "\n",
    "### Useful function for Series or DataFrame\n",
    "\n",
    "* reindex()\n",
    "* reindex(  , method=\"ffill\") or \"bfill\"\n",
    "* reindex(index=[])\n",
    "* reindex(columns=[])\n",
    "* reindex(fill_value = \"missing\")\n",
    "\n",
    "reindex using loc can be done if the index is already existed in the DataFrame. The method of reindex using loc or iloc is useful since it will not introduce missing value inside our DataFrame object.\n"
   ]
  },
  {
   "cell_type": "code",
   "execution_count": 6,
   "id": "dcd9a427",
   "metadata": {},
   "outputs": [
    {
     "data": {
      "text/html": [
       "<div>\n",
       "<style scoped>\n",
       "    .dataframe tbody tr th:only-of-type {\n",
       "        vertical-align: middle;\n",
       "    }\n",
       "\n",
       "    .dataframe tbody tr th {\n",
       "        vertical-align: top;\n",
       "    }\n",
       "\n",
       "    .dataframe thead th {\n",
       "        text-align: right;\n",
       "    }\n",
       "</style>\n",
       "<table border=\"1\" class=\"dataframe\">\n",
       "  <thead>\n",
       "    <tr style=\"text-align: right;\">\n",
       "      <th></th>\n",
       "      <th>debt</th>\n",
       "      <th>stud</th>\n",
       "      <th>marks</th>\n",
       "    </tr>\n",
       "  </thead>\n",
       "  <tbody>\n",
       "    <tr>\n",
       "      <th>2</th>\n",
       "      <td>-1.5</td>\n",
       "      <td>43</td>\n",
       "      <td>21</td>\n",
       "    </tr>\n",
       "    <tr>\n",
       "      <th>1</th>\n",
       "      <td>-1.2</td>\n",
       "      <td>43</td>\n",
       "      <td>24</td>\n",
       "    </tr>\n",
       "    <tr>\n",
       "      <th>0</th>\n",
       "      <td>-1.7</td>\n",
       "      <td>45</td>\n",
       "      <td>23</td>\n",
       "    </tr>\n",
       "  </tbody>\n",
       "</table>\n",
       "</div>"
      ],
      "text/plain": [
       "   debt  stud  marks\n",
       "2  -1.5    43     21\n",
       "1  -1.2    43     24\n",
       "0  -1.7    45     23"
      ]
     },
     "execution_count": 6,
     "metadata": {},
     "output_type": "execute_result"
    }
   ],
   "source": [
    "obj.loc[[2,1,0], [\"debt\",\"stud\",\"marks\"]]"
   ]
  },
  {
   "cell_type": "code",
   "execution_count": 4,
   "id": "2a6c13d0",
   "metadata": {},
   "outputs": [
    {
     "name": "stdout",
     "output_type": "stream",
     "text": [
      "cannot be done because column 'testing' do not exist\n"
     ]
    }
   ],
   "source": [
    "try:\n",
    "    obj.loc[[0,1,2], [\"debt\",\"stud\",\"marks\",\"testing\"]]\n",
    "    print(\"great\")\n",
    "except:\n",
    "    print(\"cannot be done because column 'testing' do not exist\")"
   ]
  },
  {
   "cell_type": "code",
   "execution_count": null,
   "id": "422eea44",
   "metadata": {},
   "outputs": [],
   "source": [
    "np.sqrt"
   ]
  },
  {
   "cell_type": "markdown",
   "id": "d5354be9",
   "metadata": {},
   "source": [
    "* drop()\n",
    "* when indexing/slicing, for loc must be label based (\"column/row label must present, else, will throw error\").\n",
    "  For iloc, must be integer based (\"column/row integer index must present\").\n",
    "* boolean arrays can be used with loc but not iloc"
   ]
  },
  {
   "cell_type": "code",
   "execution_count": 9,
   "id": "12fe427e",
   "metadata": {},
   "outputs": [
    {
     "data": {
      "text/html": [
       "<div>\n",
       "<style scoped>\n",
       "    .dataframe tbody tr th:only-of-type {\n",
       "        vertical-align: middle;\n",
       "    }\n",
       "\n",
       "    .dataframe tbody tr th {\n",
       "        vertical-align: top;\n",
       "    }\n",
       "\n",
       "    .dataframe thead th {\n",
       "        text-align: right;\n",
       "    }\n",
       "</style>\n",
       "<table border=\"1\" class=\"dataframe\">\n",
       "  <thead>\n",
       "    <tr style=\"text-align: right;\">\n",
       "      <th></th>\n",
       "      <th>class</th>\n",
       "      <th>marks</th>\n",
       "      <th>stud</th>\n",
       "    </tr>\n",
       "  </thead>\n",
       "  <tbody>\n",
       "    <tr>\n",
       "      <th>0</th>\n",
       "      <td>3a</td>\n",
       "      <td>23</td>\n",
       "      <td>45</td>\n",
       "    </tr>\n",
       "    <tr>\n",
       "      <th>1</th>\n",
       "      <td>4b</td>\n",
       "      <td>24</td>\n",
       "      <td>43</td>\n",
       "    </tr>\n",
       "    <tr>\n",
       "      <th>2</th>\n",
       "      <td>3c</td>\n",
       "      <td>21</td>\n",
       "      <td>43</td>\n",
       "    </tr>\n",
       "  </tbody>\n",
       "</table>\n",
       "</div>"
      ],
      "text/plain": [
       "  class  marks  stud\n",
       "0    3a     23    45\n",
       "1    4b     24    43\n",
       "2    3c     21    43"
      ]
     },
     "execution_count": 9,
     "metadata": {},
     "output_type": "execute_result"
    }
   ],
   "source": [
    "new_obj = obj.drop(\"debt\", axis=\"columns\")\n",
    "new_obj"
   ]
  },
  {
   "cell_type": "code",
   "execution_count": 5,
   "id": "7f309387",
   "metadata": {},
   "outputs": [
    {
     "data": {
      "text/html": [
       "<div>\n",
       "<style scoped>\n",
       "    .dataframe tbody tr th:only-of-type {\n",
       "        vertical-align: middle;\n",
       "    }\n",
       "\n",
       "    .dataframe tbody tr th {\n",
       "        vertical-align: top;\n",
       "    }\n",
       "\n",
       "    .dataframe thead th {\n",
       "        text-align: right;\n",
       "    }\n",
       "</style>\n",
       "<table border=\"1\" class=\"dataframe\">\n",
       "  <thead>\n",
       "    <tr style=\"text-align: right;\">\n",
       "      <th></th>\n",
       "      <th>class</th>\n",
       "      <th>marks</th>\n",
       "      <th>stud</th>\n",
       "      <th>debt</th>\n",
       "    </tr>\n",
       "  </thead>\n",
       "  <tbody>\n",
       "    <tr>\n",
       "      <th>0</th>\n",
       "      <td>3a</td>\n",
       "      <td>23</td>\n",
       "      <td>45</td>\n",
       "      <td>-1.7</td>\n",
       "    </tr>\n",
       "    <tr>\n",
       "      <th>2</th>\n",
       "      <td>3c</td>\n",
       "      <td>21</td>\n",
       "      <td>43</td>\n",
       "      <td>-1.5</td>\n",
       "    </tr>\n",
       "  </tbody>\n",
       "</table>\n",
       "</div>"
      ],
      "text/plain": [
       "  class  marks  stud  debt\n",
       "0    3a     23    45  -1.7\n",
       "2    3c     21    43  -1.5"
      ]
     },
     "execution_count": 5,
     "metadata": {},
     "output_type": "execute_result"
    }
   ],
   "source": [
    "new_obj = obj.drop(1, axis=\"index\")\n",
    "new_obj"
   ]
  },
  {
   "cell_type": "code",
   "execution_count": 13,
   "id": "e56cb3c1",
   "metadata": {},
   "outputs": [
    {
     "data": {
      "text/html": [
       "<div>\n",
       "<style scoped>\n",
       "    .dataframe tbody tr th:only-of-type {\n",
       "        vertical-align: middle;\n",
       "    }\n",
       "\n",
       "    .dataframe tbody tr th {\n",
       "        vertical-align: top;\n",
       "    }\n",
       "\n",
       "    .dataframe thead th {\n",
       "        text-align: right;\n",
       "    }\n",
       "</style>\n",
       "<table border=\"1\" class=\"dataframe\">\n",
       "  <thead>\n",
       "    <tr style=\"text-align: right;\">\n",
       "      <th></th>\n",
       "      <th>class</th>\n",
       "      <th>marks</th>\n",
       "      <th>stud</th>\n",
       "      <th>debt</th>\n",
       "    </tr>\n",
       "  </thead>\n",
       "  <tbody>\n",
       "    <tr>\n",
       "      <th>first</th>\n",
       "      <td>3a</td>\n",
       "      <td>23</td>\n",
       "      <td>45</td>\n",
       "      <td>-1.7</td>\n",
       "    </tr>\n",
       "    <tr>\n",
       "      <th>second</th>\n",
       "      <td>4b</td>\n",
       "      <td>24</td>\n",
       "      <td>43</td>\n",
       "      <td>-1.2</td>\n",
       "    </tr>\n",
       "    <tr>\n",
       "      <th>third</th>\n",
       "      <td>3c</td>\n",
       "      <td>21</td>\n",
       "      <td>43</td>\n",
       "      <td>-1.5</td>\n",
       "    </tr>\n",
       "  </tbody>\n",
       "</table>\n",
       "</div>"
      ],
      "text/plain": [
       "       class  marks  stud  debt\n",
       "first     3a     23    45  -1.7\n",
       "second    4b     24    43  -1.2\n",
       "third     3c     21    43  -1.5"
      ]
     },
     "execution_count": 13,
     "metadata": {},
     "output_type": "execute_result"
    }
   ],
   "source": [
    "obj.index = [\"first\", \"second\", \"third\"]\n",
    "obj"
   ]
  },
  {
   "cell_type": "code",
   "execution_count": 14,
   "id": "f4ba3bdb",
   "metadata": {},
   "outputs": [
    {
     "data": {
      "text/plain": [
       "class     4b\n",
       "marks     24\n",
       "stud      43\n",
       "debt    -1.2\n",
       "Name: second, dtype: object"
      ]
     },
     "execution_count": 14,
     "metadata": {},
     "output_type": "execute_result"
    }
   ],
   "source": [
    "obj.loc[\"second\"]"
   ]
  },
  {
   "cell_type": "code",
   "execution_count": 15,
   "id": "b3d3af97",
   "metadata": {},
   "outputs": [
    {
     "data": {
      "text/html": [
       "<div>\n",
       "<style scoped>\n",
       "    .dataframe tbody tr th:only-of-type {\n",
       "        vertical-align: middle;\n",
       "    }\n",
       "\n",
       "    .dataframe tbody tr th {\n",
       "        vertical-align: top;\n",
       "    }\n",
       "\n",
       "    .dataframe thead th {\n",
       "        text-align: right;\n",
       "    }\n",
       "</style>\n",
       "<table border=\"1\" class=\"dataframe\">\n",
       "  <thead>\n",
       "    <tr style=\"text-align: right;\">\n",
       "      <th></th>\n",
       "      <th>class</th>\n",
       "      <th>marks</th>\n",
       "      <th>stud</th>\n",
       "      <th>debt</th>\n",
       "    </tr>\n",
       "  </thead>\n",
       "  <tbody>\n",
       "    <tr>\n",
       "      <th>first</th>\n",
       "      <td>3a</td>\n",
       "      <td>23</td>\n",
       "      <td>45</td>\n",
       "      <td>-1.7</td>\n",
       "    </tr>\n",
       "    <tr>\n",
       "      <th>third</th>\n",
       "      <td>3c</td>\n",
       "      <td>21</td>\n",
       "      <td>43</td>\n",
       "      <td>-1.5</td>\n",
       "    </tr>\n",
       "  </tbody>\n",
       "</table>\n",
       "</div>"
      ],
      "text/plain": [
       "      class  marks  stud  debt\n",
       "first    3a     23    45  -1.7\n",
       "third    3c     21    43  -1.5"
      ]
     },
     "execution_count": 15,
     "metadata": {},
     "output_type": "execute_result"
    }
   ],
   "source": [
    "obj.iloc[[0,2]]"
   ]
  },
  {
   "cell_type": "markdown",
   "id": "f69449df",
   "metadata": {},
   "source": [
    "To add two dataframes, we'll use add method instead of + sign to avoid null appearance for each non-overlap row & column\n",
    "also can use:\n",
    "\n",
    "add, sub, div, floordiv, mul, pow"
   ]
  },
  {
   "cell_type": "code",
   "execution_count": 22,
   "id": "0d55cd08",
   "metadata": {},
   "outputs": [
    {
     "data": {
      "text/html": [
       "<div>\n",
       "<style scoped>\n",
       "    .dataframe tbody tr th:only-of-type {\n",
       "        vertical-align: middle;\n",
       "    }\n",
       "\n",
       "    .dataframe tbody tr th {\n",
       "        vertical-align: top;\n",
       "    }\n",
       "\n",
       "    .dataframe thead th {\n",
       "        text-align: right;\n",
       "    }\n",
       "</style>\n",
       "<table border=\"1\" class=\"dataframe\">\n",
       "  <thead>\n",
       "    <tr style=\"text-align: right;\">\n",
       "      <th></th>\n",
       "      <th>1</th>\n",
       "      <th>2</th>\n",
       "      <th>debt</th>\n",
       "      <th>marks</th>\n",
       "      <th>stud</th>\n",
       "    </tr>\n",
       "  </thead>\n",
       "  <tbody>\n",
       "    <tr>\n",
       "      <th>0</th>\n",
       "      <td>2.0</td>\n",
       "      <td>1.0</td>\n",
       "      <td>NaN</td>\n",
       "      <td>NaN</td>\n",
       "      <td>NaN</td>\n",
       "    </tr>\n",
       "    <tr>\n",
       "      <th>1</th>\n",
       "      <td>2.0</td>\n",
       "      <td>-1.0</td>\n",
       "      <td>NaN</td>\n",
       "      <td>NaN</td>\n",
       "      <td>NaN</td>\n",
       "    </tr>\n",
       "    <tr>\n",
       "      <th>2</th>\n",
       "      <td>2.0</td>\n",
       "      <td>2.0</td>\n",
       "      <td>NaN</td>\n",
       "      <td>NaN</td>\n",
       "      <td>NaN</td>\n",
       "    </tr>\n",
       "    <tr>\n",
       "      <th>3</th>\n",
       "      <td>2.0</td>\n",
       "      <td>0.0</td>\n",
       "      <td>NaN</td>\n",
       "      <td>NaN</td>\n",
       "      <td>NaN</td>\n",
       "    </tr>\n",
       "    <tr>\n",
       "      <th>first</th>\n",
       "      <td>NaN</td>\n",
       "      <td>NaN</td>\n",
       "      <td>-1.7</td>\n",
       "      <td>23.0</td>\n",
       "      <td>45.0</td>\n",
       "    </tr>\n",
       "    <tr>\n",
       "      <th>second</th>\n",
       "      <td>NaN</td>\n",
       "      <td>NaN</td>\n",
       "      <td>-1.2</td>\n",
       "      <td>24.0</td>\n",
       "      <td>43.0</td>\n",
       "    </tr>\n",
       "    <tr>\n",
       "      <th>third</th>\n",
       "      <td>NaN</td>\n",
       "      <td>NaN</td>\n",
       "      <td>-1.5</td>\n",
       "      <td>21.0</td>\n",
       "      <td>43.0</td>\n",
       "    </tr>\n",
       "  </tbody>\n",
       "</table>\n",
       "</div>"
      ],
      "text/plain": [
       "          1    2  debt  marks  stud\n",
       "0       2.0  1.0   NaN    NaN   NaN\n",
       "1       2.0 -1.0   NaN    NaN   NaN\n",
       "2       2.0  2.0   NaN    NaN   NaN\n",
       "3       2.0  0.0   NaN    NaN   NaN\n",
       "first   NaN  NaN  -1.7   23.0  45.0\n",
       "second  NaN  NaN  -1.2   24.0  43.0\n",
       "third   NaN  NaN  -1.5   21.0  43.0"
      ]
     },
     "execution_count": 22,
     "metadata": {},
     "output_type": "execute_result"
    }
   ],
   "source": [
    "obj1 = pd.DataFrame({\"1\":[2,2,2,2], \"2\":[1,-1,2,0]})\n",
    "obj = obj.drop(\"class\",axis=\"columns\")\n",
    "obj1.add(obj,fill_value=0)"
   ]
  },
  {
   "cell_type": "markdown",
   "id": "a80f6be8",
   "metadata": {},
   "source": [
    "To pass function into DataFrame, we'll use apply method. This will apply the function to calculate each columns of the DataFrame."
   ]
  },
  {
   "cell_type": "code",
   "execution_count": 23,
   "id": "1159ef8a",
   "metadata": {},
   "outputs": [
    {
     "data": {
      "text/plain": [
       "marks    3.0\n",
       "stud     2.0\n",
       "debt     0.5\n",
       "dtype: float64"
      ]
     },
     "execution_count": 23,
     "metadata": {},
     "output_type": "execute_result"
    }
   ],
   "source": [
    "def f(df):\n",
    "    return max(df) - min(df)\n",
    "\n",
    "obj.apply(f)"
   ]
  },
  {
   "cell_type": "markdown",
   "id": "06f00157",
   "metadata": {},
   "source": [
    "Another methods that are useful is:\n",
    "* sort_index()\n",
    "* sort_values()\n",
    "* describe()\n",
    "* count() - Number of non-NA values\n",
    "* describe() - Compute set of summary statistics\n",
    "* min, max - Compute minimum and maximum values\n",
    "* argmin, argmax - Compute index locations (integers) at which minimum or maximum value is obtained, respectively; not available on DataFrame objects\n",
    "* idxmin, idxmax - Compute index labels at which minimum or maximum value is obtained, respectively\n",
    "* quantile() - Compute sample quantile ranging from 0 to 1 (default: 0.5)\n",
    "* sum() - Sum of values\n",
    "* mean() - Mean of values\n",
    "* median() - Arithmetic median (50% quantile) of values\n",
    "* mad() - Mean absolute deviation from mean value\n",
    "* prod() - Product of all values\n",
    "* var() - Sample variance of values\n",
    "* std() - Sample standard deviation of values\n",
    "* skew() - Sample skewness (third moment) of values\n",
    "* kurt() - Sample kurtosis (fourth moment) of values\n",
    "* cumsum() - Cumulative sum of values\n",
    "* cummin, cummax - Cumulative minimum or maximum of values, respectively\n",
    "* cumprod() - Cumulative product of values\n",
    "* diff() - Compute first arithmetic difference (useful for time series)\n",
    "* pct_change() - Compute percent changes\n",
    "* corr()\n",
    "* cov()"
   ]
  },
  {
   "cell_type": "markdown",
   "id": "acca6620",
   "metadata": {},
   "source": [
    "# Data loading & wrangling example"
   ]
  },
  {
   "cell_type": "code",
   "execution_count": 1,
   "id": "ccdbcdd0",
   "metadata": {},
   "outputs": [],
   "source": [
    "import requests"
   ]
  },
  {
   "cell_type": "code",
   "execution_count": 2,
   "id": "af67ad23",
   "metadata": {},
   "outputs": [
    {
     "data": {
      "text/plain": [
       "<Response [200]>"
      ]
     },
     "execution_count": 2,
     "metadata": {},
     "output_type": "execute_result"
    }
   ],
   "source": [
    "In [126]: import requests\n",
    "\n",
    "url = \"https://api.github.com/repos/pandas-dev/pandas/issues\"\n",
    "resp = requests.get(url)\n",
    "resp.raise_for_status()\n",
    "resp"
   ]
  },
  {
   "cell_type": "code",
   "execution_count": 3,
   "id": "a2c60405",
   "metadata": {},
   "outputs": [],
   "source": [
    "data = resp.json()"
   ]
  },
  {
   "cell_type": "code",
   "execution_count": 7,
   "id": "183822d9",
   "metadata": {},
   "outputs": [
    {
     "data": {
      "text/plain": [
       "'Cannot query dataframe using str.slice with negative indexes'"
      ]
     },
     "execution_count": 7,
     "metadata": {},
     "output_type": "execute_result"
    }
   ],
   "source": [
    "data[1][\"title\"]"
   ]
  },
  {
   "cell_type": "markdown",
   "id": "359023a9",
   "metadata": {},
   "source": [
    "# Data cleaning & preparation"
   ]
  },
  {
   "cell_type": "markdown",
   "id": "a7172866",
   "metadata": {},
   "source": [
    "We can deal with missing value by removing the rows, columns, replace the nan with mean or median."
   ]
  },
  {
   "cell_type": "markdown",
   "id": "eb985af2",
   "metadata": {},
   "source": [
    "Meanwhile for duplicate data, can use duplicated() method to remove duplicates row"
   ]
  },
  {
   "cell_type": "markdown",
   "id": "d1425895",
   "metadata": {},
   "source": [
    "If need to remove specific solumn, can use drop_duplicates(subset=\"column\")"
   ]
  },
  {
   "cell_type": "markdown",
   "id": "7e929b98",
   "metadata": {},
   "source": [
    "I'll create a random dataframe for now."
   ]
  },
  {
   "cell_type": "code",
   "execution_count": 107,
   "id": "56ca9983",
   "metadata": {},
   "outputs": [],
   "source": [
    "import numpy as np\n",
    "import pandas as pd\n",
    "\n",
    "df = pd.DataFrame(np.random.rand(10,5))"
   ]
  },
  {
   "cell_type": "code",
   "execution_count": 108,
   "id": "6ea02c2b",
   "metadata": {},
   "outputs": [
    {
     "data": {
      "text/html": [
       "<div>\n",
       "<style scoped>\n",
       "    .dataframe tbody tr th:only-of-type {\n",
       "        vertical-align: middle;\n",
       "    }\n",
       "\n",
       "    .dataframe tbody tr th {\n",
       "        vertical-align: top;\n",
       "    }\n",
       "\n",
       "    .dataframe thead th {\n",
       "        text-align: right;\n",
       "    }\n",
       "</style>\n",
       "<table border=\"1\" class=\"dataframe\">\n",
       "  <thead>\n",
       "    <tr style=\"text-align: right;\">\n",
       "      <th></th>\n",
       "      <th>0</th>\n",
       "      <th>1</th>\n",
       "      <th>2</th>\n",
       "      <th>3</th>\n",
       "      <th>4</th>\n",
       "    </tr>\n",
       "  </thead>\n",
       "  <tbody>\n",
       "    <tr>\n",
       "      <th>0</th>\n",
       "      <td>0.379345</td>\n",
       "      <td>0.699236</td>\n",
       "      <td>0.699236</td>\n",
       "      <td>0.415222</td>\n",
       "      <td>0.638662</td>\n",
       "    </tr>\n",
       "    <tr>\n",
       "      <th>1</th>\n",
       "      <td>0.759290</td>\n",
       "      <td>0.557523</td>\n",
       "      <td>0.557523</td>\n",
       "      <td>0.913259</td>\n",
       "      <td>0.024613</td>\n",
       "    </tr>\n",
       "    <tr>\n",
       "      <th>2</th>\n",
       "      <td>NaN</td>\n",
       "      <td>0.383205</td>\n",
       "      <td>0.383205</td>\n",
       "      <td>NaN</td>\n",
       "      <td>0.437557</td>\n",
       "    </tr>\n",
       "    <tr>\n",
       "      <th>3</th>\n",
       "      <td>0.737937</td>\n",
       "      <td>0.375760</td>\n",
       "      <td>0.375760</td>\n",
       "      <td>0.014040</td>\n",
       "      <td>0.249437</td>\n",
       "    </tr>\n",
       "    <tr>\n",
       "      <th>4</th>\n",
       "      <td>0.347135</td>\n",
       "      <td>0.796687</td>\n",
       "      <td>0.796687</td>\n",
       "      <td>0.100522</td>\n",
       "      <td>0.735403</td>\n",
       "    </tr>\n",
       "    <tr>\n",
       "      <th>5</th>\n",
       "      <td>0.976437</td>\n",
       "      <td>0.705886</td>\n",
       "      <td>0.705886</td>\n",
       "      <td>0.927848</td>\n",
       "      <td>0.410031</td>\n",
       "    </tr>\n",
       "    <tr>\n",
       "      <th>6</th>\n",
       "      <td>0.338095</td>\n",
       "      <td>NaN</td>\n",
       "      <td>NaN</td>\n",
       "      <td>0.082687</td>\n",
       "      <td>0.898558</td>\n",
       "    </tr>\n",
       "    <tr>\n",
       "      <th>7</th>\n",
       "      <td>NaN</td>\n",
       "      <td>0.717466</td>\n",
       "      <td>0.717466</td>\n",
       "      <td>0.750892</td>\n",
       "      <td>0.657898</td>\n",
       "    </tr>\n",
       "    <tr>\n",
       "      <th>8</th>\n",
       "      <td>0.360697</td>\n",
       "      <td>0.378323</td>\n",
       "      <td>0.378323</td>\n",
       "      <td>0.055637</td>\n",
       "      <td>0.078259</td>\n",
       "    </tr>\n",
       "    <tr>\n",
       "      <th>9</th>\n",
       "      <td>0.360697</td>\n",
       "      <td>0.378323</td>\n",
       "      <td>0.378323</td>\n",
       "      <td>0.055637</td>\n",
       "      <td>0.078259</td>\n",
       "    </tr>\n",
       "  </tbody>\n",
       "</table>\n",
       "</div>"
      ],
      "text/plain": [
       "          0         1         2         3         4\n",
       "0  0.379345  0.699236  0.699236  0.415222  0.638662\n",
       "1  0.759290  0.557523  0.557523  0.913259  0.024613\n",
       "2       NaN  0.383205  0.383205       NaN  0.437557\n",
       "3  0.737937  0.375760  0.375760  0.014040  0.249437\n",
       "4  0.347135  0.796687  0.796687  0.100522  0.735403\n",
       "5  0.976437  0.705886  0.705886  0.927848  0.410031\n",
       "6  0.338095       NaN       NaN  0.082687  0.898558\n",
       "7       NaN  0.717466  0.717466  0.750892  0.657898\n",
       "8  0.360697  0.378323  0.378323  0.055637  0.078259\n",
       "9  0.360697  0.378323  0.378323  0.055637  0.078259"
      ]
     },
     "execution_count": 108,
     "metadata": {},
     "output_type": "execute_result"
    }
   ],
   "source": [
    "np.random.seed(12345)\n",
    "\n",
    "for i in range(0,5):\n",
    "    oRand = np.random.randint(0,10,size=10)\n",
    "    df[i][oRand==1] = np.nan\n",
    "df[2] = df[1]\n",
    "df = df.T\n",
    "df[9] = df[8]\n",
    "df = df.T\n",
    "df"
   ]
  },
  {
   "cell_type": "markdown",
   "id": "6144068b",
   "metadata": {},
   "source": [
    "We can clean the none, nan, null value using dropna()"
   ]
  },
  {
   "cell_type": "code",
   "execution_count": 47,
   "id": "c0f5b8f6",
   "metadata": {},
   "outputs": [
    {
     "data": {
      "text/html": [
       "<div>\n",
       "<style scoped>\n",
       "    .dataframe tbody tr th:only-of-type {\n",
       "        vertical-align: middle;\n",
       "    }\n",
       "\n",
       "    .dataframe tbody tr th {\n",
       "        vertical-align: top;\n",
       "    }\n",
       "\n",
       "    .dataframe thead th {\n",
       "        text-align: right;\n",
       "    }\n",
       "</style>\n",
       "<table border=\"1\" class=\"dataframe\">\n",
       "  <thead>\n",
       "    <tr style=\"text-align: right;\">\n",
       "      <th></th>\n",
       "      <th>0</th>\n",
       "      <th>1</th>\n",
       "      <th>2</th>\n",
       "      <th>3</th>\n",
       "      <th>4</th>\n",
       "    </tr>\n",
       "  </thead>\n",
       "  <tbody>\n",
       "    <tr>\n",
       "      <th>0</th>\n",
       "      <td>0.191519</td>\n",
       "      <td>0.622109</td>\n",
       "      <td>0.622109</td>\n",
       "      <td>0.785359</td>\n",
       "      <td>0.779976</td>\n",
       "    </tr>\n",
       "    <tr>\n",
       "      <th>2</th>\n",
       "      <td>0.357817</td>\n",
       "      <td>0.500995</td>\n",
       "      <td>0.500995</td>\n",
       "      <td>0.712702</td>\n",
       "      <td>0.370251</td>\n",
       "    </tr>\n",
       "  </tbody>\n",
       "</table>\n",
       "</div>"
      ],
      "text/plain": [
       "          0         1         2         3         4\n",
       "0  0.191519  0.622109  0.622109  0.785359  0.779976\n",
       "2  0.357817  0.500995  0.500995  0.712702  0.370251"
      ]
     },
     "execution_count": 47,
     "metadata": {},
     "output_type": "execute_result"
    }
   ],
   "source": [
    "df.dropna()"
   ]
  },
  {
   "cell_type": "code",
   "execution_count": 55,
   "id": "51fd9f2b",
   "metadata": {},
   "outputs": [
    {
     "data": {
      "text/html": [
       "<div>\n",
       "<style scoped>\n",
       "    .dataframe tbody tr th:only-of-type {\n",
       "        vertical-align: middle;\n",
       "    }\n",
       "\n",
       "    .dataframe tbody tr th {\n",
       "        vertical-align: top;\n",
       "    }\n",
       "\n",
       "    .dataframe thead th {\n",
       "        text-align: right;\n",
       "    }\n",
       "</style>\n",
       "<table border=\"1\" class=\"dataframe\">\n",
       "  <thead>\n",
       "    <tr style=\"text-align: right;\">\n",
       "      <th></th>\n",
       "      <th>0</th>\n",
       "      <th>1</th>\n",
       "      <th>2</th>\n",
       "      <th>3</th>\n",
       "      <th>4</th>\n",
       "    </tr>\n",
       "  </thead>\n",
       "  <tbody>\n",
       "    <tr>\n",
       "      <th>0</th>\n",
       "      <td>0.191519</td>\n",
       "      <td>0.622109</td>\n",
       "      <td>0.622109</td>\n",
       "      <td>0.785359</td>\n",
       "      <td>0.779976</td>\n",
       "    </tr>\n",
       "    <tr>\n",
       "      <th>1</th>\n",
       "      <td>0.272593</td>\n",
       "      <td>0.276464</td>\n",
       "      <td>0.276464</td>\n",
       "      <td>0.958139</td>\n",
       "      <td>NaN</td>\n",
       "    </tr>\n",
       "    <tr>\n",
       "      <th>2</th>\n",
       "      <td>0.357817</td>\n",
       "      <td>0.500995</td>\n",
       "      <td>0.500995</td>\n",
       "      <td>0.712702</td>\n",
       "      <td>0.370251</td>\n",
       "    </tr>\n",
       "    <tr>\n",
       "      <th>3</th>\n",
       "      <td>0.561196</td>\n",
       "      <td>0.503083</td>\n",
       "      <td>0.503083</td>\n",
       "      <td>NaN</td>\n",
       "      <td>0.882641</td>\n",
       "    </tr>\n",
       "    <tr>\n",
       "      <th>5</th>\n",
       "      <td>0.651378</td>\n",
       "      <td>0.397203</td>\n",
       "      <td>0.397203</td>\n",
       "      <td>0.316836</td>\n",
       "      <td>NaN</td>\n",
       "    </tr>\n",
       "    <tr>\n",
       "      <th>6</th>\n",
       "      <td>0.869127</td>\n",
       "      <td>0.436173</td>\n",
       "      <td>0.436173</td>\n",
       "      <td>0.143767</td>\n",
       "      <td>NaN</td>\n",
       "    </tr>\n",
       "    <tr>\n",
       "      <th>7</th>\n",
       "      <td>0.704581</td>\n",
       "      <td>0.218792</td>\n",
       "      <td>0.218792</td>\n",
       "      <td>NaN</td>\n",
       "      <td>0.909316</td>\n",
       "    </tr>\n",
       "  </tbody>\n",
       "</table>\n",
       "</div>"
      ],
      "text/plain": [
       "          0         1         2         3         4\n",
       "0  0.191519  0.622109  0.622109  0.785359  0.779976\n",
       "1  0.272593  0.276464  0.276464  0.958139       NaN\n",
       "2  0.357817  0.500995  0.500995  0.712702  0.370251\n",
       "3  0.561196  0.503083  0.503083       NaN  0.882641\n",
       "5  0.651378  0.397203  0.397203  0.316836       NaN\n",
       "6  0.869127  0.436173  0.436173  0.143767       NaN\n",
       "7  0.704581  0.218792  0.218792       NaN  0.909316"
      ]
     },
     "execution_count": 55,
     "metadata": {},
     "output_type": "execute_result"
    }
   ],
   "source": [
    "df.dropna(thresh=4)"
   ]
  },
  {
   "cell_type": "code",
   "execution_count": 57,
   "id": "84d85442",
   "metadata": {},
   "outputs": [
    {
     "data": {
      "text/plain": [
       "0    False\n",
       "1    False\n",
       "2    False\n",
       "3    False\n",
       "4    False\n",
       "5    False\n",
       "6    False\n",
       "7    False\n",
       "8    False\n",
       "9     True\n",
       "dtype: bool"
      ]
     },
     "execution_count": 57,
     "metadata": {},
     "output_type": "execute_result"
    }
   ],
   "source": [
    "df.duplicated()"
   ]
  },
  {
   "cell_type": "code",
   "execution_count": 58,
   "id": "1549abc7",
   "metadata": {},
   "outputs": [
    {
     "data": {
      "text/plain": [
       "0    False\n",
       "1    False\n",
       "2     True\n",
       "3    False\n",
       "4    False\n",
       "dtype: bool"
      ]
     },
     "execution_count": 58,
     "metadata": {},
     "output_type": "execute_result"
    }
   ],
   "source": [
    "df.T.duplicated()"
   ]
  },
  {
   "cell_type": "code",
   "execution_count": 59,
   "id": "76f312f5",
   "metadata": {},
   "outputs": [
    {
     "data": {
      "text/html": [
       "<div>\n",
       "<style scoped>\n",
       "    .dataframe tbody tr th:only-of-type {\n",
       "        vertical-align: middle;\n",
       "    }\n",
       "\n",
       "    .dataframe tbody tr th {\n",
       "        vertical-align: top;\n",
       "    }\n",
       "\n",
       "    .dataframe thead th {\n",
       "        text-align: right;\n",
       "    }\n",
       "</style>\n",
       "<table border=\"1\" class=\"dataframe\">\n",
       "  <thead>\n",
       "    <tr style=\"text-align: right;\">\n",
       "      <th></th>\n",
       "      <th>0</th>\n",
       "      <th>1</th>\n",
       "      <th>2</th>\n",
       "      <th>3</th>\n",
       "      <th>4</th>\n",
       "    </tr>\n",
       "  </thead>\n",
       "  <tbody>\n",
       "    <tr>\n",
       "      <th>0</th>\n",
       "      <td>0.191519</td>\n",
       "      <td>0.622109</td>\n",
       "      <td>0.622109</td>\n",
       "      <td>0.785359</td>\n",
       "      <td>0.779976</td>\n",
       "    </tr>\n",
       "    <tr>\n",
       "      <th>1</th>\n",
       "      <td>0.272593</td>\n",
       "      <td>0.276464</td>\n",
       "      <td>0.276464</td>\n",
       "      <td>0.958139</td>\n",
       "      <td>NaN</td>\n",
       "    </tr>\n",
       "    <tr>\n",
       "      <th>2</th>\n",
       "      <td>0.357817</td>\n",
       "      <td>0.500995</td>\n",
       "      <td>0.500995</td>\n",
       "      <td>0.712702</td>\n",
       "      <td>0.370251</td>\n",
       "    </tr>\n",
       "    <tr>\n",
       "      <th>3</th>\n",
       "      <td>0.561196</td>\n",
       "      <td>0.503083</td>\n",
       "      <td>0.503083</td>\n",
       "      <td>NaN</td>\n",
       "      <td>0.882641</td>\n",
       "    </tr>\n",
       "    <tr>\n",
       "      <th>4</th>\n",
       "      <td>NaN</td>\n",
       "      <td>NaN</td>\n",
       "      <td>NaN</td>\n",
       "      <td>0.368824</td>\n",
       "      <td>0.933140</td>\n",
       "    </tr>\n",
       "    <tr>\n",
       "      <th>5</th>\n",
       "      <td>0.651378</td>\n",
       "      <td>0.397203</td>\n",
       "      <td>0.397203</td>\n",
       "      <td>0.316836</td>\n",
       "      <td>NaN</td>\n",
       "    </tr>\n",
       "    <tr>\n",
       "      <th>6</th>\n",
       "      <td>0.869127</td>\n",
       "      <td>0.436173</td>\n",
       "      <td>0.436173</td>\n",
       "      <td>0.143767</td>\n",
       "      <td>NaN</td>\n",
       "    </tr>\n",
       "    <tr>\n",
       "      <th>7</th>\n",
       "      <td>0.704581</td>\n",
       "      <td>0.218792</td>\n",
       "      <td>0.218792</td>\n",
       "      <td>NaN</td>\n",
       "      <td>0.909316</td>\n",
       "    </tr>\n",
       "    <tr>\n",
       "      <th>8</th>\n",
       "      <td>0.059809</td>\n",
       "      <td>NaN</td>\n",
       "      <td>NaN</td>\n",
       "      <td>0.674881</td>\n",
       "      <td>0.594625</td>\n",
       "    </tr>\n",
       "  </tbody>\n",
       "</table>\n",
       "</div>"
      ],
      "text/plain": [
       "          0         1         2         3         4\n",
       "0  0.191519  0.622109  0.622109  0.785359  0.779976\n",
       "1  0.272593  0.276464  0.276464  0.958139       NaN\n",
       "2  0.357817  0.500995  0.500995  0.712702  0.370251\n",
       "3  0.561196  0.503083  0.503083       NaN  0.882641\n",
       "4       NaN       NaN       NaN  0.368824  0.933140\n",
       "5  0.651378  0.397203  0.397203  0.316836       NaN\n",
       "6  0.869127  0.436173  0.436173  0.143767       NaN\n",
       "7  0.704581  0.218792  0.218792       NaN  0.909316\n",
       "8  0.059809       NaN       NaN  0.674881  0.594625"
      ]
     },
     "execution_count": 59,
     "metadata": {},
     "output_type": "execute_result"
    }
   ],
   "source": [
    "df.drop_duplicates()"
   ]
  },
  {
   "cell_type": "code",
   "execution_count": 109,
   "id": "47a19a60",
   "metadata": {},
   "outputs": [
    {
     "data": {
      "text/html": [
       "<div>\n",
       "<style scoped>\n",
       "    .dataframe tbody tr th:only-of-type {\n",
       "        vertical-align: middle;\n",
       "    }\n",
       "\n",
       "    .dataframe tbody tr th {\n",
       "        vertical-align: top;\n",
       "    }\n",
       "\n",
       "    .dataframe thead th {\n",
       "        text-align: right;\n",
       "    }\n",
       "</style>\n",
       "<table border=\"1\" class=\"dataframe\">\n",
       "  <thead>\n",
       "    <tr style=\"text-align: right;\">\n",
       "      <th></th>\n",
       "      <th>0</th>\n",
       "      <th>1</th>\n",
       "      <th>2</th>\n",
       "      <th>3</th>\n",
       "      <th>4</th>\n",
       "    </tr>\n",
       "  </thead>\n",
       "  <tbody>\n",
       "    <tr>\n",
       "      <th>0</th>\n",
       "      <td>0.379345</td>\n",
       "      <td>0.699236</td>\n",
       "      <td>0.699236</td>\n",
       "      <td>0.415222</td>\n",
       "      <td>0.638662</td>\n",
       "    </tr>\n",
       "    <tr>\n",
       "      <th>1</th>\n",
       "      <td>0.759290</td>\n",
       "      <td>0.557523</td>\n",
       "      <td>0.557523</td>\n",
       "      <td>0.913259</td>\n",
       "      <td>0.024613</td>\n",
       "    </tr>\n",
       "    <tr>\n",
       "      <th>2</th>\n",
       "      <td>2.000000</td>\n",
       "      <td>0.383205</td>\n",
       "      <td>0.383205</td>\n",
       "      <td>2.000000</td>\n",
       "      <td>0.437557</td>\n",
       "    </tr>\n",
       "    <tr>\n",
       "      <th>3</th>\n",
       "      <td>0.737937</td>\n",
       "      <td>0.375760</td>\n",
       "      <td>0.375760</td>\n",
       "      <td>0.014040</td>\n",
       "      <td>0.249437</td>\n",
       "    </tr>\n",
       "    <tr>\n",
       "      <th>4</th>\n",
       "      <td>0.347135</td>\n",
       "      <td>0.796687</td>\n",
       "      <td>0.796687</td>\n",
       "      <td>0.100522</td>\n",
       "      <td>0.735403</td>\n",
       "    </tr>\n",
       "    <tr>\n",
       "      <th>5</th>\n",
       "      <td>0.976437</td>\n",
       "      <td>0.705886</td>\n",
       "      <td>0.705886</td>\n",
       "      <td>0.927848</td>\n",
       "      <td>0.410031</td>\n",
       "    </tr>\n",
       "    <tr>\n",
       "      <th>6</th>\n",
       "      <td>0.338095</td>\n",
       "      <td>2.000000</td>\n",
       "      <td>2.000000</td>\n",
       "      <td>0.082687</td>\n",
       "      <td>0.898558</td>\n",
       "    </tr>\n",
       "    <tr>\n",
       "      <th>7</th>\n",
       "      <td>2.000000</td>\n",
       "      <td>0.717466</td>\n",
       "      <td>0.717466</td>\n",
       "      <td>0.750892</td>\n",
       "      <td>0.657898</td>\n",
       "    </tr>\n",
       "    <tr>\n",
       "      <th>8</th>\n",
       "      <td>0.360697</td>\n",
       "      <td>0.378323</td>\n",
       "      <td>0.378323</td>\n",
       "      <td>0.055637</td>\n",
       "      <td>0.078259</td>\n",
       "    </tr>\n",
       "    <tr>\n",
       "      <th>9</th>\n",
       "      <td>0.360697</td>\n",
       "      <td>0.378323</td>\n",
       "      <td>0.378323</td>\n",
       "      <td>0.055637</td>\n",
       "      <td>0.078259</td>\n",
       "    </tr>\n",
       "  </tbody>\n",
       "</table>\n",
       "</div>"
      ],
      "text/plain": [
       "          0         1         2         3         4\n",
       "0  0.379345  0.699236  0.699236  0.415222  0.638662\n",
       "1  0.759290  0.557523  0.557523  0.913259  0.024613\n",
       "2  2.000000  0.383205  0.383205  2.000000  0.437557\n",
       "3  0.737937  0.375760  0.375760  0.014040  0.249437\n",
       "4  0.347135  0.796687  0.796687  0.100522  0.735403\n",
       "5  0.976437  0.705886  0.705886  0.927848  0.410031\n",
       "6  0.338095  2.000000  2.000000  0.082687  0.898558\n",
       "7  2.000000  0.717466  0.717466  0.750892  0.657898\n",
       "8  0.360697  0.378323  0.378323  0.055637  0.078259\n",
       "9  0.360697  0.378323  0.378323  0.055637  0.078259"
      ]
     },
     "execution_count": 109,
     "metadata": {},
     "output_type": "execute_result"
    }
   ],
   "source": [
    "df = df.replace(np.nan, 2)\n",
    "df"
   ]
  },
  {
   "cell_type": "code",
   "execution_count": 110,
   "id": "5a8a5465",
   "metadata": {},
   "outputs": [
    {
     "data": {
      "text/html": [
       "<div>\n",
       "<style scoped>\n",
       "    .dataframe tbody tr th:only-of-type {\n",
       "        vertical-align: middle;\n",
       "    }\n",
       "\n",
       "    .dataframe tbody tr th {\n",
       "        vertical-align: top;\n",
       "    }\n",
       "\n",
       "    .dataframe thead th {\n",
       "        text-align: right;\n",
       "    }\n",
       "</style>\n",
       "<table border=\"1\" class=\"dataframe\">\n",
       "  <thead>\n",
       "    <tr style=\"text-align: right;\">\n",
       "      <th></th>\n",
       "      <th>0</th>\n",
       "      <th>1</th>\n",
       "      <th>2</th>\n",
       "      <th>3</th>\n",
       "      <th>4</th>\n",
       "    </tr>\n",
       "  </thead>\n",
       "  <tbody>\n",
       "    <tr>\n",
       "      <th>count</th>\n",
       "      <td>10.000000</td>\n",
       "      <td>10.000000</td>\n",
       "      <td>10.000000</td>\n",
       "      <td>10.000000</td>\n",
       "      <td>10.000000</td>\n",
       "    </tr>\n",
       "    <tr>\n",
       "      <th>mean</th>\n",
       "      <td>0.825963</td>\n",
       "      <td>0.699241</td>\n",
       "      <td>0.699241</td>\n",
       "      <td>0.531574</td>\n",
       "      <td>0.420868</td>\n",
       "    </tr>\n",
       "    <tr>\n",
       "      <th>std</th>\n",
       "      <td>0.657543</td>\n",
       "      <td>0.486761</td>\n",
       "      <td>0.486761</td>\n",
       "      <td>0.634981</td>\n",
       "      <td>0.307734</td>\n",
       "    </tr>\n",
       "    <tr>\n",
       "      <th>min</th>\n",
       "      <td>0.338095</td>\n",
       "      <td>0.375760</td>\n",
       "      <td>0.375760</td>\n",
       "      <td>0.014040</td>\n",
       "      <td>0.024613</td>\n",
       "    </tr>\n",
       "    <tr>\n",
       "      <th>25%</th>\n",
       "      <td>0.360697</td>\n",
       "      <td>0.379544</td>\n",
       "      <td>0.379544</td>\n",
       "      <td>0.062399</td>\n",
       "      <td>0.121054</td>\n",
       "    </tr>\n",
       "    <tr>\n",
       "      <th>50%</th>\n",
       "      <td>0.558641</td>\n",
       "      <td>0.628379</td>\n",
       "      <td>0.628379</td>\n",
       "      <td>0.257872</td>\n",
       "      <td>0.423794</td>\n",
       "    </tr>\n",
       "    <tr>\n",
       "      <th>75%</th>\n",
       "      <td>0.922150</td>\n",
       "      <td>0.714571</td>\n",
       "      <td>0.714571</td>\n",
       "      <td>0.872667</td>\n",
       "      <td>0.653089</td>\n",
       "    </tr>\n",
       "    <tr>\n",
       "      <th>max</th>\n",
       "      <td>2.000000</td>\n",
       "      <td>2.000000</td>\n",
       "      <td>2.000000</td>\n",
       "      <td>2.000000</td>\n",
       "      <td>0.898558</td>\n",
       "    </tr>\n",
       "  </tbody>\n",
       "</table>\n",
       "</div>"
      ],
      "text/plain": [
       "               0          1          2          3          4\n",
       "count  10.000000  10.000000  10.000000  10.000000  10.000000\n",
       "mean    0.825963   0.699241   0.699241   0.531574   0.420868\n",
       "std     0.657543   0.486761   0.486761   0.634981   0.307734\n",
       "min     0.338095   0.375760   0.375760   0.014040   0.024613\n",
       "25%     0.360697   0.379544   0.379544   0.062399   0.121054\n",
       "50%     0.558641   0.628379   0.628379   0.257872   0.423794\n",
       "75%     0.922150   0.714571   0.714571   0.872667   0.653089\n",
       "max     2.000000   2.000000   2.000000   2.000000   0.898558"
      ]
     },
     "execution_count": 110,
     "metadata": {},
     "output_type": "execute_result"
    }
   ],
   "source": [
    "df.describe()"
   ]
  },
  {
   "cell_type": "markdown",
   "id": "761a82b9",
   "metadata": {},
   "source": [
    "### Removing outlier using IQR method"
   ]
  },
  {
   "cell_type": "code",
   "execution_count": 113,
   "id": "7246dd51",
   "metadata": {},
   "outputs": [
    {
     "data": {
      "text/plain": [
       "(1.7643299120198968,\n",
       "           0         1         2         3         4\n",
       " 0 -0.481482 -0.122997 -0.122997 -1.153003 -0.677000\n",
       " 1  1.764330  1.217111  1.217111  2.088069  1.451143)"
      ]
     },
     "execution_count": 113,
     "metadata": {},
     "output_type": "execute_result"
    }
   ],
   "source": [
    "def f(x):\n",
    "    IQR=np.quantile(x,0.75) - np.quantile(x,0.25)\n",
    "    return [np.quantile(x,0.25) - IQR*1.5, np.quantile(x,0.75) + IQR*1.5]\n",
    "\n",
    "q1 = df.apply(f)"
   ]
  },
  {
   "cell_type": "code",
   "execution_count": 114,
   "id": "069a799d",
   "metadata": {},
   "outputs": [
    {
     "data": {
      "text/html": [
       "<div>\n",
       "<style scoped>\n",
       "    .dataframe tbody tr th:only-of-type {\n",
       "        vertical-align: middle;\n",
       "    }\n",
       "\n",
       "    .dataframe tbody tr th {\n",
       "        vertical-align: top;\n",
       "    }\n",
       "\n",
       "    .dataframe thead th {\n",
       "        text-align: right;\n",
       "    }\n",
       "</style>\n",
       "<table border=\"1\" class=\"dataframe\">\n",
       "  <thead>\n",
       "    <tr style=\"text-align: right;\">\n",
       "      <th></th>\n",
       "      <th>0</th>\n",
       "      <th>1</th>\n",
       "      <th>2</th>\n",
       "      <th>3</th>\n",
       "      <th>4</th>\n",
       "    </tr>\n",
       "  </thead>\n",
       "  <tbody>\n",
       "    <tr>\n",
       "      <th>0</th>\n",
       "      <td>0.379345</td>\n",
       "      <td>0.699236</td>\n",
       "      <td>0.699236</td>\n",
       "      <td>0.415222</td>\n",
       "      <td>0.638662</td>\n",
       "    </tr>\n",
       "    <tr>\n",
       "      <th>1</th>\n",
       "      <td>0.759290</td>\n",
       "      <td>0.557523</td>\n",
       "      <td>0.557523</td>\n",
       "      <td>0.913259</td>\n",
       "      <td>0.024613</td>\n",
       "    </tr>\n",
       "    <tr>\n",
       "      <th>2</th>\n",
       "      <td>NaN</td>\n",
       "      <td>0.383205</td>\n",
       "      <td>0.383205</td>\n",
       "      <td>2.000000</td>\n",
       "      <td>0.437557</td>\n",
       "    </tr>\n",
       "    <tr>\n",
       "      <th>3</th>\n",
       "      <td>0.737937</td>\n",
       "      <td>0.375760</td>\n",
       "      <td>0.375760</td>\n",
       "      <td>0.014040</td>\n",
       "      <td>0.249437</td>\n",
       "    </tr>\n",
       "    <tr>\n",
       "      <th>4</th>\n",
       "      <td>0.347135</td>\n",
       "      <td>0.796687</td>\n",
       "      <td>0.796687</td>\n",
       "      <td>0.100522</td>\n",
       "      <td>0.735403</td>\n",
       "    </tr>\n",
       "    <tr>\n",
       "      <th>5</th>\n",
       "      <td>0.976437</td>\n",
       "      <td>0.705886</td>\n",
       "      <td>0.705886</td>\n",
       "      <td>0.927848</td>\n",
       "      <td>0.410031</td>\n",
       "    </tr>\n",
       "    <tr>\n",
       "      <th>6</th>\n",
       "      <td>0.338095</td>\n",
       "      <td>NaN</td>\n",
       "      <td>NaN</td>\n",
       "      <td>0.082687</td>\n",
       "      <td>0.898558</td>\n",
       "    </tr>\n",
       "    <tr>\n",
       "      <th>7</th>\n",
       "      <td>NaN</td>\n",
       "      <td>0.717466</td>\n",
       "      <td>0.717466</td>\n",
       "      <td>0.750892</td>\n",
       "      <td>0.657898</td>\n",
       "    </tr>\n",
       "    <tr>\n",
       "      <th>8</th>\n",
       "      <td>0.360697</td>\n",
       "      <td>0.378323</td>\n",
       "      <td>0.378323</td>\n",
       "      <td>0.055637</td>\n",
       "      <td>0.078259</td>\n",
       "    </tr>\n",
       "    <tr>\n",
       "      <th>9</th>\n",
       "      <td>0.360697</td>\n",
       "      <td>0.378323</td>\n",
       "      <td>0.378323</td>\n",
       "      <td>0.055637</td>\n",
       "      <td>0.078259</td>\n",
       "    </tr>\n",
       "  </tbody>\n",
       "</table>\n",
       "</div>"
      ],
      "text/plain": [
       "          0         1         2         3         4\n",
       "0  0.379345  0.699236  0.699236  0.415222  0.638662\n",
       "1  0.759290  0.557523  0.557523  0.913259  0.024613\n",
       "2       NaN  0.383205  0.383205  2.000000  0.437557\n",
       "3  0.737937  0.375760  0.375760  0.014040  0.249437\n",
       "4  0.347135  0.796687  0.796687  0.100522  0.735403\n",
       "5  0.976437  0.705886  0.705886  0.927848  0.410031\n",
       "6  0.338095       NaN       NaN  0.082687  0.898558\n",
       "7       NaN  0.717466  0.717466  0.750892  0.657898\n",
       "8  0.360697  0.378323  0.378323  0.055637  0.078259\n",
       "9  0.360697  0.378323  0.378323  0.055637  0.078259"
      ]
     },
     "execution_count": 114,
     "metadata": {},
     "output_type": "execute_result"
    }
   ],
   "source": [
    " for i in range(0,5):\n",
    "    for j in range(0,10):\n",
    "        if df[i][j] < q1[i][0] or df[i][j] > q1[i][1]:\n",
    "            df[i][j] = np.nan\n",
    "\n",
    "df"
   ]
  },
  {
   "cell_type": "markdown",
   "id": "3c7e4e2f",
   "metadata": {},
   "source": [
    "# Indicator / Dummy variables"
   ]
  },
  {
   "cell_type": "code",
   "execution_count": 2,
   "id": "0012b6ce",
   "metadata": {},
   "outputs": [
    {
     "data": {
      "text/html": [
       "<div>\n",
       "<style scoped>\n",
       "    .dataframe tbody tr th:only-of-type {\n",
       "        vertical-align: middle;\n",
       "    }\n",
       "\n",
       "    .dataframe tbody tr th {\n",
       "        vertical-align: top;\n",
       "    }\n",
       "\n",
       "    .dataframe thead th {\n",
       "        text-align: right;\n",
       "    }\n",
       "</style>\n",
       "<table border=\"1\" class=\"dataframe\">\n",
       "  <thead>\n",
       "    <tr style=\"text-align: right;\">\n",
       "      <th></th>\n",
       "      <th>movie_id</th>\n",
       "      <th>title</th>\n",
       "      <th>genres</th>\n",
       "    </tr>\n",
       "  </thead>\n",
       "  <tbody>\n",
       "    <tr>\n",
       "      <th>0</th>\n",
       "      <td>1</td>\n",
       "      <td>Toy Story</td>\n",
       "      <td>Animation|Children's|Comedy</td>\n",
       "    </tr>\n",
       "    <tr>\n",
       "      <th>1</th>\n",
       "      <td>2</td>\n",
       "      <td>Jumanji</td>\n",
       "      <td>Adventure|Children's|Fantasy</td>\n",
       "    </tr>\n",
       "    <tr>\n",
       "      <th>2</th>\n",
       "      <td>3</td>\n",
       "      <td>Grumpier Old Man</td>\n",
       "      <td>Comedy|Romance</td>\n",
       "    </tr>\n",
       "    <tr>\n",
       "      <th>3</th>\n",
       "      <td>4</td>\n",
       "      <td>Waiting to exhale</td>\n",
       "      <td>Comedy|Drama</td>\n",
       "    </tr>\n",
       "    <tr>\n",
       "      <th>4</th>\n",
       "      <td>5</td>\n",
       "      <td>Father of the bride</td>\n",
       "      <td>Comedy</td>\n",
       "    </tr>\n",
       "    <tr>\n",
       "      <th>5</th>\n",
       "      <td>6</td>\n",
       "      <td>Heat</td>\n",
       "      <td>Action|Crime|Thriller</td>\n",
       "    </tr>\n",
       "    <tr>\n",
       "      <th>6</th>\n",
       "      <td>7</td>\n",
       "      <td>Sabrina</td>\n",
       "      <td>Comedy|Romance</td>\n",
       "    </tr>\n",
       "    <tr>\n",
       "      <th>7</th>\n",
       "      <td>8</td>\n",
       "      <td>Tom and Huck</td>\n",
       "      <td>Adventure|Children's</td>\n",
       "    </tr>\n",
       "    <tr>\n",
       "      <th>8</th>\n",
       "      <td>9</td>\n",
       "      <td>Sudden death</td>\n",
       "      <td>Action</td>\n",
       "    </tr>\n",
       "    <tr>\n",
       "      <th>9</th>\n",
       "      <td>10</td>\n",
       "      <td>goldeneye</td>\n",
       "      <td>Action|Adventure|Thriller</td>\n",
       "    </tr>\n",
       "  </tbody>\n",
       "</table>\n",
       "</div>"
      ],
      "text/plain": [
       "   movie_id                title                        genres\n",
       "0         1            Toy Story   Animation|Children's|Comedy\n",
       "1         2              Jumanji  Adventure|Children's|Fantasy\n",
       "2         3     Grumpier Old Man                Comedy|Romance\n",
       "3         4    Waiting to exhale                  Comedy|Drama\n",
       "4         5  Father of the bride                        Comedy\n",
       "5         6                 Heat         Action|Crime|Thriller\n",
       "6         7              Sabrina                Comedy|Romance\n",
       "7         8         Tom and Huck          Adventure|Children's\n",
       "8         9         Sudden death                        Action\n",
       "9        10            goldeneye     Action|Adventure|Thriller"
      ]
     },
     "execution_count": 2,
     "metadata": {},
     "output_type": "execute_result"
    }
   ],
   "source": [
    "import pandas as pd\n",
    "import numpy as np\n",
    "\n",
    "oMovie = {'movie_id':np.arange(1,11), 'title':['Toy Story', 'Jumanji', 'Grumpier Old Man', 'Waiting to exhale', 'Father of the bride','Heat','Sabrina','Tom and Huck','Sudden death','goldeneye'], 'genres':[\"Animation|Children's|Comedy\",\"Adventure|Children's|Fantasy\",\"Comedy|Romance\",\"Comedy|Drama\",\"Comedy\",\"Action|Crime|Thriller\",\"Comedy|Romance\",\"Adventure|Children's\",\" Action\",\"Action|Adventure|Thriller\"]}\n",
    "oMovie = pd.DataFrame(oMovie)\n",
    "oMovie"
   ]
  },
  {
   "cell_type": "code",
   "execution_count": 7,
   "id": "b3b239b7",
   "metadata": {},
   "outputs": [
    {
     "data": {
      "text/html": [
       "<div>\n",
       "<style scoped>\n",
       "    .dataframe tbody tr th:only-of-type {\n",
       "        vertical-align: middle;\n",
       "    }\n",
       "\n",
       "    .dataframe tbody tr th {\n",
       "        vertical-align: top;\n",
       "    }\n",
       "\n",
       "    .dataframe thead th {\n",
       "        text-align: right;\n",
       "    }\n",
       "</style>\n",
       "<table border=\"1\" class=\"dataframe\">\n",
       "  <thead>\n",
       "    <tr style=\"text-align: right;\">\n",
       "      <th></th>\n",
       "      <th>Action</th>\n",
       "      <th>Action</th>\n",
       "      <th>Adventure</th>\n",
       "      <th>Animation</th>\n",
       "      <th>Children's</th>\n",
       "      <th>Comedy</th>\n",
       "      <th>Crime</th>\n",
       "      <th>Drama</th>\n",
       "      <th>Fantasy</th>\n",
       "      <th>Romance</th>\n",
       "      <th>Thriller</th>\n",
       "    </tr>\n",
       "  </thead>\n",
       "  <tbody>\n",
       "    <tr>\n",
       "      <th>0</th>\n",
       "      <td>0</td>\n",
       "      <td>0</td>\n",
       "      <td>0</td>\n",
       "      <td>1</td>\n",
       "      <td>1</td>\n",
       "      <td>1</td>\n",
       "      <td>0</td>\n",
       "      <td>0</td>\n",
       "      <td>0</td>\n",
       "      <td>0</td>\n",
       "      <td>0</td>\n",
       "    </tr>\n",
       "    <tr>\n",
       "      <th>1</th>\n",
       "      <td>0</td>\n",
       "      <td>0</td>\n",
       "      <td>1</td>\n",
       "      <td>0</td>\n",
       "      <td>1</td>\n",
       "      <td>0</td>\n",
       "      <td>0</td>\n",
       "      <td>0</td>\n",
       "      <td>1</td>\n",
       "      <td>0</td>\n",
       "      <td>0</td>\n",
       "    </tr>\n",
       "    <tr>\n",
       "      <th>2</th>\n",
       "      <td>0</td>\n",
       "      <td>0</td>\n",
       "      <td>0</td>\n",
       "      <td>0</td>\n",
       "      <td>0</td>\n",
       "      <td>1</td>\n",
       "      <td>0</td>\n",
       "      <td>0</td>\n",
       "      <td>0</td>\n",
       "      <td>1</td>\n",
       "      <td>0</td>\n",
       "    </tr>\n",
       "    <tr>\n",
       "      <th>3</th>\n",
       "      <td>0</td>\n",
       "      <td>0</td>\n",
       "      <td>0</td>\n",
       "      <td>0</td>\n",
       "      <td>0</td>\n",
       "      <td>1</td>\n",
       "      <td>0</td>\n",
       "      <td>1</td>\n",
       "      <td>0</td>\n",
       "      <td>0</td>\n",
       "      <td>0</td>\n",
       "    </tr>\n",
       "    <tr>\n",
       "      <th>4</th>\n",
       "      <td>0</td>\n",
       "      <td>0</td>\n",
       "      <td>0</td>\n",
       "      <td>0</td>\n",
       "      <td>0</td>\n",
       "      <td>1</td>\n",
       "      <td>0</td>\n",
       "      <td>0</td>\n",
       "      <td>0</td>\n",
       "      <td>0</td>\n",
       "      <td>0</td>\n",
       "    </tr>\n",
       "    <tr>\n",
       "      <th>5</th>\n",
       "      <td>0</td>\n",
       "      <td>1</td>\n",
       "      <td>0</td>\n",
       "      <td>0</td>\n",
       "      <td>0</td>\n",
       "      <td>0</td>\n",
       "      <td>1</td>\n",
       "      <td>0</td>\n",
       "      <td>0</td>\n",
       "      <td>0</td>\n",
       "      <td>1</td>\n",
       "    </tr>\n",
       "    <tr>\n",
       "      <th>6</th>\n",
       "      <td>0</td>\n",
       "      <td>0</td>\n",
       "      <td>0</td>\n",
       "      <td>0</td>\n",
       "      <td>0</td>\n",
       "      <td>1</td>\n",
       "      <td>0</td>\n",
       "      <td>0</td>\n",
       "      <td>0</td>\n",
       "      <td>1</td>\n",
       "      <td>0</td>\n",
       "    </tr>\n",
       "    <tr>\n",
       "      <th>7</th>\n",
       "      <td>0</td>\n",
       "      <td>0</td>\n",
       "      <td>1</td>\n",
       "      <td>0</td>\n",
       "      <td>1</td>\n",
       "      <td>0</td>\n",
       "      <td>0</td>\n",
       "      <td>0</td>\n",
       "      <td>0</td>\n",
       "      <td>0</td>\n",
       "      <td>0</td>\n",
       "    </tr>\n",
       "    <tr>\n",
       "      <th>8</th>\n",
       "      <td>1</td>\n",
       "      <td>0</td>\n",
       "      <td>0</td>\n",
       "      <td>0</td>\n",
       "      <td>0</td>\n",
       "      <td>0</td>\n",
       "      <td>0</td>\n",
       "      <td>0</td>\n",
       "      <td>0</td>\n",
       "      <td>0</td>\n",
       "      <td>0</td>\n",
       "    </tr>\n",
       "    <tr>\n",
       "      <th>9</th>\n",
       "      <td>0</td>\n",
       "      <td>1</td>\n",
       "      <td>1</td>\n",
       "      <td>0</td>\n",
       "      <td>0</td>\n",
       "      <td>0</td>\n",
       "      <td>0</td>\n",
       "      <td>0</td>\n",
       "      <td>0</td>\n",
       "      <td>0</td>\n",
       "      <td>1</td>\n",
       "    </tr>\n",
       "  </tbody>\n",
       "</table>\n",
       "</div>"
      ],
      "text/plain": [
       "    Action  Action  Adventure  Animation  Children's  Comedy  Crime  Drama  \\\n",
       "0        0       0          0          1           1       1      0      0   \n",
       "1        0       0          1          0           1       0      0      0   \n",
       "2        0       0          0          0           0       1      0      0   \n",
       "3        0       0          0          0           0       1      0      1   \n",
       "4        0       0          0          0           0       1      0      0   \n",
       "5        0       1          0          0           0       0      1      0   \n",
       "6        0       0          0          0           0       1      0      0   \n",
       "7        0       0          1          0           1       0      0      0   \n",
       "8        1       0          0          0           0       0      0      0   \n",
       "9        0       1          1          0           0       0      0      0   \n",
       "\n",
       "   Fantasy  Romance  Thriller  \n",
       "0        0        0         0  \n",
       "1        1        0         0  \n",
       "2        0        1         0  \n",
       "3        0        0         0  \n",
       "4        0        0         0  \n",
       "5        0        0         1  \n",
       "6        0        1         0  \n",
       "7        0        0         0  \n",
       "8        0        0         0  \n",
       "9        0        0         1  "
      ]
     },
     "execution_count": 7,
     "metadata": {},
     "output_type": "execute_result"
    }
   ],
   "source": [
    "dummies = oMovie['genres'].str.get_dummies(\"|\")\n",
    "dummies"
   ]
  },
  {
   "cell_type": "code",
   "execution_count": 8,
   "id": "a5164e15",
   "metadata": {
    "scrolled": true
   },
   "outputs": [
    {
     "data": {
      "text/html": [
       "<div>\n",
       "<style scoped>\n",
       "    .dataframe tbody tr th:only-of-type {\n",
       "        vertical-align: middle;\n",
       "    }\n",
       "\n",
       "    .dataframe tbody tr th {\n",
       "        vertical-align: top;\n",
       "    }\n",
       "\n",
       "    .dataframe thead th {\n",
       "        text-align: right;\n",
       "    }\n",
       "</style>\n",
       "<table border=\"1\" class=\"dataframe\">\n",
       "  <thead>\n",
       "    <tr style=\"text-align: right;\">\n",
       "      <th></th>\n",
       "      <th>movie_id</th>\n",
       "      <th>title</th>\n",
       "      <th>genres</th>\n",
       "      <th>Genre_ Action</th>\n",
       "      <th>Genre_Action</th>\n",
       "      <th>Genre_Adventure</th>\n",
       "      <th>Genre_Animation</th>\n",
       "      <th>Genre_Children's</th>\n",
       "      <th>Genre_Comedy</th>\n",
       "      <th>Genre_Crime</th>\n",
       "      <th>Genre_Drama</th>\n",
       "      <th>Genre_Fantasy</th>\n",
       "      <th>Genre_Romance</th>\n",
       "      <th>Genre_Thriller</th>\n",
       "    </tr>\n",
       "  </thead>\n",
       "  <tbody>\n",
       "    <tr>\n",
       "      <th>0</th>\n",
       "      <td>1</td>\n",
       "      <td>Toy Story</td>\n",
       "      <td>Animation|Children's|Comedy</td>\n",
       "      <td>0</td>\n",
       "      <td>0</td>\n",
       "      <td>0</td>\n",
       "      <td>1</td>\n",
       "      <td>1</td>\n",
       "      <td>1</td>\n",
       "      <td>0</td>\n",
       "      <td>0</td>\n",
       "      <td>0</td>\n",
       "      <td>0</td>\n",
       "      <td>0</td>\n",
       "    </tr>\n",
       "    <tr>\n",
       "      <th>1</th>\n",
       "      <td>2</td>\n",
       "      <td>Jumanji</td>\n",
       "      <td>Adventure|Children's|Fantasy</td>\n",
       "      <td>0</td>\n",
       "      <td>0</td>\n",
       "      <td>1</td>\n",
       "      <td>0</td>\n",
       "      <td>1</td>\n",
       "      <td>0</td>\n",
       "      <td>0</td>\n",
       "      <td>0</td>\n",
       "      <td>1</td>\n",
       "      <td>0</td>\n",
       "      <td>0</td>\n",
       "    </tr>\n",
       "    <tr>\n",
       "      <th>2</th>\n",
       "      <td>3</td>\n",
       "      <td>Grumpier Old Man</td>\n",
       "      <td>Comedy|Romance</td>\n",
       "      <td>0</td>\n",
       "      <td>0</td>\n",
       "      <td>0</td>\n",
       "      <td>0</td>\n",
       "      <td>0</td>\n",
       "      <td>1</td>\n",
       "      <td>0</td>\n",
       "      <td>0</td>\n",
       "      <td>0</td>\n",
       "      <td>1</td>\n",
       "      <td>0</td>\n",
       "    </tr>\n",
       "    <tr>\n",
       "      <th>3</th>\n",
       "      <td>4</td>\n",
       "      <td>Waiting to exhale</td>\n",
       "      <td>Comedy|Drama</td>\n",
       "      <td>0</td>\n",
       "      <td>0</td>\n",
       "      <td>0</td>\n",
       "      <td>0</td>\n",
       "      <td>0</td>\n",
       "      <td>1</td>\n",
       "      <td>0</td>\n",
       "      <td>1</td>\n",
       "      <td>0</td>\n",
       "      <td>0</td>\n",
       "      <td>0</td>\n",
       "    </tr>\n",
       "    <tr>\n",
       "      <th>4</th>\n",
       "      <td>5</td>\n",
       "      <td>Father of the bride</td>\n",
       "      <td>Comedy</td>\n",
       "      <td>0</td>\n",
       "      <td>0</td>\n",
       "      <td>0</td>\n",
       "      <td>0</td>\n",
       "      <td>0</td>\n",
       "      <td>1</td>\n",
       "      <td>0</td>\n",
       "      <td>0</td>\n",
       "      <td>0</td>\n",
       "      <td>0</td>\n",
       "      <td>0</td>\n",
       "    </tr>\n",
       "    <tr>\n",
       "      <th>5</th>\n",
       "      <td>6</td>\n",
       "      <td>Heat</td>\n",
       "      <td>Action|Crime|Thriller</td>\n",
       "      <td>0</td>\n",
       "      <td>1</td>\n",
       "      <td>0</td>\n",
       "      <td>0</td>\n",
       "      <td>0</td>\n",
       "      <td>0</td>\n",
       "      <td>1</td>\n",
       "      <td>0</td>\n",
       "      <td>0</td>\n",
       "      <td>0</td>\n",
       "      <td>1</td>\n",
       "    </tr>\n",
       "    <tr>\n",
       "      <th>6</th>\n",
       "      <td>7</td>\n",
       "      <td>Sabrina</td>\n",
       "      <td>Comedy|Romance</td>\n",
       "      <td>0</td>\n",
       "      <td>0</td>\n",
       "      <td>0</td>\n",
       "      <td>0</td>\n",
       "      <td>0</td>\n",
       "      <td>1</td>\n",
       "      <td>0</td>\n",
       "      <td>0</td>\n",
       "      <td>0</td>\n",
       "      <td>1</td>\n",
       "      <td>0</td>\n",
       "    </tr>\n",
       "    <tr>\n",
       "      <th>7</th>\n",
       "      <td>8</td>\n",
       "      <td>Tom and Huck</td>\n",
       "      <td>Adventure|Children's</td>\n",
       "      <td>0</td>\n",
       "      <td>0</td>\n",
       "      <td>1</td>\n",
       "      <td>0</td>\n",
       "      <td>1</td>\n",
       "      <td>0</td>\n",
       "      <td>0</td>\n",
       "      <td>0</td>\n",
       "      <td>0</td>\n",
       "      <td>0</td>\n",
       "      <td>0</td>\n",
       "    </tr>\n",
       "    <tr>\n",
       "      <th>8</th>\n",
       "      <td>9</td>\n",
       "      <td>Sudden death</td>\n",
       "      <td>Action</td>\n",
       "      <td>1</td>\n",
       "      <td>0</td>\n",
       "      <td>0</td>\n",
       "      <td>0</td>\n",
       "      <td>0</td>\n",
       "      <td>0</td>\n",
       "      <td>0</td>\n",
       "      <td>0</td>\n",
       "      <td>0</td>\n",
       "      <td>0</td>\n",
       "      <td>0</td>\n",
       "    </tr>\n",
       "    <tr>\n",
       "      <th>9</th>\n",
       "      <td>10</td>\n",
       "      <td>goldeneye</td>\n",
       "      <td>Action|Adventure|Thriller</td>\n",
       "      <td>0</td>\n",
       "      <td>1</td>\n",
       "      <td>1</td>\n",
       "      <td>0</td>\n",
       "      <td>0</td>\n",
       "      <td>0</td>\n",
       "      <td>0</td>\n",
       "      <td>0</td>\n",
       "      <td>0</td>\n",
       "      <td>0</td>\n",
       "      <td>1</td>\n",
       "    </tr>\n",
       "  </tbody>\n",
       "</table>\n",
       "</div>"
      ],
      "text/plain": [
       "   movie_id                title                        genres  Genre_ Action  \\\n",
       "0         1            Toy Story   Animation|Children's|Comedy              0   \n",
       "1         2              Jumanji  Adventure|Children's|Fantasy              0   \n",
       "2         3     Grumpier Old Man                Comedy|Romance              0   \n",
       "3         4    Waiting to exhale                  Comedy|Drama              0   \n",
       "4         5  Father of the bride                        Comedy              0   \n",
       "5         6                 Heat         Action|Crime|Thriller              0   \n",
       "6         7              Sabrina                Comedy|Romance              0   \n",
       "7         8         Tom and Huck          Adventure|Children's              0   \n",
       "8         9         Sudden death                        Action              1   \n",
       "9        10            goldeneye     Action|Adventure|Thriller              0   \n",
       "\n",
       "   Genre_Action  Genre_Adventure  Genre_Animation  Genre_Children's  \\\n",
       "0             0                0                1                 1   \n",
       "1             0                1                0                 1   \n",
       "2             0                0                0                 0   \n",
       "3             0                0                0                 0   \n",
       "4             0                0                0                 0   \n",
       "5             1                0                0                 0   \n",
       "6             0                0                0                 0   \n",
       "7             0                1                0                 1   \n",
       "8             0                0                0                 0   \n",
       "9             1                1                0                 0   \n",
       "\n",
       "   Genre_Comedy  Genre_Crime  Genre_Drama  Genre_Fantasy  Genre_Romance  \\\n",
       "0             1            0            0              0              0   \n",
       "1             0            0            0              1              0   \n",
       "2             1            0            0              0              1   \n",
       "3             1            0            1              0              0   \n",
       "4             1            0            0              0              0   \n",
       "5             0            1            0              0              0   \n",
       "6             1            0            0              0              1   \n",
       "7             0            0            0              0              0   \n",
       "8             0            0            0              0              0   \n",
       "9             0            0            0              0              0   \n",
       "\n",
       "   Genre_Thriller  \n",
       "0               0  \n",
       "1               0  \n",
       "2               0  \n",
       "3               0  \n",
       "4               0  \n",
       "5               1  \n",
       "6               0  \n",
       "7               0  \n",
       "8               0  \n",
       "9               1  "
      ]
     },
     "execution_count": 8,
     "metadata": {},
     "output_type": "execute_result"
    }
   ],
   "source": [
    "oMovie_indic = oMovie.join(dummies.add_prefix(\"Genre_\"))\n",
    "oMovie_indic"
   ]
  },
  {
   "cell_type": "markdown",
   "id": "49e976fc",
   "metadata": {},
   "source": [
    "According to the writer, the method of pd.get_dummies and np.cut can be useful when we do binning or discretization of data when doing data analysis. Refer to the Statistical Testing Simulation notes to see how binning & discretization works for continuous expo & chi square distribution."
   ]
  },
  {
   "cell_type": "markdown",
   "id": "cd95193e",
   "metadata": {},
   "source": [
    "# String Manipulation"
   ]
  },
  {
   "cell_type": "code",
   "execution_count": 1,
   "id": "8d18fd25",
   "metadata": {},
   "outputs": [
    {
     "data": {
      "text/plain": [
       "['haiyoo', 'apa', 'la', 'dia', 'buat', 'macam', 'ni']"
      ]
     },
     "execution_count": 1,
     "metadata": {},
     "output_type": "execute_result"
    }
   ],
   "source": [
    "text1 = \"haiyoo apa la dia buat macam ni\"\n",
    "text1.split(\" \")"
   ]
  },
  {
   "cell_type": "code",
   "execution_count": 3,
   "id": "9293ea04",
   "metadata": {},
   "outputs": [
    {
     "data": {
      "text/plain": [
       "['haiyoo', 'apa', 'la', 'dia', 'buat', 'macam\\ni']"
      ]
     },
     "execution_count": 3,
     "metadata": {},
     "output_type": "execute_result"
    }
   ],
   "source": [
    "text1 = \"haiyoo /apa /  la /dia/ buat  / macam\\ni\"\n",
    "text1 = [x.strip() for x in text1.split(\"/\")]\n",
    "text1"
   ]
  },
  {
   "cell_type": "code",
   "execution_count": 4,
   "id": "894cfa40",
   "metadata": {},
   "outputs": [
    {
     "data": {
      "text/plain": [
       "'haiyooapaladiabuatmacam\\ni'"
      ]
     },
     "execution_count": 4,
     "metadata": {},
     "output_type": "execute_result"
    }
   ],
   "source": [
    "a,b,c,d,e,f = text1\n",
    "a+b+c+d+e+f"
   ]
  },
  {
   "cell_type": "markdown",
   "id": "4bf9ee3e",
   "metadata": {},
   "source": [
    "### Regular expressions\n",
    "Regular expressions provide a flexible way to search or match (often more complex) string patterns in text."
   ]
  },
  {
   "cell_type": "code",
   "execution_count": 32,
   "id": "bd27da67",
   "metadata": {},
   "outputs": [
    {
     "data": {
      "text/plain": [
       "['|haiyoo', '/apa', 'la', '/dia', 'buat', '/', 'macam', 'i']"
      ]
     },
     "execution_count": 32,
     "metadata": {},
     "output_type": "execute_result"
    }
   ],
   "source": [
    "text1 = \"|haiyoo /apa\\n  la /dia\\t buat  / macam\\ni\"\n",
    "\n",
    "import re\n",
    "\n",
    "re.split(r\"\\s+\", text1)"
   ]
  },
  {
   "cell_type": "code",
   "execution_count": 10,
   "id": "e62cacf7",
   "metadata": {},
   "outputs": [
    {
     "data": {
      "text/plain": [
       "['|haiyoo', '/apa', 'la', '/dia', 'buat', '/', 'macam', 'i']"
      ]
     },
     "execution_count": 10,
     "metadata": {},
     "output_type": "execute_result"
    }
   ],
   "source": [
    "regex = re.compile(r\"\\s+\")\n",
    "regex.split(text1)"
   ]
  },
  {
   "cell_type": "markdown",
   "id": "3cacfac4",
   "metadata": {},
   "source": [
    "### Stack and Unstack Data"
   ]
  },
  {
   "cell_type": "code",
   "execution_count": 1,
   "id": "a2c9ddd6",
   "metadata": {},
   "outputs": [
    {
     "data": {
      "text/html": [
       "<div>\n",
       "<style scoped>\n",
       "    .dataframe tbody tr th:only-of-type {\n",
       "        vertical-align: middle;\n",
       "    }\n",
       "\n",
       "    .dataframe tbody tr th {\n",
       "        vertical-align: top;\n",
       "    }\n",
       "\n",
       "    .dataframe thead th {\n",
       "        text-align: right;\n",
       "    }\n",
       "</style>\n",
       "<table border=\"1\" class=\"dataframe\">\n",
       "  <thead>\n",
       "    <tr style=\"text-align: right;\">\n",
       "      <th></th>\n",
       "      <th>0</th>\n",
       "      <th>1</th>\n",
       "      <th>2</th>\n",
       "    </tr>\n",
       "  </thead>\n",
       "  <tbody>\n",
       "    <tr>\n",
       "      <th>0</th>\n",
       "      <td>0.354834</td>\n",
       "      <td>0.440611</td>\n",
       "      <td>0.207084</td>\n",
       "    </tr>\n",
       "    <tr>\n",
       "      <th>1</th>\n",
       "      <td>0.802387</td>\n",
       "      <td>0.523116</td>\n",
       "      <td>0.266173</td>\n",
       "    </tr>\n",
       "    <tr>\n",
       "      <th>2</th>\n",
       "      <td>0.495222</td>\n",
       "      <td>0.188496</td>\n",
       "      <td>0.475579</td>\n",
       "    </tr>\n",
       "    <tr>\n",
       "      <th>3</th>\n",
       "      <td>0.395764</td>\n",
       "      <td>0.511155</td>\n",
       "      <td>0.356338</td>\n",
       "    </tr>\n",
       "  </tbody>\n",
       "</table>\n",
       "</div>"
      ],
      "text/plain": [
       "          0         1         2\n",
       "0  0.354834  0.440611  0.207084\n",
       "1  0.802387  0.523116  0.266173\n",
       "2  0.495222  0.188496  0.475579\n",
       "3  0.395764  0.511155  0.356338"
      ]
     },
     "execution_count": 1,
     "metadata": {},
     "output_type": "execute_result"
    }
   ],
   "source": [
    "import numpy as np\n",
    "import pandas as pd\n",
    "from numpy import random\n",
    "\n",
    "data = pd.DataFrame(random.rand(4, 3))\n",
    "data"
   ]
  },
  {
   "cell_type": "code",
   "execution_count": 2,
   "id": "e3676d08",
   "metadata": {},
   "outputs": [
    {
     "data": {
      "text/plain": [
       "0  0    0.354834\n",
       "   1    0.440611\n",
       "   2    0.207084\n",
       "1  0    0.802387\n",
       "   1    0.523116\n",
       "   2    0.266173\n",
       "2  0    0.495222\n",
       "   1    0.188496\n",
       "   2    0.475579\n",
       "3  0    0.395764\n",
       "   1    0.511155\n",
       "   2    0.356338\n",
       "dtype: float64"
      ]
     },
     "execution_count": 2,
     "metadata": {},
     "output_type": "execute_result"
    }
   ],
   "source": [
    "data.stack()"
   ]
  },
  {
   "cell_type": "code",
   "execution_count": 3,
   "id": "92956e4e",
   "metadata": {},
   "outputs": [
    {
     "data": {
      "text/html": [
       "<div>\n",
       "<style scoped>\n",
       "    .dataframe tbody tr th:only-of-type {\n",
       "        vertical-align: middle;\n",
       "    }\n",
       "\n",
       "    .dataframe tbody tr th {\n",
       "        vertical-align: top;\n",
       "    }\n",
       "\n",
       "    .dataframe thead th {\n",
       "        text-align: right;\n",
       "    }\n",
       "</style>\n",
       "<table border=\"1\" class=\"dataframe\">\n",
       "  <thead>\n",
       "    <tr style=\"text-align: right;\">\n",
       "      <th></th>\n",
       "      <th>0</th>\n",
       "      <th>1</th>\n",
       "      <th>2</th>\n",
       "    </tr>\n",
       "  </thead>\n",
       "  <tbody>\n",
       "    <tr>\n",
       "      <th>0</th>\n",
       "      <td>0.354834</td>\n",
       "      <td>0.440611</td>\n",
       "      <td>0.207084</td>\n",
       "    </tr>\n",
       "    <tr>\n",
       "      <th>1</th>\n",
       "      <td>0.802387</td>\n",
       "      <td>0.523116</td>\n",
       "      <td>0.266173</td>\n",
       "    </tr>\n",
       "    <tr>\n",
       "      <th>2</th>\n",
       "      <td>0.495222</td>\n",
       "      <td>0.188496</td>\n",
       "      <td>0.475579</td>\n",
       "    </tr>\n",
       "    <tr>\n",
       "      <th>3</th>\n",
       "      <td>0.395764</td>\n",
       "      <td>0.511155</td>\n",
       "      <td>0.356338</td>\n",
       "    </tr>\n",
       "  </tbody>\n",
       "</table>\n",
       "</div>"
      ],
      "text/plain": [
       "          0         1         2\n",
       "0  0.354834  0.440611  0.207084\n",
       "1  0.802387  0.523116  0.266173\n",
       "2  0.495222  0.188496  0.475579\n",
       "3  0.395764  0.511155  0.356338"
      ]
     },
     "execution_count": 3,
     "metadata": {},
     "output_type": "execute_result"
    }
   ],
   "source": [
    "data.stack().unstack()"
   ]
  },
  {
   "cell_type": "code",
   "execution_count": 5,
   "id": "2c983991",
   "metadata": {},
   "outputs": [
    {
     "data": {
      "text/plain": [
       "0    0.207084\n",
       "1    0.266173\n",
       "2    0.475579\n",
       "3    0.356338\n",
       "dtype: float64"
      ]
     },
     "execution_count": 5,
     "metadata": {},
     "output_type": "execute_result"
    }
   ],
   "source": [
    "stacked_df = data.stack()\n",
    "stacked_df[:,2]"
   ]
  },
  {
   "cell_type": "code",
   "execution_count": 6,
   "id": "05d8a5a7",
   "metadata": {},
   "outputs": [
    {
     "data": {
      "text/plain": [
       "0    0.802387\n",
       "1    0.523116\n",
       "2    0.266173\n",
       "dtype: float64"
      ]
     },
     "execution_count": 6,
     "metadata": {},
     "output_type": "execute_result"
    }
   ],
   "source": [
    "stacked_df[1]"
   ]
  },
  {
   "cell_type": "code",
   "execution_count": 7,
   "id": "dd431a0b",
   "metadata": {},
   "outputs": [
    {
     "data": {
      "text/plain": [
       "0.2661729580733653"
      ]
     },
     "execution_count": 7,
     "metadata": {},
     "output_type": "execute_result"
    }
   ],
   "source": [
    "stacked_df[1,2]"
   ]
  },
  {
   "cell_type": "markdown",
   "id": "0c437d7e",
   "metadata": {},
   "source": [
    "# Combining and Merging Data"
   ]
  },
  {
   "cell_type": "code",
   "execution_count": 8,
   "id": "70d0884e",
   "metadata": {},
   "outputs": [
    {
     "data": {
      "text/html": [
       "<div>\n",
       "<style scoped>\n",
       "    .dataframe tbody tr th:only-of-type {\n",
       "        vertical-align: middle;\n",
       "    }\n",
       "\n",
       "    .dataframe tbody tr th {\n",
       "        vertical-align: top;\n",
       "    }\n",
       "\n",
       "    .dataframe thead th {\n",
       "        text-align: right;\n",
       "    }\n",
       "</style>\n",
       "<table border=\"1\" class=\"dataframe\">\n",
       "  <thead>\n",
       "    <tr style=\"text-align: right;\">\n",
       "      <th></th>\n",
       "      <th>key</th>\n",
       "      <th>data1</th>\n",
       "    </tr>\n",
       "  </thead>\n",
       "  <tbody>\n",
       "    <tr>\n",
       "      <th>0</th>\n",
       "      <td>b</td>\n",
       "      <td>0</td>\n",
       "    </tr>\n",
       "    <tr>\n",
       "      <th>1</th>\n",
       "      <td>b</td>\n",
       "      <td>1</td>\n",
       "    </tr>\n",
       "    <tr>\n",
       "      <th>2</th>\n",
       "      <td>a</td>\n",
       "      <td>2</td>\n",
       "    </tr>\n",
       "    <tr>\n",
       "      <th>3</th>\n",
       "      <td>c</td>\n",
       "      <td>3</td>\n",
       "    </tr>\n",
       "    <tr>\n",
       "      <th>4</th>\n",
       "      <td>a</td>\n",
       "      <td>4</td>\n",
       "    </tr>\n",
       "    <tr>\n",
       "      <th>5</th>\n",
       "      <td>a</td>\n",
       "      <td>5</td>\n",
       "    </tr>\n",
       "    <tr>\n",
       "      <th>6</th>\n",
       "      <td>b</td>\n",
       "      <td>6</td>\n",
       "    </tr>\n",
       "  </tbody>\n",
       "</table>\n",
       "</div>"
      ],
      "text/plain": [
       "  key  data1\n",
       "0   b      0\n",
       "1   b      1\n",
       "2   a      2\n",
       "3   c      3\n",
       "4   a      4\n",
       "5   a      5\n",
       "6   b      6"
      ]
     },
     "execution_count": 8,
     "metadata": {},
     "output_type": "execute_result"
    }
   ],
   "source": [
    "df1 = pd.DataFrame({\"key\": [\"b\", \"b\", \"a\", \"c\", \"a\", \"a\", \"b\"],\n",
    "                    \"data1\": pd.Series(range(7), dtype=\"Int64\")})\n",
    "\n",
    "df2 = pd.DataFrame({\"key\": [\"a\", \"b\", \"d\"],\n",
    "                    \"data2\": pd.Series(range(3), dtype=\"Int64\")})\n",
    "\n",
    "df1"
   ]
  },
  {
   "cell_type": "code",
   "execution_count": 9,
   "id": "a2baf248",
   "metadata": {},
   "outputs": [
    {
     "data": {
      "text/html": [
       "<div>\n",
       "<style scoped>\n",
       "    .dataframe tbody tr th:only-of-type {\n",
       "        vertical-align: middle;\n",
       "    }\n",
       "\n",
       "    .dataframe tbody tr th {\n",
       "        vertical-align: top;\n",
       "    }\n",
       "\n",
       "    .dataframe thead th {\n",
       "        text-align: right;\n",
       "    }\n",
       "</style>\n",
       "<table border=\"1\" class=\"dataframe\">\n",
       "  <thead>\n",
       "    <tr style=\"text-align: right;\">\n",
       "      <th></th>\n",
       "      <th>key</th>\n",
       "      <th>data2</th>\n",
       "    </tr>\n",
       "  </thead>\n",
       "  <tbody>\n",
       "    <tr>\n",
       "      <th>0</th>\n",
       "      <td>a</td>\n",
       "      <td>0</td>\n",
       "    </tr>\n",
       "    <tr>\n",
       "      <th>1</th>\n",
       "      <td>b</td>\n",
       "      <td>1</td>\n",
       "    </tr>\n",
       "    <tr>\n",
       "      <th>2</th>\n",
       "      <td>d</td>\n",
       "      <td>2</td>\n",
       "    </tr>\n",
       "  </tbody>\n",
       "</table>\n",
       "</div>"
      ],
      "text/plain": [
       "  key  data2\n",
       "0   a      0\n",
       "1   b      1\n",
       "2   d      2"
      ]
     },
     "execution_count": 9,
     "metadata": {},
     "output_type": "execute_result"
    }
   ],
   "source": [
    "df2"
   ]
  },
  {
   "cell_type": "code",
   "execution_count": 11,
   "id": "7015e111",
   "metadata": {},
   "outputs": [
    {
     "data": {
      "text/html": [
       "<div>\n",
       "<style scoped>\n",
       "    .dataframe tbody tr th:only-of-type {\n",
       "        vertical-align: middle;\n",
       "    }\n",
       "\n",
       "    .dataframe tbody tr th {\n",
       "        vertical-align: top;\n",
       "    }\n",
       "\n",
       "    .dataframe thead th {\n",
       "        text-align: right;\n",
       "    }\n",
       "</style>\n",
       "<table border=\"1\" class=\"dataframe\">\n",
       "  <thead>\n",
       "    <tr style=\"text-align: right;\">\n",
       "      <th></th>\n",
       "      <th>key</th>\n",
       "      <th>data1</th>\n",
       "      <th>data2</th>\n",
       "    </tr>\n",
       "  </thead>\n",
       "  <tbody>\n",
       "    <tr>\n",
       "      <th>0</th>\n",
       "      <td>b</td>\n",
       "      <td>0</td>\n",
       "      <td>1</td>\n",
       "    </tr>\n",
       "    <tr>\n",
       "      <th>1</th>\n",
       "      <td>b</td>\n",
       "      <td>1</td>\n",
       "      <td>1</td>\n",
       "    </tr>\n",
       "    <tr>\n",
       "      <th>2</th>\n",
       "      <td>b</td>\n",
       "      <td>6</td>\n",
       "      <td>1</td>\n",
       "    </tr>\n",
       "    <tr>\n",
       "      <th>3</th>\n",
       "      <td>a</td>\n",
       "      <td>2</td>\n",
       "      <td>0</td>\n",
       "    </tr>\n",
       "    <tr>\n",
       "      <th>4</th>\n",
       "      <td>a</td>\n",
       "      <td>4</td>\n",
       "      <td>0</td>\n",
       "    </tr>\n",
       "    <tr>\n",
       "      <th>5</th>\n",
       "      <td>a</td>\n",
       "      <td>5</td>\n",
       "      <td>0</td>\n",
       "    </tr>\n",
       "  </tbody>\n",
       "</table>\n",
       "</div>"
      ],
      "text/plain": [
       "  key  data1  data2\n",
       "0   b      0      1\n",
       "1   b      1      1\n",
       "2   b      6      1\n",
       "3   a      2      0\n",
       "4   a      4      0\n",
       "5   a      5      0"
      ]
     },
     "execution_count": 11,
     "metadata": {},
     "output_type": "execute_result"
    }
   ],
   "source": [
    "pd.merge(df1,df2)"
   ]
  },
  {
   "cell_type": "code",
   "execution_count": 13,
   "id": "b1e97c9f",
   "metadata": {},
   "outputs": [
    {
     "data": {
      "text/html": [
       "<div>\n",
       "<style scoped>\n",
       "    .dataframe tbody tr th:only-of-type {\n",
       "        vertical-align: middle;\n",
       "    }\n",
       "\n",
       "    .dataframe tbody tr th {\n",
       "        vertical-align: top;\n",
       "    }\n",
       "\n",
       "    .dataframe thead th {\n",
       "        text-align: right;\n",
       "    }\n",
       "</style>\n",
       "<table border=\"1\" class=\"dataframe\">\n",
       "  <thead>\n",
       "    <tr style=\"text-align: right;\">\n",
       "      <th></th>\n",
       "      <th>key</th>\n",
       "      <th>data1</th>\n",
       "      <th>data2</th>\n",
       "    </tr>\n",
       "  </thead>\n",
       "  <tbody>\n",
       "    <tr>\n",
       "      <th>0</th>\n",
       "      <td>b</td>\n",
       "      <td>0</td>\n",
       "      <td>1</td>\n",
       "    </tr>\n",
       "    <tr>\n",
       "      <th>1</th>\n",
       "      <td>b</td>\n",
       "      <td>1</td>\n",
       "      <td>1</td>\n",
       "    </tr>\n",
       "    <tr>\n",
       "      <th>2</th>\n",
       "      <td>b</td>\n",
       "      <td>6</td>\n",
       "      <td>1</td>\n",
       "    </tr>\n",
       "    <tr>\n",
       "      <th>3</th>\n",
       "      <td>a</td>\n",
       "      <td>2</td>\n",
       "      <td>0</td>\n",
       "    </tr>\n",
       "    <tr>\n",
       "      <th>4</th>\n",
       "      <td>a</td>\n",
       "      <td>4</td>\n",
       "      <td>0</td>\n",
       "    </tr>\n",
       "    <tr>\n",
       "      <th>5</th>\n",
       "      <td>a</td>\n",
       "      <td>5</td>\n",
       "      <td>0</td>\n",
       "    </tr>\n",
       "    <tr>\n",
       "      <th>6</th>\n",
       "      <td>c</td>\n",
       "      <td>3</td>\n",
       "      <td>&lt;NA&gt;</td>\n",
       "    </tr>\n",
       "    <tr>\n",
       "      <th>7</th>\n",
       "      <td>d</td>\n",
       "      <td>&lt;NA&gt;</td>\n",
       "      <td>2</td>\n",
       "    </tr>\n",
       "  </tbody>\n",
       "</table>\n",
       "</div>"
      ],
      "text/plain": [
       "  key  data1  data2\n",
       "0   b      0      1\n",
       "1   b      1      1\n",
       "2   b      6      1\n",
       "3   a      2      0\n",
       "4   a      4      0\n",
       "5   a      5      0\n",
       "6   c      3   <NA>\n",
       "7   d   <NA>      2"
      ]
     },
     "execution_count": 13,
     "metadata": {},
     "output_type": "execute_result"
    }
   ],
   "source": [
    "pd.merge(df1,df2,how=\"outer\")"
   ]
  },
  {
   "cell_type": "code",
   "execution_count": 31,
   "id": "3a1d75ee",
   "metadata": {},
   "outputs": [
    {
     "data": {
      "text/html": [
       "<div>\n",
       "<style scoped>\n",
       "    .dataframe tbody tr th:only-of-type {\n",
       "        vertical-align: middle;\n",
       "    }\n",
       "\n",
       "    .dataframe tbody tr th {\n",
       "        vertical-align: top;\n",
       "    }\n",
       "\n",
       "    .dataframe thead th {\n",
       "        text-align: right;\n",
       "    }\n",
       "</style>\n",
       "<table border=\"1\" class=\"dataframe\">\n",
       "  <thead>\n",
       "    <tr style=\"text-align: right;\">\n",
       "      <th></th>\n",
       "      <th>key</th>\n",
       "      <th>data1</th>\n",
       "      <th>data2</th>\n",
       "    </tr>\n",
       "  </thead>\n",
       "  <tbody>\n",
       "    <tr>\n",
       "      <th>0</th>\n",
       "      <td>b</td>\n",
       "      <td>0</td>\n",
       "      <td>1</td>\n",
       "    </tr>\n",
       "    <tr>\n",
       "      <th>1</th>\n",
       "      <td>b</td>\n",
       "      <td>1</td>\n",
       "      <td>1</td>\n",
       "    </tr>\n",
       "    <tr>\n",
       "      <th>2</th>\n",
       "      <td>b</td>\n",
       "      <td>6</td>\n",
       "      <td>1</td>\n",
       "    </tr>\n",
       "    <tr>\n",
       "      <th>3</th>\n",
       "      <td>a</td>\n",
       "      <td>2</td>\n",
       "      <td>0</td>\n",
       "    </tr>\n",
       "    <tr>\n",
       "      <th>4</th>\n",
       "      <td>a</td>\n",
       "      <td>4</td>\n",
       "      <td>0</td>\n",
       "    </tr>\n",
       "    <tr>\n",
       "      <th>5</th>\n",
       "      <td>a</td>\n",
       "      <td>5</td>\n",
       "      <td>0</td>\n",
       "    </tr>\n",
       "    <tr>\n",
       "      <th>6</th>\n",
       "      <td>c</td>\n",
       "      <td>3</td>\n",
       "      <td>-1</td>\n",
       "    </tr>\n",
       "    <tr>\n",
       "      <th>7</th>\n",
       "      <td>d</td>\n",
       "      <td>-1</td>\n",
       "      <td>2</td>\n",
       "    </tr>\n",
       "  </tbody>\n",
       "</table>\n",
       "</div>"
      ],
      "text/plain": [
       "  key  data1  data2\n",
       "0   b      0      1\n",
       "1   b      1      1\n",
       "2   b      6      1\n",
       "3   a      2      0\n",
       "4   a      4      0\n",
       "5   a      5      0\n",
       "6   c      3     -1\n",
       "7   d     -1      2"
      ]
     },
     "execution_count": 31,
     "metadata": {},
     "output_type": "execute_result"
    }
   ],
   "source": [
    "test = pd.merge(df1,df2,how=\"outer\")\n",
    "test.fillna(-1)"
   ]
  },
  {
   "cell_type": "code",
   "execution_count": 51,
   "id": "9c49d790",
   "metadata": {},
   "outputs": [],
   "source": [
    "df1 = pd.DataFrame(np.arange(6).reshape(3, 2), index=[\"a\", \"b\", \"c\"],\n",
    "                   columns=[\"one\", \"two\"])\n",
    "df2 = pd.DataFrame(5 + np.arange(4).reshape(2, 2), index=[\"a\", \"c\"],\n",
    "                    columns=[\"three\", \"four\"])\n",
    "data = pd.concat([df1, df2], axis=\"columns\", keys=[\"level 1\", \"level 2\"])"
   ]
  },
  {
   "cell_type": "code",
   "execution_count": 53,
   "id": "0e648e72",
   "metadata": {},
   "outputs": [
    {
     "data": {
      "text/html": [
       "<div>\n",
       "<style scoped>\n",
       "    .dataframe tbody tr th:only-of-type {\n",
       "        vertical-align: middle;\n",
       "    }\n",
       "\n",
       "    .dataframe tbody tr th {\n",
       "        vertical-align: top;\n",
       "    }\n",
       "\n",
       "    .dataframe thead tr th {\n",
       "        text-align: left;\n",
       "    }\n",
       "</style>\n",
       "<table border=\"1\" class=\"dataframe\">\n",
       "  <thead>\n",
       "    <tr>\n",
       "      <th></th>\n",
       "      <th colspan=\"2\" halign=\"left\">level 1</th>\n",
       "      <th colspan=\"2\" halign=\"left\">level 2</th>\n",
       "    </tr>\n",
       "    <tr>\n",
       "      <th></th>\n",
       "      <th>one</th>\n",
       "      <th>two</th>\n",
       "      <th>three</th>\n",
       "      <th>four</th>\n",
       "    </tr>\n",
       "  </thead>\n",
       "  <tbody>\n",
       "    <tr>\n",
       "      <th>a</th>\n",
       "      <td>0</td>\n",
       "      <td>1</td>\n",
       "      <td>5.0</td>\n",
       "      <td>6.0</td>\n",
       "    </tr>\n",
       "    <tr>\n",
       "      <th>b</th>\n",
       "      <td>2</td>\n",
       "      <td>3</td>\n",
       "      <td>NaN</td>\n",
       "      <td>NaN</td>\n",
       "    </tr>\n",
       "    <tr>\n",
       "      <th>c</th>\n",
       "      <td>4</td>\n",
       "      <td>5</td>\n",
       "      <td>7.0</td>\n",
       "      <td>8.0</td>\n",
       "    </tr>\n",
       "  </tbody>\n",
       "</table>\n",
       "</div>"
      ],
      "text/plain": [
       "  level 1     level 2     \n",
       "      one two   three four\n",
       "a       0   1     5.0  6.0\n",
       "b       2   3     NaN  NaN\n",
       "c       4   5     7.0  8.0"
      ]
     },
     "execution_count": 53,
     "metadata": {},
     "output_type": "execute_result"
    }
   ],
   "source": [
    "data"
   ]
  },
  {
   "cell_type": "code",
   "execution_count": 54,
   "id": "bdb33fd0",
   "metadata": {},
   "outputs": [
    {
     "data": {
      "text/html": [
       "<div>\n",
       "<style scoped>\n",
       "    .dataframe tbody tr th:only-of-type {\n",
       "        vertical-align: middle;\n",
       "    }\n",
       "\n",
       "    .dataframe tbody tr th {\n",
       "        vertical-align: top;\n",
       "    }\n",
       "\n",
       "    .dataframe thead th {\n",
       "        text-align: right;\n",
       "    }\n",
       "</style>\n",
       "<table border=\"1\" class=\"dataframe\">\n",
       "  <thead>\n",
       "    <tr style=\"text-align: right;\">\n",
       "      <th></th>\n",
       "      <th></th>\n",
       "      <th>four</th>\n",
       "      <th>one</th>\n",
       "      <th>three</th>\n",
       "      <th>two</th>\n",
       "    </tr>\n",
       "  </thead>\n",
       "  <tbody>\n",
       "    <tr>\n",
       "      <th rowspan=\"2\" valign=\"top\">a</th>\n",
       "      <th>level 1</th>\n",
       "      <td>NaN</td>\n",
       "      <td>0.0</td>\n",
       "      <td>NaN</td>\n",
       "      <td>1.0</td>\n",
       "    </tr>\n",
       "    <tr>\n",
       "      <th>level 2</th>\n",
       "      <td>6.0</td>\n",
       "      <td>NaN</td>\n",
       "      <td>5.0</td>\n",
       "      <td>NaN</td>\n",
       "    </tr>\n",
       "    <tr>\n",
       "      <th>b</th>\n",
       "      <th>level 1</th>\n",
       "      <td>NaN</td>\n",
       "      <td>2.0</td>\n",
       "      <td>NaN</td>\n",
       "      <td>3.0</td>\n",
       "    </tr>\n",
       "    <tr>\n",
       "      <th rowspan=\"2\" valign=\"top\">c</th>\n",
       "      <th>level 1</th>\n",
       "      <td>NaN</td>\n",
       "      <td>4.0</td>\n",
       "      <td>NaN</td>\n",
       "      <td>5.0</td>\n",
       "    </tr>\n",
       "    <tr>\n",
       "      <th>level 2</th>\n",
       "      <td>8.0</td>\n",
       "      <td>NaN</td>\n",
       "      <td>7.0</td>\n",
       "      <td>NaN</td>\n",
       "    </tr>\n",
       "  </tbody>\n",
       "</table>\n",
       "</div>"
      ],
      "text/plain": [
       "           four  one  three  two\n",
       "a level 1   NaN  0.0    NaN  1.0\n",
       "  level 2   6.0  NaN    5.0  NaN\n",
       "b level 1   NaN  2.0    NaN  3.0\n",
       "c level 1   NaN  4.0    NaN  5.0\n",
       "  level 2   8.0  NaN    7.0  NaN"
      ]
     },
     "execution_count": 54,
     "metadata": {},
     "output_type": "execute_result"
    }
   ],
   "source": [
    "data.stack(level=0)"
   ]
  },
  {
   "cell_type": "markdown",
   "id": "c3d9df6a",
   "metadata": {},
   "source": [
    "# Saving dataframe into multiple excel sheet"
   ]
  },
  {
   "cell_type": "code",
   "execution_count": 10,
   "id": "c373c93e",
   "metadata": {},
   "outputs": [],
   "source": [
    "import pandas as pd\n",
    "\n",
    "df1 = pd.DataFrame({'day':['mon','tue','wed','thu','fri'], 'cost':[1,2,3,4,5]})\n",
    "df2 = pd.DataFrame({'day':['sat','sun','mon','tue'], 'temp':[40,38,35,39]})\n",
    "\n",
    "with pd.ExcelWriter('C:/Users/farea/Desktop/testin.xlsx') as writer:\n",
    "    df1.to_excel(writer, sheet_name=\"Cost\")\n",
    "    df2.to_excel(writer, sheet_name=\"Temp\")"
   ]
  },
  {
   "cell_type": "markdown",
   "id": "25dbfc4b",
   "metadata": {},
   "source": [
    "Appending data frame to new sheet"
   ]
  },
  {
   "cell_type": "code",
   "execution_count": 11,
   "id": "75dd288e",
   "metadata": {},
   "outputs": [],
   "source": [
    "\n",
    "new_data = pd.DataFrame({'col1': ['C', 'D'], 'col2': [3, 4]})\n",
    "\n",
    "with pd.ExcelWriter('C:/Users/farea/Desktop/testin.xlsx', engine='openpyxl', mode='a') as writer:\n",
    "     new_data.to_excel(writer,sheet_name=\"new data\")"
   ]
  },
  {
   "cell_type": "markdown",
   "id": "6b48b7c5",
   "metadata": {},
   "source": [
    "This will result in new sheet created called 'new data'. You can then manually copy and paste the data into whatever sheet that you desired to append. \n",
    "\n",
    "For the mean time,  I'm still looking ways to directly append dataframe into existing data sheet in excel."
   ]
  },
  {
   "cell_type": "markdown",
   "id": "a7cc4ed8",
   "metadata": {},
   "source": [
    "# Using pivot and stack to change data structure from long to wide and vice versa\n",
    "\n",
    "Often time, we will need to handle with stacked and unstacked data frame when doing analysis. "
   ]
  },
  {
   "cell_type": "code",
   "execution_count": 54,
   "id": "52ebe77c",
   "metadata": {},
   "outputs": [
    {
     "data": {
      "text/plain": [
       "0       2008-01-02\n",
       "1       2008-01-03\n",
       "2       2008-01-04\n",
       "3       2008-01-07\n",
       "4       2008-01-08\n",
       "           ...    \n",
       "3690    2022-12-15\n",
       "3691    2022-12-16\n",
       "3692    2022-12-19\n",
       "3693    2022-12-20\n",
       "3694    2022-12-21\n",
       "Name: Date, Length: 3695, dtype: object"
      ]
     },
     "execution_count": 54,
     "metadata": {},
     "output_type": "execute_result"
    }
   ],
   "source": [
    "import pandas as pd\n",
    "import numpy as np\n",
    "\n",
    "path = 'C:/Users/farea/Desktop/0820EA.KL.csv'\n",
    "\n",
    "df = pd.read_csv(path)\n",
    "df['Date']"
   ]
  },
  {
   "cell_type": "code",
   "execution_count": 32,
   "id": "eff3d5bc",
   "metadata": {},
   "outputs": [
    {
     "data": {
      "text/html": [
       "<div>\n",
       "<style scoped>\n",
       "    .dataframe tbody tr th:only-of-type {\n",
       "        vertical-align: middle;\n",
       "    }\n",
       "\n",
       "    .dataframe tbody tr th {\n",
       "        vertical-align: top;\n",
       "    }\n",
       "\n",
       "    .dataframe thead th {\n",
       "        text-align: right;\n",
       "    }\n",
       "</style>\n",
       "<table border=\"1\" class=\"dataframe\">\n",
       "  <thead>\n",
       "    <tr style=\"text-align: right;\">\n",
       "      <th></th>\n",
       "      <th>Open</th>\n",
       "      <th>High</th>\n",
       "      <th>Low</th>\n",
       "      <th>Close</th>\n",
       "      <th>Adj Close</th>\n",
       "      <th>Volume</th>\n",
       "    </tr>\n",
       "    <tr>\n",
       "      <th>Date</th>\n",
       "      <th></th>\n",
       "      <th></th>\n",
       "      <th></th>\n",
       "      <th></th>\n",
       "      <th></th>\n",
       "      <th></th>\n",
       "    </tr>\n",
       "  </thead>\n",
       "  <tbody>\n",
       "    <tr>\n",
       "      <th>2008-01-02</th>\n",
       "      <td>1.45036</td>\n",
       "      <td>1.45036</td>\n",
       "      <td>1.45036</td>\n",
       "      <td>1.45036</td>\n",
       "      <td>1.45036</td>\n",
       "      <td>0.0</td>\n",
       "    </tr>\n",
       "    <tr>\n",
       "      <th>2008-01-03</th>\n",
       "      <td>1.45342</td>\n",
       "      <td>1.45342</td>\n",
       "      <td>1.45342</td>\n",
       "      <td>1.45342</td>\n",
       "      <td>1.45342</td>\n",
       "      <td>0.0</td>\n",
       "    </tr>\n",
       "    <tr>\n",
       "      <th>2008-01-04</th>\n",
       "      <td>1.49017</td>\n",
       "      <td>1.49017</td>\n",
       "      <td>1.49017</td>\n",
       "      <td>1.49017</td>\n",
       "      <td>1.49017</td>\n",
       "      <td>0.0</td>\n",
       "    </tr>\n",
       "    <tr>\n",
       "      <th>2008-01-07</th>\n",
       "      <td>1.49809</td>\n",
       "      <td>1.49809</td>\n",
       "      <td>1.49809</td>\n",
       "      <td>1.49809</td>\n",
       "      <td>1.49809</td>\n",
       "      <td>0.0</td>\n",
       "    </tr>\n",
       "    <tr>\n",
       "      <th>2008-01-08</th>\n",
       "      <td>1.51815</td>\n",
       "      <td>1.51815</td>\n",
       "      <td>1.51815</td>\n",
       "      <td>1.51815</td>\n",
       "      <td>1.51815</td>\n",
       "      <td>0.0</td>\n",
       "    </tr>\n",
       "  </tbody>\n",
       "</table>\n",
       "</div>"
      ],
      "text/plain": [
       "               Open     High      Low    Close  Adj Close  Volume\n",
       "Date                                                             \n",
       "2008-01-02  1.45036  1.45036  1.45036  1.45036    1.45036     0.0\n",
       "2008-01-03  1.45342  1.45342  1.45342  1.45342    1.45342     0.0\n",
       "2008-01-04  1.49017  1.49017  1.49017  1.49017    1.49017     0.0\n",
       "2008-01-07  1.49809  1.49809  1.49809  1.49809    1.49809     0.0\n",
       "2008-01-08  1.51815  1.51815  1.51815  1.51815    1.51815     0.0"
      ]
     },
     "execution_count": 32,
     "metadata": {},
     "output_type": "execute_result"
    }
   ],
   "source": [
    "df = df.set_index([\"Date\"])\n",
    "df.head()"
   ]
  },
  {
   "cell_type": "code",
   "execution_count": 37,
   "id": "885bb467",
   "metadata": {},
   "outputs": [
    {
     "data": {
      "text/html": [
       "<div>\n",
       "<style scoped>\n",
       "    .dataframe tbody tr th:only-of-type {\n",
       "        vertical-align: middle;\n",
       "    }\n",
       "\n",
       "    .dataframe tbody tr th {\n",
       "        vertical-align: top;\n",
       "    }\n",
       "\n",
       "    .dataframe thead th {\n",
       "        text-align: right;\n",
       "    }\n",
       "</style>\n",
       "<table border=\"1\" class=\"dataframe\">\n",
       "  <thead>\n",
       "    <tr style=\"text-align: right;\">\n",
       "      <th></th>\n",
       "      <th>Date</th>\n",
       "      <th>Price</th>\n",
       "      <th>USD</th>\n",
       "    </tr>\n",
       "  </thead>\n",
       "  <tbody>\n",
       "    <tr>\n",
       "      <th>0</th>\n",
       "      <td>2008-01-02</td>\n",
       "      <td>Open</td>\n",
       "      <td>1.45036</td>\n",
       "    </tr>\n",
       "    <tr>\n",
       "      <th>1</th>\n",
       "      <td>2008-01-02</td>\n",
       "      <td>High</td>\n",
       "      <td>1.45036</td>\n",
       "    </tr>\n",
       "    <tr>\n",
       "      <th>2</th>\n",
       "      <td>2008-01-02</td>\n",
       "      <td>Low</td>\n",
       "      <td>1.45036</td>\n",
       "    </tr>\n",
       "    <tr>\n",
       "      <th>3</th>\n",
       "      <td>2008-01-02</td>\n",
       "      <td>Close</td>\n",
       "      <td>1.45036</td>\n",
       "    </tr>\n",
       "    <tr>\n",
       "      <th>4</th>\n",
       "      <td>2008-01-02</td>\n",
       "      <td>Adj Close</td>\n",
       "      <td>1.45036</td>\n",
       "    </tr>\n",
       "  </tbody>\n",
       "</table>\n",
       "</div>"
      ],
      "text/plain": [
       "         Date      Price      USD\n",
       "0  2008-01-02       Open  1.45036\n",
       "1  2008-01-02       High  1.45036\n",
       "2  2008-01-02        Low  1.45036\n",
       "3  2008-01-02      Close  1.45036\n",
       "4  2008-01-02  Adj Close  1.45036"
      ]
     },
     "execution_count": 37,
     "metadata": {},
     "output_type": "execute_result"
    }
   ],
   "source": [
    "long_data = (df.stack()\n",
    "            .reset_index()\n",
    "            .rename(columns = {0: 'USD', 'level_1': 'Price'}))\n",
    "long_data.head()"
   ]
  },
  {
   "cell_type": "markdown",
   "id": "32b3db30",
   "metadata": {},
   "source": [
    "Above, we obtain the long format for our data frame. Now, to get the wide format again, we just use the pivot method as below."
   ]
  },
  {
   "cell_type": "code",
   "execution_count": 53,
   "id": "a57dd4c2",
   "metadata": {},
   "outputs": [
    {
     "data": {
      "text/html": [
       "<div>\n",
       "<style scoped>\n",
       "    .dataframe tbody tr th:only-of-type {\n",
       "        vertical-align: middle;\n",
       "    }\n",
       "\n",
       "    .dataframe tbody tr th {\n",
       "        vertical-align: top;\n",
       "    }\n",
       "\n",
       "    .dataframe thead th {\n",
       "        text-align: right;\n",
       "    }\n",
       "</style>\n",
       "<table border=\"1\" class=\"dataframe\">\n",
       "  <thead>\n",
       "    <tr style=\"text-align: right;\">\n",
       "      <th>Price</th>\n",
       "      <th>index</th>\n",
       "      <th>Date</th>\n",
       "      <th>Adj Close</th>\n",
       "      <th>Close</th>\n",
       "      <th>High</th>\n",
       "      <th>Low</th>\n",
       "      <th>Open</th>\n",
       "      <th>Volume</th>\n",
       "    </tr>\n",
       "  </thead>\n",
       "  <tbody>\n",
       "    <tr>\n",
       "      <th>0</th>\n",
       "      <td>0</td>\n",
       "      <td>2008-01-02</td>\n",
       "      <td>1.45036</td>\n",
       "      <td>1.45036</td>\n",
       "      <td>1.45036</td>\n",
       "      <td>1.45036</td>\n",
       "      <td>1.45036</td>\n",
       "      <td>0.0</td>\n",
       "    </tr>\n",
       "    <tr>\n",
       "      <th>1</th>\n",
       "      <td>1</td>\n",
       "      <td>2008-01-03</td>\n",
       "      <td>1.45342</td>\n",
       "      <td>1.45342</td>\n",
       "      <td>1.45342</td>\n",
       "      <td>1.45342</td>\n",
       "      <td>1.45342</td>\n",
       "      <td>0.0</td>\n",
       "    </tr>\n",
       "    <tr>\n",
       "      <th>2</th>\n",
       "      <td>2</td>\n",
       "      <td>2008-01-04</td>\n",
       "      <td>1.49017</td>\n",
       "      <td>1.49017</td>\n",
       "      <td>1.49017</td>\n",
       "      <td>1.49017</td>\n",
       "      <td>1.49017</td>\n",
       "      <td>0.0</td>\n",
       "    </tr>\n",
       "    <tr>\n",
       "      <th>3</th>\n",
       "      <td>3</td>\n",
       "      <td>2008-01-07</td>\n",
       "      <td>1.49809</td>\n",
       "      <td>1.49809</td>\n",
       "      <td>1.49809</td>\n",
       "      <td>1.49809</td>\n",
       "      <td>1.49809</td>\n",
       "      <td>0.0</td>\n",
       "    </tr>\n",
       "    <tr>\n",
       "      <th>4</th>\n",
       "      <td>4</td>\n",
       "      <td>2008-01-08</td>\n",
       "      <td>1.51815</td>\n",
       "      <td>1.51815</td>\n",
       "      <td>1.51815</td>\n",
       "      <td>1.51815</td>\n",
       "      <td>1.51815</td>\n",
       "      <td>0.0</td>\n",
       "    </tr>\n",
       "    <tr>\n",
       "      <th>...</th>\n",
       "      <td>...</td>\n",
       "      <td>...</td>\n",
       "      <td>...</td>\n",
       "      <td>...</td>\n",
       "      <td>...</td>\n",
       "      <td>...</td>\n",
       "      <td>...</td>\n",
       "      <td>...</td>\n",
       "    </tr>\n",
       "    <tr>\n",
       "      <th>3680</th>\n",
       "      <td>3680</td>\n",
       "      <td>2022-12-15</td>\n",
       "      <td>1.54000</td>\n",
       "      <td>1.54000</td>\n",
       "      <td>1.54000</td>\n",
       "      <td>1.54000</td>\n",
       "      <td>1.54000</td>\n",
       "      <td>500.0</td>\n",
       "    </tr>\n",
       "    <tr>\n",
       "      <th>3681</th>\n",
       "      <td>3681</td>\n",
       "      <td>2022-12-16</td>\n",
       "      <td>1.53000</td>\n",
       "      <td>1.53000</td>\n",
       "      <td>1.53000</td>\n",
       "      <td>1.53000</td>\n",
       "      <td>1.53000</td>\n",
       "      <td>49000.0</td>\n",
       "    </tr>\n",
       "    <tr>\n",
       "      <th>3682</th>\n",
       "      <td>3682</td>\n",
       "      <td>2022-12-19</td>\n",
       "      <td>1.53000</td>\n",
       "      <td>1.53000</td>\n",
       "      <td>1.54000</td>\n",
       "      <td>1.53000</td>\n",
       "      <td>1.53500</td>\n",
       "      <td>4800.0</td>\n",
       "    </tr>\n",
       "    <tr>\n",
       "      <th>3683</th>\n",
       "      <td>3683</td>\n",
       "      <td>2022-12-20</td>\n",
       "      <td>1.54000</td>\n",
       "      <td>1.54000</td>\n",
       "      <td>1.54000</td>\n",
       "      <td>1.54000</td>\n",
       "      <td>1.54000</td>\n",
       "      <td>42000.0</td>\n",
       "    </tr>\n",
       "    <tr>\n",
       "      <th>3684</th>\n",
       "      <td>3684</td>\n",
       "      <td>2022-12-21</td>\n",
       "      <td>1.54000</td>\n",
       "      <td>1.54000</td>\n",
       "      <td>1.54000</td>\n",
       "      <td>1.54000</td>\n",
       "      <td>1.54000</td>\n",
       "      <td>2800.0</td>\n",
       "    </tr>\n",
       "  </tbody>\n",
       "</table>\n",
       "<p>3685 rows × 8 columns</p>\n",
       "</div>"
      ],
      "text/plain": [
       "Price  index        Date  Adj Close    Close     High      Low     Open  \\\n",
       "0          0  2008-01-02    1.45036  1.45036  1.45036  1.45036  1.45036   \n",
       "1          1  2008-01-03    1.45342  1.45342  1.45342  1.45342  1.45342   \n",
       "2          2  2008-01-04    1.49017  1.49017  1.49017  1.49017  1.49017   \n",
       "3          3  2008-01-07    1.49809  1.49809  1.49809  1.49809  1.49809   \n",
       "4          4  2008-01-08    1.51815  1.51815  1.51815  1.51815  1.51815   \n",
       "...      ...         ...        ...      ...      ...      ...      ...   \n",
       "3680    3680  2022-12-15    1.54000  1.54000  1.54000  1.54000  1.54000   \n",
       "3681    3681  2022-12-16    1.53000  1.53000  1.53000  1.53000  1.53000   \n",
       "3682    3682  2022-12-19    1.53000  1.53000  1.54000  1.53000  1.53500   \n",
       "3683    3683  2022-12-20    1.54000  1.54000  1.54000  1.54000  1.54000   \n",
       "3684    3684  2022-12-21    1.54000  1.54000  1.54000  1.54000  1.54000   \n",
       "\n",
       "Price   Volume  \n",
       "0          0.0  \n",
       "1          0.0  \n",
       "2          0.0  \n",
       "3          0.0  \n",
       "4          0.0  \n",
       "...        ...  \n",
       "3680     500.0  \n",
       "3681   49000.0  \n",
       "3682    4800.0  \n",
       "3683   42000.0  \n",
       "3684    2800.0  \n",
       "\n",
       "[3685 rows x 8 columns]"
      ]
     },
     "execution_count": 53,
     "metadata": {},
     "output_type": "execute_result"
    }
   ],
   "source": [
    "wide_data = long_data.pivot(index = \"Date\", columns = \"Price\", values = \"USD\")\n",
    "wide_data.reset_index()\n"
   ]
  },
  {
   "cell_type": "markdown",
   "id": "32610563",
   "metadata": {},
   "source": [
    "Another way of stacking is by using pandas melt method as follow"
   ]
  },
  {
   "cell_type": "code",
   "execution_count": 56,
   "id": "c29a91de",
   "metadata": {},
   "outputs": [
    {
     "data": {
      "text/html": [
       "<div>\n",
       "<style scoped>\n",
       "    .dataframe tbody tr th:only-of-type {\n",
       "        vertical-align: middle;\n",
       "    }\n",
       "\n",
       "    .dataframe tbody tr th {\n",
       "        vertical-align: top;\n",
       "    }\n",
       "\n",
       "    .dataframe thead th {\n",
       "        text-align: right;\n",
       "    }\n",
       "</style>\n",
       "<table border=\"1\" class=\"dataframe\">\n",
       "  <thead>\n",
       "    <tr style=\"text-align: right;\">\n",
       "      <th></th>\n",
       "      <th>Date</th>\n",
       "      <th>variable</th>\n",
       "      <th>value</th>\n",
       "    </tr>\n",
       "  </thead>\n",
       "  <tbody>\n",
       "    <tr>\n",
       "      <th>0</th>\n",
       "      <td>2008-01-02</td>\n",
       "      <td>Open</td>\n",
       "      <td>1.45036</td>\n",
       "    </tr>\n",
       "    <tr>\n",
       "      <th>1</th>\n",
       "      <td>2008-01-03</td>\n",
       "      <td>Open</td>\n",
       "      <td>1.45342</td>\n",
       "    </tr>\n",
       "    <tr>\n",
       "      <th>2</th>\n",
       "      <td>2008-01-04</td>\n",
       "      <td>Open</td>\n",
       "      <td>1.49017</td>\n",
       "    </tr>\n",
       "    <tr>\n",
       "      <th>3</th>\n",
       "      <td>2008-01-07</td>\n",
       "      <td>Open</td>\n",
       "      <td>1.49809</td>\n",
       "    </tr>\n",
       "    <tr>\n",
       "      <th>4</th>\n",
       "      <td>2008-01-08</td>\n",
       "      <td>Open</td>\n",
       "      <td>1.51815</td>\n",
       "    </tr>\n",
       "    <tr>\n",
       "      <th>...</th>\n",
       "      <td>...</td>\n",
       "      <td>...</td>\n",
       "      <td>...</td>\n",
       "    </tr>\n",
       "    <tr>\n",
       "      <th>22165</th>\n",
       "      <td>2022-12-15</td>\n",
       "      <td>Volume</td>\n",
       "      <td>500.00000</td>\n",
       "    </tr>\n",
       "    <tr>\n",
       "      <th>22166</th>\n",
       "      <td>2022-12-16</td>\n",
       "      <td>Volume</td>\n",
       "      <td>49000.00000</td>\n",
       "    </tr>\n",
       "    <tr>\n",
       "      <th>22167</th>\n",
       "      <td>2022-12-19</td>\n",
       "      <td>Volume</td>\n",
       "      <td>4800.00000</td>\n",
       "    </tr>\n",
       "    <tr>\n",
       "      <th>22168</th>\n",
       "      <td>2022-12-20</td>\n",
       "      <td>Volume</td>\n",
       "      <td>42000.00000</td>\n",
       "    </tr>\n",
       "    <tr>\n",
       "      <th>22169</th>\n",
       "      <td>2022-12-21</td>\n",
       "      <td>Volume</td>\n",
       "      <td>2800.00000</td>\n",
       "    </tr>\n",
       "  </tbody>\n",
       "</table>\n",
       "<p>22170 rows × 3 columns</p>\n",
       "</div>"
      ],
      "text/plain": [
       "             Date variable        value\n",
       "0      2008-01-02     Open      1.45036\n",
       "1      2008-01-03     Open      1.45342\n",
       "2      2008-01-04     Open      1.49017\n",
       "3      2008-01-07     Open      1.49809\n",
       "4      2008-01-08     Open      1.51815\n",
       "...           ...      ...          ...\n",
       "22165  2022-12-15   Volume    500.00000\n",
       "22166  2022-12-16   Volume  49000.00000\n",
       "22167  2022-12-19   Volume   4800.00000\n",
       "22168  2022-12-20   Volume  42000.00000\n",
       "22169  2022-12-21   Volume   2800.00000\n",
       "\n",
       "[22170 rows x 3 columns]"
      ]
     },
     "execution_count": 56,
     "metadata": {},
     "output_type": "execute_result"
    }
   ],
   "source": [
    "df_melt = pd.melt(df, id_vars='Date')\n",
    "df_melt"
   ]
  },
  {
   "cell_type": "markdown",
   "id": "ec1aef9f",
   "metadata": {},
   "source": [
    "Then we can unstack again using pivot method"
   ]
  },
  {
   "cell_type": "code",
   "execution_count": 57,
   "id": "cfcd92f5",
   "metadata": {},
   "outputs": [
    {
     "data": {
      "text/html": [
       "<div>\n",
       "<style scoped>\n",
       "    .dataframe tbody tr th:only-of-type {\n",
       "        vertical-align: middle;\n",
       "    }\n",
       "\n",
       "    .dataframe tbody tr th {\n",
       "        vertical-align: top;\n",
       "    }\n",
       "\n",
       "    .dataframe thead th {\n",
       "        text-align: right;\n",
       "    }\n",
       "</style>\n",
       "<table border=\"1\" class=\"dataframe\">\n",
       "  <thead>\n",
       "    <tr style=\"text-align: right;\">\n",
       "      <th>variable</th>\n",
       "      <th>Adj Close</th>\n",
       "      <th>Close</th>\n",
       "      <th>High</th>\n",
       "      <th>Low</th>\n",
       "      <th>Open</th>\n",
       "      <th>Volume</th>\n",
       "    </tr>\n",
       "    <tr>\n",
       "      <th>Date</th>\n",
       "      <th></th>\n",
       "      <th></th>\n",
       "      <th></th>\n",
       "      <th></th>\n",
       "      <th></th>\n",
       "      <th></th>\n",
       "    </tr>\n",
       "  </thead>\n",
       "  <tbody>\n",
       "    <tr>\n",
       "      <th>2008-01-02</th>\n",
       "      <td>1.45036</td>\n",
       "      <td>1.45036</td>\n",
       "      <td>1.45036</td>\n",
       "      <td>1.45036</td>\n",
       "      <td>1.45036</td>\n",
       "      <td>0.0</td>\n",
       "    </tr>\n",
       "    <tr>\n",
       "      <th>2008-01-03</th>\n",
       "      <td>1.45342</td>\n",
       "      <td>1.45342</td>\n",
       "      <td>1.45342</td>\n",
       "      <td>1.45342</td>\n",
       "      <td>1.45342</td>\n",
       "      <td>0.0</td>\n",
       "    </tr>\n",
       "    <tr>\n",
       "      <th>2008-01-04</th>\n",
       "      <td>1.49017</td>\n",
       "      <td>1.49017</td>\n",
       "      <td>1.49017</td>\n",
       "      <td>1.49017</td>\n",
       "      <td>1.49017</td>\n",
       "      <td>0.0</td>\n",
       "    </tr>\n",
       "    <tr>\n",
       "      <th>2008-01-07</th>\n",
       "      <td>1.49809</td>\n",
       "      <td>1.49809</td>\n",
       "      <td>1.49809</td>\n",
       "      <td>1.49809</td>\n",
       "      <td>1.49809</td>\n",
       "      <td>0.0</td>\n",
       "    </tr>\n",
       "    <tr>\n",
       "      <th>2008-01-08</th>\n",
       "      <td>1.51815</td>\n",
       "      <td>1.51815</td>\n",
       "      <td>1.51815</td>\n",
       "      <td>1.51815</td>\n",
       "      <td>1.51815</td>\n",
       "      <td>0.0</td>\n",
       "    </tr>\n",
       "    <tr>\n",
       "      <th>...</th>\n",
       "      <td>...</td>\n",
       "      <td>...</td>\n",
       "      <td>...</td>\n",
       "      <td>...</td>\n",
       "      <td>...</td>\n",
       "      <td>...</td>\n",
       "    </tr>\n",
       "    <tr>\n",
       "      <th>2022-12-15</th>\n",
       "      <td>1.54000</td>\n",
       "      <td>1.54000</td>\n",
       "      <td>1.54000</td>\n",
       "      <td>1.54000</td>\n",
       "      <td>1.54000</td>\n",
       "      <td>500.0</td>\n",
       "    </tr>\n",
       "    <tr>\n",
       "      <th>2022-12-16</th>\n",
       "      <td>1.53000</td>\n",
       "      <td>1.53000</td>\n",
       "      <td>1.53000</td>\n",
       "      <td>1.53000</td>\n",
       "      <td>1.53000</td>\n",
       "      <td>49000.0</td>\n",
       "    </tr>\n",
       "    <tr>\n",
       "      <th>2022-12-19</th>\n",
       "      <td>1.53000</td>\n",
       "      <td>1.53000</td>\n",
       "      <td>1.54000</td>\n",
       "      <td>1.53000</td>\n",
       "      <td>1.53500</td>\n",
       "      <td>4800.0</td>\n",
       "    </tr>\n",
       "    <tr>\n",
       "      <th>2022-12-20</th>\n",
       "      <td>1.54000</td>\n",
       "      <td>1.54000</td>\n",
       "      <td>1.54000</td>\n",
       "      <td>1.54000</td>\n",
       "      <td>1.54000</td>\n",
       "      <td>42000.0</td>\n",
       "    </tr>\n",
       "    <tr>\n",
       "      <th>2022-12-21</th>\n",
       "      <td>1.54000</td>\n",
       "      <td>1.54000</td>\n",
       "      <td>1.54000</td>\n",
       "      <td>1.54000</td>\n",
       "      <td>1.54000</td>\n",
       "      <td>2800.0</td>\n",
       "    </tr>\n",
       "  </tbody>\n",
       "</table>\n",
       "<p>3695 rows × 6 columns</p>\n",
       "</div>"
      ],
      "text/plain": [
       "variable    Adj Close    Close     High      Low     Open   Volume\n",
       "Date                                                              \n",
       "2008-01-02    1.45036  1.45036  1.45036  1.45036  1.45036      0.0\n",
       "2008-01-03    1.45342  1.45342  1.45342  1.45342  1.45342      0.0\n",
       "2008-01-04    1.49017  1.49017  1.49017  1.49017  1.49017      0.0\n",
       "2008-01-07    1.49809  1.49809  1.49809  1.49809  1.49809      0.0\n",
       "2008-01-08    1.51815  1.51815  1.51815  1.51815  1.51815      0.0\n",
       "...               ...      ...      ...      ...      ...      ...\n",
       "2022-12-15    1.54000  1.54000  1.54000  1.54000  1.54000    500.0\n",
       "2022-12-16    1.53000  1.53000  1.53000  1.53000  1.53000  49000.0\n",
       "2022-12-19    1.53000  1.53000  1.54000  1.53000  1.53500   4800.0\n",
       "2022-12-20    1.54000  1.54000  1.54000  1.54000  1.54000  42000.0\n",
       "2022-12-21    1.54000  1.54000  1.54000  1.54000  1.54000   2800.0\n",
       "\n",
       "[3695 rows x 6 columns]"
      ]
     },
     "execution_count": 57,
     "metadata": {},
     "output_type": "execute_result"
    }
   ],
   "source": [
    "df_cast = df_melt.pivot(index='Date', columns='variable', values='value')\n",
    "df_cast"
   ]
  }
 ],
 "metadata": {
  "kernelspec": {
   "display_name": "Python 3 (ipykernel)",
   "language": "python",
   "name": "python3"
  },
  "language_info": {
   "codemirror_mode": {
    "name": "ipython",
    "version": 3
   },
   "file_extension": ".py",
   "mimetype": "text/x-python",
   "name": "python",
   "nbconvert_exporter": "python",
   "pygments_lexer": "ipython3",
   "version": "3.9.13"
  }
 },
 "nbformat": 4,
 "nbformat_minor": 5
}
