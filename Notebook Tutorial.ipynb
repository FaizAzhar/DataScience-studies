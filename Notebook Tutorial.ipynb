{
 "cells": [
  {
   "cell_type": "code",
   "execution_count": 1,
   "id": "247c908b",
   "metadata": {},
   "outputs": [
    {
     "name": "stdout",
     "output_type": "stream",
     "text": [
      "Hello World\n"
     ]
    }
   ],
   "source": [
    "print(\"Hello World\")"
   ]
  },
  {
   "cell_type": "markdown",
   "id": "fbf59d66",
   "metadata": {},
   "source": [
    "# Testing\n",
    "## This is a tester\n",
    "for reference, please read https://wesmckinney.com/book/numpy-basics.html. The writer made such a good explanation on everything that you need to know as a preparation to become a good data scientist."
   ]
  },
  {
   "cell_type": "code",
   "execution_count": 2,
   "id": "95da9c4a",
   "metadata": {},
   "outputs": [
    {
     "name": "stdout",
     "output_type": "stream",
     "text": [
      "Hello World\n"
     ]
    }
   ],
   "source": [
    "print(\"Hello World\")\n"
   ]
  },
  {
   "cell_type": "markdown",
   "id": "0a305dc3",
   "metadata": {},
   "source": [
    "Hello there\n"
   ]
  },
  {
   "cell_type": "code",
   "execution_count": 22,
   "id": "a8529a3d",
   "metadata": {},
   "outputs": [
    {
     "data": {
      "text/plain": [
       "[2, 4, 5]"
      ]
     },
     "execution_count": 22,
     "metadata": {},
     "output_type": "execute_result"
    }
   ],
   "source": [
    "seq = [1,2,4,5,4,6,7,8]\n",
    "seq[1:4]"
   ]
  },
  {
   "cell_type": "code",
   "execution_count": 2,
   "id": "003298ca",
   "metadata": {},
   "outputs": [
    {
     "data": {
      "text/plain": [
       "[1, 2, 4, 5]"
      ]
     },
     "execution_count": 2,
     "metadata": {},
     "output_type": "execute_result"
    }
   ],
   "source": [
    "seq[:4]"
   ]
  },
  {
   "cell_type": "code",
   "execution_count": 10,
   "id": "e0a0dc21",
   "metadata": {},
   "outputs": [
    {
     "data": {
      "text/plain": [
       "[1, 2, 4, 4, 5, 6, 7, 8]"
      ]
     },
     "execution_count": 10,
     "metadata": {},
     "output_type": "execute_result"
    }
   ],
   "source": [
    "seq.sort()\n",
    "seq"
   ]
  },
  {
   "cell_type": "code",
   "execution_count": 23,
   "id": "89a63fcc",
   "metadata": {},
   "outputs": [
    {
     "data": {
      "text/plain": [
       "[1, 2, 4, 5, 4, 6, 7, 8, 1, 1, 1, 2, 2, 2, 3]"
      ]
     },
     "execution_count": 23,
     "metadata": {},
     "output_type": "execute_result"
    }
   ],
   "source": [
    ";,oList = [1,1,1,2,2,2,3]\n",
    "for elem in oList:.\n",
    "    seq.append(elem)\n",
    "seq"
   ]
  },
  {
   "cell_type": "code",
   "execution_count": 40,
   "id": "5c6c7081",
   "metadata": {},
   "outputs": [
    {
     "data": {
      "text/plain": [
       "{0: 5, 1: 4, 2: 3, 3: 2, 4: 1}"
      ]
     },
     "execution_count": 40,
     "metadata": {},
     "output_type": "execute_result"
    }
   ],
   "source": [
    "oDict = {}\n",
    "for key, val in zip(range(5),range(5,0,-1)):\n",
    "    oDict[key] = val\n",
    "oDict"
   ]
  },
  {
   "cell_type": "code",
   "execution_count": 43,
   "id": "75d48dc3",
   "metadata": {},
   "outputs": [],
   "source": [
    "oSeta = {1,1,1,1,2,2,2,2,2,3,3,3}\n",
    "oSetb = {3,3,3,3,3,4,4,5,6,6,6,7}"
   ]
  },
  {
   "cell_type": "code",
   "execution_count": 51,
   "id": "f7a4dcff",
   "metadata": {},
   "outputs": [
    {
     "data": {
      "text/plain": [
       "{1, 2, 3, 5}"
      ]
     },
     "execution_count": 51,
     "metadata": {},
     "output_type": "execute_result"
    }
   ],
   "source": [
    "oSeta.add(5)\n",
    "oSeta"
   ]
  },
  {
   "cell_type": "markdown",
   "id": "daf32aef",
   "metadata": {},
   "source": [
    "## Writing a function \n",
    "### testing to write a function in jupyter notebook\n"
   ]
  },
  {
   "cell_type": "code",
   "execution_count": 1,
   "id": "d96e9167",
   "metadata": {},
   "outputs": [],
   "source": [
    "def oSum(x,y):\n",
    "    return x + y"
   ]
  },
  {
   "cell_type": "code",
   "execution_count": 2,
   "id": "47128be4",
   "metadata": {},
   "outputs": [
    {
     "data": {
      "text/plain": [
       "7"
      ]
     },
     "execution_count": 2,
     "metadata": {},
     "output_type": "execute_result"
    }
   ],
   "source": [
    "oSum(3,4)"
   ]
  },
  {
   "cell_type": "code",
   "execution_count": 3,
   "id": "4f0a7a37",
   "metadata": {},
   "outputs": [],
   "source": [
    "def oMult3num(a,b,c,d,e,f):\n",
    "    return a*b, c*d, e*f"
   ]
  },
  {
   "cell_type": "code",
   "execution_count": 4,
   "id": "10b830bd",
   "metadata": {},
   "outputs": [
    {
     "data": {
      "text/plain": [
       "(2, 12, 30)"
      ]
     },
     "execution_count": 4,
     "metadata": {},
     "output_type": "execute_result"
    }
   ],
   "source": [
    "oMult3num(1,2,3,4,5,6)"
   ]
  },
  {
   "cell_type": "code",
   "execution_count": 8,
   "id": "91b1e888",
   "metadata": {},
   "outputs": [
    {
     "data": {
      "text/plain": [
       "tuple"
      ]
     },
     "execution_count": 8,
     "metadata": {},
     "output_type": "execute_result"
    }
   ],
   "source": [
    "ans = oMult3num(1,2,3,4,5,6)\n",
    "type(ans)"
   ]
  },
  {
   "cell_type": "markdown",
   "id": "3b3a35b7",
   "metadata": {},
   "source": [
    "## Built in function that is frequently used in data science\n"
   ]
  },
  {
   "cell_type": "markdown",
   "id": "0f51aa0f",
   "metadata": {},
   "source": [
    "### 1. enumerate\n",
    "#### enumerate will return a tuple of (i, value)\n"
   ]
  },
  {
   "cell_type": "code",
   "execution_count": 8,
   "id": "fb2eb9a2",
   "metadata": {},
   "outputs": [
    {
     "name": "stdout",
     "output_type": "stream",
     "text": [
      "[2, 3, 4, 5, 6, 7, 8] 7\n"
     ]
    }
   ],
   "source": [
    "oList = [1,2,3,4,5,6,7]\n",
    "oIndex = 0\n",
    "newList = []\n",
    "for oVal in oList:\n",
    "    newList.append(oVal + 1)\n",
    "    oIndex += 1\n",
    "print(newList, oIndex)"
   ]
  },
  {
   "cell_type": "markdown",
   "id": "d33282cc",
   "metadata": {},
   "source": [
    "#### instead of doing as above, we can use enumerate function as below"
   ]
  },
  {
   "cell_type": "code",
   "execution_count": 9,
   "id": "fa9da3e8",
   "metadata": {},
   "outputs": [
    {
     "name": "stdout",
     "output_type": "stream",
     "text": [
      "[2, 3, 4, 5, 6, 7, 8] 6\n"
     ]
    }
   ],
   "source": [
    "oList = [1,2,3,4,5,6,7]\n",
    "newList = []\n",
    "for oIndex, oVal in enumerate(oList):\n",
    "    newList.append(oVal + 1)\n",
    "    \n",
    "print(newList, oIndex)"
   ]
  },
  {
   "cell_type": "markdown",
   "id": "c102ef75",
   "metadata": {},
   "source": [
    "### 2. sorted\n",
    "#### If we have a list, this function will sort the value of the list"
   ]
  },
  {
   "cell_type": "code",
   "execution_count": 11,
   "id": "f33eb3a1",
   "metadata": {},
   "outputs": [
    {
     "data": {
      "text/plain": [
       "[0, 2, 2, 4, 4, 5, 6, 6, 7, 7]"
      ]
     },
     "execution_count": 11,
     "metadata": {},
     "output_type": "execute_result"
    }
   ],
   "source": [
    "oList = [6,4,7,2,7,2,5,0,4,6]\n",
    "sorted(oList)"
   ]
  },
  {
   "cell_type": "markdown",
   "id": "6e04737e",
   "metadata": {},
   "source": [
    "### 3. zip\n",
    "#### “pairs” up the elements of a number of lists, tuples, or other sequences to create a list of tuples"
   ]
  },
  {
   "cell_type": "code",
   "execution_count": 20,
   "id": "40ae5a2f",
   "metadata": {},
   "outputs": [
    {
     "data": {
      "text/plain": [
       "[(1, 0),\n",
       " (2, 2),\n",
       " (3, 2),\n",
       " (4, 4),\n",
       " (5, 4),\n",
       " (6, 5),\n",
       " (7, 6),\n",
       " (8, 6),\n",
       " (9, 7),\n",
       " (10, 7)]"
      ]
     },
     "execution_count": 20,
     "metadata": {},
     "output_type": "execute_result"
    }
   ],
   "source": [
    "oList = sorted(oList)\n",
    "oSeq = list(range(1,11))\n",
    "oPair = zip(oSeq, oList)\n",
    "list(oPair)"
   ]
  },
  {
   "cell_type": "markdown",
   "id": "dfacc138",
   "metadata": {},
   "source": [
    "## A taste of functional programming vs. object-oriented programming\n",
    "### This is just an example from what I understand the difference between these 2 ways of writing a program"
   ]
  },
  {
   "cell_type": "markdown",
   "id": "dfcbc618",
   "metadata": {},
   "source": [
    "### Functional Programming"
   ]
  },
  {
   "cell_type": "code",
   "execution_count": 25,
   "id": "c5f4410b",
   "metadata": {},
   "outputs": [],
   "source": [
    "import re\n",
    "def remove_punctuation(value):\n",
    "    return re.sub(\"[!#?]\", \"\", value)\n",
    "\n",
    "clean_ops = [str.strip, remove_punctuation, str.title]\n",
    "\n",
    "def clean_strings(strings, ops):\n",
    "    result = []\n",
    "    for value in strings:\n",
    "        for func in ops:\n",
    "            value = func(value)\n",
    "        result.append(value)\n",
    "    return result"
   ]
  },
  {
   "cell_type": "code",
   "execution_count": 26,
   "id": "165f01aa",
   "metadata": {},
   "outputs": [
    {
     "data": {
      "text/plain": [
       "['Alabama',\n",
       " 'Georgia',\n",
       " 'Georgia',\n",
       " 'Georgia',\n",
       " 'Florida',\n",
       " 'South   Carolina',\n",
       " 'West Virginia']"
      ]
     },
     "execution_count": 26,
     "metadata": {},
     "output_type": "execute_result"
    }
   ],
   "source": [
    "states = [\"   Alabama \", \"Georgia!\", \"Georgia\", \"georgia\", \"FlOrIda\", \"south   carolina##\", \"West virginia?\"]\n",
    "clean_strings(states,clean_ops)"
   ]
  },
  {
   "cell_type": "markdown",
   "id": "ade7919d",
   "metadata": {},
   "source": [
    "### Lambda function"
   ]
  },
  {
   "cell_type": "code",
   "execution_count": 27,
   "id": "11635fae",
   "metadata": {},
   "outputs": [
    {
     "data": {
      "text/plain": [
       "[0, 4, 4, 16, 16, 25, 36, 36, 49, 49]"
      ]
     },
     "execution_count": 27,
     "metadata": {},
     "output_type": "execute_result"
    }
   ],
   "source": [
    "def test_func(some_list, f):\n",
    "    return [f(x) for x in some_list]\n",
    "\n",
    "test_func(oList, lambda x: x**2)\n"
   ]
  },
  {
   "cell_type": "markdown",
   "id": "e9463ed6",
   "metadata": {},
   "source": [
    "## To open & write file using the built in function"
   ]
  },
  {
   "cell_type": "code",
   "execution_count": 35,
   "id": "e4c437f2",
   "metadata": {},
   "outputs": [],
   "source": [
    "path = \"C:/Users/farea/Desktop/test.txt\"\n",
    "oFile = open(path, encoding = \"utf-8\")"
   ]
  },
  {
   "cell_type": "code",
   "execution_count": 36,
   "id": "f56074ce",
   "metadata": {},
   "outputs": [
    {
     "data": {
      "text/plain": [
       "['testing2 one to three',\n",
       " 'hi there,',\n",
       " '',\n",
       " 'just testing how to open a txt file,',\n",
       " 'here,',\n",
       " 'wish me luck',\n",
       " 'gg']"
      ]
     },
     "execution_count": 36,
     "metadata": {},
     "output_type": "execute_result"
    }
   ],
   "source": [
    "oLine = [x.rstrip() for x in oFile]\n",
    "oLine"
   ]
  },
  {
   "cell_type": "markdown",
   "id": "ddbac15b",
   "metadata": {},
   "source": [
    "it is best to close back the file that you just opened to reduce the running storage"
   ]
  },
  {
   "cell_type": "code",
   "execution_count": 37,
   "id": "65a8757a",
   "metadata": {},
   "outputs": [],
   "source": [
    "oFile.close()"
   ]
  },
  {
   "cell_type": "markdown",
   "id": "78e1c0a7",
   "metadata": {},
   "source": [
    "# Using NumPy\n",
    "we'll use NumPy because the array develop in NumPy can perform faster calculation compare to the usual list in Python. i.e, if use list need to use loop to do calculation on each of the list's element. But using ndarray, the computation will be done to all elements at once."
   ]
  },
  {
   "cell_type": "code",
   "execution_count": 42,
   "id": "8f5716b0",
   "metadata": {},
   "outputs": [],
   "source": [
    "import numpy as np"
   ]
  },
  {
   "cell_type": "code",
   "execution_count": 43,
   "id": "a1064306",
   "metadata": {},
   "outputs": [
    {
     "data": {
      "text/plain": [
       "array([ 1,  2,  3,  4,  5,  6,  7,  8,  9, 10, 11, 12, 13, 14, 15, 16, 17,\n",
       "       18, 19])"
      ]
     },
     "execution_count": 43,
     "metadata": {},
     "output_type": "execute_result"
    }
   ],
   "source": [
    "oRng = np.arange(1,20)\n",
    "oRng"
   ]
  },
  {
   "cell_type": "code",
   "execution_count": null,
   "id": "48f8c420",
   "metadata": {},
   "outputs": [],
   "source": []
  }
 ],
 "metadata": {
  "kernelspec": {
   "display_name": "Python 3 (ipykernel)",
   "language": "python",
   "name": "python3"
  },
  "language_info": {
   "codemirror_mode": {
    "name": "ipython",
    "version": 3
   },
   "file_extension": ".py",
   "mimetype": "text/x-python",
   "name": "python",
   "nbconvert_exporter": "python",
   "pygments_lexer": "ipython3",
   "version": "3.9.13"
  }
 },
 "nbformat": 4,
 "nbformat_minor": 5
}
