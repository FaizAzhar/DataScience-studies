{
 "cells": [
  {
   "cell_type": "code",
   "execution_count": 1,
   "id": "fc457337",
   "metadata": {},
   "outputs": [],
   "source": [
    "%matplotlib inline"
   ]
  },
  {
   "cell_type": "markdown",
   "id": "af0ffc3f",
   "metadata": {},
   "source": [
    "Both simulations are the summary taken from this article:\n",
    "* https://www.statisticshowto.com/probability-and-statistics/hypothesis-testing/f-test/\n",
    "\n",
    "Data for our simulation is taken from MysIDC (Malaysia Informative Data Centre). Kudos for Malaysia Government because now they have taken a small initiative in reducing data illiteracy among Malaysian citizen.\n",
    "\n",
    "# F-test\n",
    "\n",
    "This test is used by researcher to compare the variance between two sample sets. For instance, if we have dataset 1 with variance 6 and dataset 2 with variance 2, if we conduct an F-test, the F-statistic that we'll have is given by \n",
    "\n",
    "$$ F = \\frac{\\sigma_{1}^2}{\\sigma_{2}^2} = \\frac{6}{2} = 3 $$\n",
    "\n",
    "and we'll use the f distribution table to check and compare this F-statistic with the critical value that we desired.\n",
    "The underlying idea of why this test make sense is that we are actually comparing the variability of our sample. If we assume that both of our datasets are coming from normal distribution, however, if one of the dataset have a very large variability compare to the other dataset, we could say that both datasets might coming from a different normal distribution.\n",
    "\n",
    "One example that we can try to think of is the temperature data. If we have two researchers collecting temperature value at two different places which is a researcher A collects the data from the Arctic region and researcher B collects the data from Sahara region. Obviously a person can tell right away which dataset are coming from researcher B or researcher A right? A desert temperature can vary from 40 degree Celsius to -4 degree Celsius while temperature at the Arctic varies from -34 degree Celsius to -12 degree Celsius. In other words, higher variability among two datasets might indicate a different origin (coming from different distribution).\n",
    "\n",
    "Now, let us look into this test further by simulate it using the data that we have (will use the MysIDC \"Illiteracy rate of population aged 15-24 years by sex 2001-2021\" dataset for the simulation)."
   ]
  },
  {
   "cell_type": "markdown",
   "id": "6694ee2c",
   "metadata": {},
   "source": [
    "Please note that before doing F-test, we should check first our data if it follows the below assumption:\n",
    "1. Normally distributed (can use qqplot, shapiro etc. to check)\n",
    "2. Homoscedasticity (equal variance) (can use bartlett, levene, chi square etc. to check)\n",
    "3. Independency. (sometime we can try to use residual plot to check if our data has increasing/decreasing, sinusoidal pattern)\n",
    "\n",
    "If our data violate one of the assumptions above, F-test result (or other parametric analysis such as t-test, anova) will be inaccurate. Thus, we might need to use other statistical technique for analysis (usually will use nonparametric technique).\n",
    "\n",
    "However, for this simulation, I will skip checking the assumptions since my focus is to see if we can really obtain the F-distribution if we use the formula \\$ F = \\frac{\\sigma_{1}^2}{\\sigma_{2}^2}$ above to generate our sampling distribution."
   ]
  },
  {
   "cell_type": "code",
   "execution_count": 36,
   "id": "5ed17ecc",
   "metadata": {},
   "outputs": [
    {
     "data": {
      "text/html": [
       "<div>\n",
       "<style scoped>\n",
       "    .dataframe tbody tr th:only-of-type {\n",
       "        vertical-align: middle;\n",
       "    }\n",
       "\n",
       "    .dataframe tbody tr th {\n",
       "        vertical-align: top;\n",
       "    }\n",
       "\n",
       "    .dataframe thead th {\n",
       "        text-align: right;\n",
       "    }\n",
       "</style>\n",
       "<table border=\"1\" class=\"dataframe\">\n",
       "  <thead>\n",
       "    <tr style=\"text-align: right;\">\n",
       "      <th>Sex</th>\n",
       "      <th>Female</th>\n",
       "      <th>Male</th>\n",
       "      <th>Total</th>\n",
       "    </tr>\n",
       "    <tr>\n",
       "      <th>Year</th>\n",
       "      <th></th>\n",
       "      <th></th>\n",
       "      <th></th>\n",
       "    </tr>\n",
       "  </thead>\n",
       "  <tbody>\n",
       "    <tr>\n",
       "      <th>2001</th>\n",
       "      <td>1.700000</td>\n",
       "      <td>1.500000</td>\n",
       "      <td>1.600000</td>\n",
       "    </tr>\n",
       "    <tr>\n",
       "      <th>2002</th>\n",
       "      <td>1.800000</td>\n",
       "      <td>1.700000</td>\n",
       "      <td>1.800000</td>\n",
       "    </tr>\n",
       "    <tr>\n",
       "      <th>2003</th>\n",
       "      <td>1.700000</td>\n",
       "      <td>1.600000</td>\n",
       "      <td>1.700000</td>\n",
       "    </tr>\n",
       "    <tr>\n",
       "      <th>2004</th>\n",
       "      <td>1.800000</td>\n",
       "      <td>1.600000</td>\n",
       "      <td>1.700000</td>\n",
       "    </tr>\n",
       "    <tr>\n",
       "      <th>2005</th>\n",
       "      <td>1.700000</td>\n",
       "      <td>1.500000</td>\n",
       "      <td>1.600000</td>\n",
       "    </tr>\n",
       "    <tr>\n",
       "      <th>2006</th>\n",
       "      <td>1.600000</td>\n",
       "      <td>1.600000</td>\n",
       "      <td>1.600000</td>\n",
       "    </tr>\n",
       "    <tr>\n",
       "      <th>2007</th>\n",
       "      <td>1.500000</td>\n",
       "      <td>1.500000</td>\n",
       "      <td>1.500000</td>\n",
       "    </tr>\n",
       "    <tr>\n",
       "      <th>2008</th>\n",
       "      <td>1.600000</td>\n",
       "      <td>1.600000</td>\n",
       "      <td>1.600000</td>\n",
       "    </tr>\n",
       "    <tr>\n",
       "      <th>2009</th>\n",
       "      <td>1.600000</td>\n",
       "      <td>1.500000</td>\n",
       "      <td>1.500000</td>\n",
       "    </tr>\n",
       "    <tr>\n",
       "      <th>2010</th>\n",
       "      <td>2.000000</td>\n",
       "      <td>2.200000</td>\n",
       "      <td>2.100000</td>\n",
       "    </tr>\n",
       "    <tr>\n",
       "      <th>2011</th>\n",
       "      <td>2.000000</td>\n",
       "      <td>2.200000</td>\n",
       "      <td>2.100000</td>\n",
       "    </tr>\n",
       "    <tr>\n",
       "      <th>2012</th>\n",
       "      <td>1.900000</td>\n",
       "      <td>2.500000</td>\n",
       "      <td>2.200000</td>\n",
       "    </tr>\n",
       "    <tr>\n",
       "      <th>2013</th>\n",
       "      <td>2.500000</td>\n",
       "      <td>2.600000</td>\n",
       "      <td>2.600000</td>\n",
       "    </tr>\n",
       "    <tr>\n",
       "      <th>2014</th>\n",
       "      <td>2.300000</td>\n",
       "      <td>2.600000</td>\n",
       "      <td>2.400000</td>\n",
       "    </tr>\n",
       "    <tr>\n",
       "      <th>2015</th>\n",
       "      <td>2.500000</td>\n",
       "      <td>3.600000</td>\n",
       "      <td>3.100000</td>\n",
       "    </tr>\n",
       "    <tr>\n",
       "      <th>2016</th>\n",
       "      <td>2.200000</td>\n",
       "      <td>2.600000</td>\n",
       "      <td>2.400000</td>\n",
       "    </tr>\n",
       "    <tr>\n",
       "      <th>2017</th>\n",
       "      <td>2.600000</td>\n",
       "      <td>2.900000</td>\n",
       "      <td>2.700000</td>\n",
       "    </tr>\n",
       "    <tr>\n",
       "      <th>2018</th>\n",
       "      <td>2.982435</td>\n",
       "      <td>3.305768</td>\n",
       "      <td>3.150956</td>\n",
       "    </tr>\n",
       "    <tr>\n",
       "      <th>2019</th>\n",
       "      <td>3.300000</td>\n",
       "      <td>3.100000</td>\n",
       "      <td>3.400000</td>\n",
       "    </tr>\n",
       "    <tr>\n",
       "      <th>2020</th>\n",
       "      <td>2.600000</td>\n",
       "      <td>2.500000</td>\n",
       "      <td>2.700000</td>\n",
       "    </tr>\n",
       "    <tr>\n",
       "      <th>2021</th>\n",
       "      <td>2.500000</td>\n",
       "      <td>2.800000</td>\n",
       "      <td>2.700000</td>\n",
       "    </tr>\n",
       "  </tbody>\n",
       "</table>\n",
       "</div>"
      ],
      "text/plain": [
       "Sex     Female      Male     Total\n",
       "Year                              \n",
       "2001  1.700000  1.500000  1.600000\n",
       "2002  1.800000  1.700000  1.800000\n",
       "2003  1.700000  1.600000  1.700000\n",
       "2004  1.800000  1.600000  1.700000\n",
       "2005  1.700000  1.500000  1.600000\n",
       "2006  1.600000  1.600000  1.600000\n",
       "2007  1.500000  1.500000  1.500000\n",
       "2008  1.600000  1.600000  1.600000\n",
       "2009  1.600000  1.500000  1.500000\n",
       "2010  2.000000  2.200000  2.100000\n",
       "2011  2.000000  2.200000  2.100000\n",
       "2012  1.900000  2.500000  2.200000\n",
       "2013  2.500000  2.600000  2.600000\n",
       "2014  2.300000  2.600000  2.400000\n",
       "2015  2.500000  3.600000  3.100000\n",
       "2016  2.200000  2.600000  2.400000\n",
       "2017  2.600000  2.900000  2.700000\n",
       "2018  2.982435  3.305768  3.150956\n",
       "2019  3.300000  3.100000  3.400000\n",
       "2020  2.600000  2.500000  2.700000\n",
       "2021  2.500000  2.800000  2.700000"
      ]
     },
     "execution_count": 36,
     "metadata": {},
     "output_type": "execute_result"
    }
   ],
   "source": [
    "import matplotlib.pyplot as plt\n",
    "import numpy as np\n",
    "import pandas as pd\n",
    "\n",
    "path = 'C:/Users/farea/Desktop/Illiteracy rate of population aged 15-24 years by sex 2001 - 2021 Malaysia_dataset.xlsx'\n",
    "\n",
    "data = pd.read_excel(path)\n",
    "data = data.pivot(index='Year', columns = 'Sex', values = 'Illiteracy rate (%)')\n",
    "data"
   ]
  },
  {
   "cell_type": "code",
   "execution_count": 35,
   "id": "5f978752",
   "metadata": {},
   "outputs": [
    {
     "name": "stdout",
     "output_type": "stream",
     "text": [
      "Variance for female:  0.24166158261649978 \n",
      "Variance for male:  0.4343716532006387\n"
     ]
    }
   ],
   "source": [
    "var1 = np.var(data['Female'])\n",
    "var2 = np.var(data['Male'])\n",
    "print('Variance for female: ', var1,\n",
    "     '\\nVariance for male: ', var2)"
   ]
  },
  {
   "cell_type": "markdown",
   "id": "3bf2fdfa",
   "metadata": {},
   "source": [
    "We will see that there will not be a significant difference between variance of female and male illiteracy rate (because  0.4/0.2 \\$ \\approx $ 2 which is lesser than our critical value of 2.12 (df=(19,19)) (https://statisticsbyjim.com/hypothesis-testing/f-table/ for reference). But let us check if our intuition is correct or not. Since there is no specific package that contain f-test (that compare equality of variance among two sample), we'll create our own f-test"
   ]
  },
  {
   "cell_type": "code",
   "execution_count": 19,
   "id": "9e9f1de5",
   "metadata": {},
   "outputs": [],
   "source": [
    "# We'll use one sided f-test instead of two-sided\n",
    "\n",
    "def f_test(data1, data2, ci=0.90):\n",
    "    from scipy.stats import f\n",
    "    \n",
    "    var1 = np.var(data1)\n",
    "    var2 = np.var(data2)\n",
    "    \n",
    "    df1, df2 = len(data1)-1, len(data2)-1\n",
    "    \n",
    "    f_stat = var1/var2    \n",
    "    critical_val = f.ppf(ci, df1, df2)\n",
    "    pval = 1 - f.cdf(f_stat, df1, df2)\n",
    "    \n",
    "    return f_stat, critical_val, pval"
   ]
  },
  {
   "cell_type": "code",
   "execution_count": 37,
   "id": "cb12b0ae",
   "metadata": {},
   "outputs": [
    {
     "name": "stdout",
     "output_type": "stream",
     "text": [
      "With 95% confidence level and critical value of:  2.1241552129197356 \n",
      "we obtain an F-statistic of:  1.7974377577836047 \n",
      "with p-value:  0.0992422076811934\n"
     ]
    }
   ],
   "source": [
    "fval, critval, p = f_test(data['Male'],data['Female'], 0.95) # we'll test our data with 95% confidence level\n",
    "print('With 95% confidence level and critical value of: ', critval,\n",
    "      '\\nwe obtain an F-statistic of: ', fval, '\\nwith p-value: ', p)"
   ]
  },
  {
   "cell_type": "markdown",
   "id": "797096b0",
   "metadata": {},
   "source": [
    "And thus we don't have sufficient evident to reject the null hypothesis (that saying our sample have equal variance). So, we cannot conclude that the illiteracy rate between female and male has different variance.\n",
    "\n",
    "Now, we'll use sampling distribution and use plotting to visualize our f-distribution."
   ]
  },
  {
   "cell_type": "code",
   "execution_count": 46,
   "id": "c8922315",
   "metadata": {},
   "outputs": [
    {
     "name": "stdout",
     "output_type": "stream",
     "text": [
      "F-statistic from sampling distribution:  1.9700171574017917\n"
     ]
    }
   ],
   "source": [
    "nsample = 10000\n",
    "data1 = np.random.choice(data['Female'], size=(20,nsample)) # size=20 because we want to compare with our actual f-distribution with df(19,19)\n",
    "data2 = np.random.choice(data['Male'], size=(20,nsample))\n",
    "\n",
    "var1 = np.var(data1, axis=0)\n",
    "var2 = np.var(data2, axis=0)\n",
    "\n",
    "fvals = var2/var1\n",
    "fmean = np.mean(fvals)\n",
    "\n",
    "print('F-statistic from sampling distribution: ', fmean)"
   ]
  },
  {
   "cell_type": "code",
   "execution_count": 50,
   "id": "49895fe8",
   "metadata": {},
   "outputs": [
    {
     "data": {
      "text/plain": [
       "<matplotlib.legend.Legend at 0x20f11eac8e0>"
      ]
     },
     "execution_count": 50,
     "metadata": {},
     "output_type": "execute_result"
    },
    {
     "data": {
      "image/png": "[encoded data removed]",
      "text/plain": [
       "<Figure size 640x480 with 1 Axes>"
      ]
     },
     "metadata": {},
     "output_type": "display_data"
    }
   ],
   "source": [
    "from scipy.stats import f\n",
    "\n",
    "x = np.linspace(f.ppf(0.001, 19, 19), f.ppf(0.99, 19, 19), 100)\n",
    "rv = f(19,19)\n",
    "\n",
    "fig, ax = plt.subplots()\n",
    "ax.plot(x, rv.pdf(x), label='F-distribution with deg.of freedom (19,19)')\n",
    "ax.axvspan(0, f.ppf(0.95, 19, 19), color='yellow', alpha=0.3)\n",
    "ax.axvline(2.1241552129197356, linestyle='dashed', label='Critical value', color='red')\n",
    "ax.hist(fvals, density=True, color='black', alpha=0.3, label='F-Sampling Distribution')\n",
    "ax.axvline(fmean, linestyle='dashed', label='Mean from sampling distribution', color='black')\n",
    "ax.set_xlim([0,10])\n",
    "plt.legend(loc='best')"
   ]
  },
  {
   "cell_type": "markdown",
   "id": "962c0149",
   "metadata": {},
   "source": [
    "The F-test is different from ANOVA technique but the concept used is the same. The F-test that we have discussed here simply comparing the variance of two sample. However, the ANOVA use the F-test but it compares the within group variance (variation of data between its group mean) from the between group variance (variation of group mean). We'll look into this once we discussed the ANOVA technique in the future. "
   ]
  }
 ],
 "metadata": {
  "kernelspec": {
   "display_name": "Python 3 (ipykernel)",
   "language": "python",
   "name": "python3"
  },
  "language_info": {
   "codemirror_mode": {
    "name": "ipython",
    "version": 3
   },
   "file_extension": ".py",
   "mimetype": "text/x-python",
   "name": "python",
   "nbconvert_exporter": "python",
   "pygments_lexer": "ipython3",
   "version": "3.9.13"
  }
 },
 "nbformat": 4,
 "nbformat_minor": 5
}
