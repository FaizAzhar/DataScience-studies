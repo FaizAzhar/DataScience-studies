{
 "cells": [
  {
   "cell_type": "code",
   "execution_count": 1,
   "id": "e4f3a31c",
   "metadata": {},
   "outputs": [],
   "source": [
    "%matplotlib inline"
   ]
  },
  {
   "cell_type": "markdown",
   "id": "de76a478",
   "metadata": {},
   "source": [
    "Both simulations are the summary taken from these 2 articles:\n",
    "* https://www.statisticshowto.com/probability-and-statistics/t-test/\n",
    "* https://www.statisticshowto.com/probability-and-statistics/hypothesis-testing/f-test/\n",
    "\n",
    "Data for our simulation is taken from MysIDC (Malaysia Informative Data Centre). Kudos for Malaysia Government because now they have take a small initiative in reducing data illiteracy among Malaysian citizen.\n",
    "\n",
    "# T-test\n",
    "\n",
    "T-test is a statistical tool that is used by analysts to help comparing things, specifically comparing the mean difference between two things of a same type. For instance, let's say a pet company is selling cat foods Brand A and Brand B. At the end of year, the company's stakeholders ask the CEO to present data for manufacturing cost of the company. A good CEO will not just telling the stakeholders if they have increase/decrease manufacturing cost, but also must enlighten the stakeholders on what is the cause of the increase/decrease of the manufacturing cost. Maybe the manufacturing cost is driven by the cat food Brand A, and not by Brand B. Or maybe it is the other way around? \n",
    "\n",
    "So in order to find out the answer to the question above, what the CEO can do is to use the T-test to find out if it is true that there is a significant different between Brand A manufacturing cost and Brand B manufacturing cost.\n",
    "\n",
    "There are 3 things that T-test is useful for:\n",
    "* Compare means between two groups (Independent Sample T-test)\n",
    "* Compare means of a group but with 2 different times (Paired Sample T-test)\n",
    "* Compare one mean from the population mean (One Sample T-test)\n",
    "\n",
    "For the simulation below, I will go through briefly how the T-test is used and will use the Crustacean & Molluscs data from MysIDC as an example."
   ]
  },
  {
   "cell_type": "code",
   "execution_count": 28,
   "id": "dc838e94",
   "metadata": {},
   "outputs": [
    {
     "data": {
      "text/html": [
       "<div>\n",
       "<style scoped>\n",
       "    .dataframe tbody tr th:only-of-type {\n",
       "        vertical-align: middle;\n",
       "    }\n",
       "\n",
       "    .dataframe tbody tr th {\n",
       "        vertical-align: top;\n",
       "    }\n",
       "\n",
       "    .dataframe thead th {\n",
       "        text-align: right;\n",
       "    }\n",
       "</style>\n",
       "<table border=\"1\" class=\"dataframe\">\n",
       "  <thead>\n",
       "    <tr style=\"text-align: right;\">\n",
       "      <th></th>\n",
       "      <th>Category</th>\n",
       "      <th>Sub-Category</th>\n",
       "      <th>Year</th>\n",
       "      <th>Quantity ('000 Tonnes)</th>\n",
       "      <th>Value (RM Million)</th>\n",
       "    </tr>\n",
       "  </thead>\n",
       "  <tbody>\n",
       "    <tr>\n",
       "      <th>0</th>\n",
       "      <td>\\nCrustacean &amp; Molluscs</td>\n",
       "      <td>Cockle</td>\n",
       "      <td>2000</td>\n",
       "      <td>64.400</td>\n",
       "      <td>50.650</td>\n",
       "    </tr>\n",
       "    <tr>\n",
       "      <th>1</th>\n",
       "      <td>\\nCrustacean &amp; Molluscs</td>\n",
       "      <td>Cockle</td>\n",
       "      <td>2001</td>\n",
       "      <td>70.820</td>\n",
       "      <td>55.730</td>\n",
       "    </tr>\n",
       "    <tr>\n",
       "      <th>2</th>\n",
       "      <td>\\nCrustacean &amp; Molluscs</td>\n",
       "      <td>Cockle</td>\n",
       "      <td>2002</td>\n",
       "      <td>78.710</td>\n",
       "      <td>62.400</td>\n",
       "    </tr>\n",
       "    <tr>\n",
       "      <th>3</th>\n",
       "      <td>\\nCrustacean &amp; Molluscs</td>\n",
       "      <td>Cockle</td>\n",
       "      <td>2003</td>\n",
       "      <td>71.070</td>\n",
       "      <td>56.770</td>\n",
       "    </tr>\n",
       "    <tr>\n",
       "      <th>4</th>\n",
       "      <td>\\nCrustacean &amp; Molluscs</td>\n",
       "      <td>Cockle</td>\n",
       "      <td>2004</td>\n",
       "      <td>64.560</td>\n",
       "      <td>54.210</td>\n",
       "    </tr>\n",
       "    <tr>\n",
       "      <th>...</th>\n",
       "      <td>...</td>\n",
       "      <td>...</td>\n",
       "      <td>...</td>\n",
       "      <td>...</td>\n",
       "      <td>...</td>\n",
       "    </tr>\n",
       "    <tr>\n",
       "      <th>95</th>\n",
       "      <td>\\nCrustacean &amp; Molluscs</td>\n",
       "      <td>Shrimp</td>\n",
       "      <td>2015</td>\n",
       "      <td>58.000</td>\n",
       "      <td>1221.550</td>\n",
       "    </tr>\n",
       "    <tr>\n",
       "      <th>96</th>\n",
       "      <td>\\nCrustacean &amp; Molluscs</td>\n",
       "      <td>Shrimp</td>\n",
       "      <td>2016</td>\n",
       "      <td>43.253</td>\n",
       "      <td>918.632</td>\n",
       "    </tr>\n",
       "    <tr>\n",
       "      <th>97</th>\n",
       "      <td>\\nCrustacean &amp; Molluscs</td>\n",
       "      <td>Shrimp</td>\n",
       "      <td>2017</td>\n",
       "      <td>45.783</td>\n",
       "      <td>1067.337</td>\n",
       "    </tr>\n",
       "    <tr>\n",
       "      <th>98</th>\n",
       "      <td>\\nCrustacean &amp; Molluscs</td>\n",
       "      <td>Shrimp</td>\n",
       "      <td>2018</td>\n",
       "      <td>45.920</td>\n",
       "      <td>1114.950</td>\n",
       "    </tr>\n",
       "    <tr>\n",
       "      <th>99</th>\n",
       "      <td>\\nCrustacean &amp; Molluscs</td>\n",
       "      <td>Shrimp</td>\n",
       "      <td>2019</td>\n",
       "      <td>53.410</td>\n",
       "      <td>1257.740</td>\n",
       "    </tr>\n",
       "  </tbody>\n",
       "</table>\n",
       "<p>100 rows × 5 columns</p>\n",
       "</div>"
      ],
      "text/plain": [
       "                   Category Sub-Category  Year  Quantity ('000 Tonnes)  \\\n",
       "0   \\nCrustacean & Molluscs       Cockle  2000                  64.400   \n",
       "1   \\nCrustacean & Molluscs       Cockle  2001                  70.820   \n",
       "2   \\nCrustacean & Molluscs       Cockle  2002                  78.710   \n",
       "3   \\nCrustacean & Molluscs       Cockle  2003                  71.070   \n",
       "4   \\nCrustacean & Molluscs       Cockle  2004                  64.560   \n",
       "..                      ...          ...   ...                     ...   \n",
       "95  \\nCrustacean & Molluscs       Shrimp  2015                  58.000   \n",
       "96  \\nCrustacean & Molluscs       Shrimp  2016                  43.253   \n",
       "97  \\nCrustacean & Molluscs       Shrimp  2017                  45.783   \n",
       "98  \\nCrustacean & Molluscs       Shrimp  2018                  45.920   \n",
       "99  \\nCrustacean & Molluscs       Shrimp  2019                  53.410   \n",
       "\n",
       "    Value (RM Million)  \n",
       "0               50.650  \n",
       "1               55.730  \n",
       "2               62.400  \n",
       "3               56.770  \n",
       "4               54.210  \n",
       "..                 ...  \n",
       "95            1221.550  \n",
       "96             918.632  \n",
       "97            1067.337  \n",
       "98            1114.950  \n",
       "99            1257.740  \n",
       "\n",
       "[100 rows x 5 columns]"
      ]
     },
     "execution_count": 28,
     "metadata": {},
     "output_type": "execute_result"
    }
   ],
   "source": [
    "import pandas as pd\n",
    "import numpy as np\n",
    "\n",
    "path = 'C:/Users/farea/Desktop/10.3.7 Production of Crustacean & Molluscs (Brackishwater Aquaculture) Malaysia 2000 - 2019_dataset.xlsx'\n",
    "\n",
    "data = pd.read_excel(path)\n",
    "data"
   ]
  },
  {
   "cell_type": "code",
   "execution_count": 8,
   "id": "c4f6b6ad",
   "metadata": {},
   "outputs": [
    {
     "data": {
      "text/plain": [
       "array(['Cockle', 'Mussel', 'Oyster', 'Seaweed', 'Shrimp'], dtype=object)"
      ]
     },
     "execution_count": 8,
     "metadata": {},
     "output_type": "execute_result"
    }
   ],
   "source": [
    "data['Sub-Category'].unique()"
   ]
  },
  {
   "cell_type": "markdown",
   "id": "2105a80d",
   "metadata": {},
   "source": [
    "Since T-test can only be used to compare two things, I will choose seaweed and shrimp because usually I will put these two into the dishes that I cook. I would like to know if there is a different in the quantity being produce in Malaysia so that when I go to the grocery, I will know which seafood should I buy (since usually if we have abundant source of food, the price would go low)."
   ]
  },
  {
   "cell_type": "code",
   "execution_count": 34,
   "id": "0737c771",
   "metadata": {},
   "outputs": [
    {
     "data": {
      "text/plain": [
       "array(['Seaweed', 'Shrimp'], dtype=object)"
      ]
     },
     "execution_count": 34,
     "metadata": {},
     "output_type": "execute_result"
    }
   ],
   "source": [
    "data = data[(data['Sub-Category']=='Shrimp') | (data['Sub-Category']=='Seaweed')]\n",
    "data['Sub-Category'].unique()"
   ]
  },
  {
   "cell_type": "code",
   "execution_count": null,
   "id": "b1d36e36",
   "metadata": {},
   "outputs": [],
   "source": []
  }
 ],
 "metadata": {
  "kernelspec": {
   "display_name": "Python 3 (ipykernel)",
   "language": "python",
   "name": "python3"
  },
  "language_info": {
   "codemirror_mode": {
    "name": "ipython",
    "version": 3
   },
   "file_extension": ".py",
   "mimetype": "text/x-python",
   "name": "python",
   "nbconvert_exporter": "python",
   "pygments_lexer": "ipython3",
   "version": "3.9.13"
  }
 },
 "nbformat": 4,
 "nbformat_minor": 5
}
