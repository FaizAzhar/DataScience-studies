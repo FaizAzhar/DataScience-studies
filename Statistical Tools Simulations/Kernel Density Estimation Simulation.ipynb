{
 "cells": [
  {
   "cell_type": "code",
   "execution_count": 1,
   "id": "37068dfa",
   "metadata": {},
   "outputs": [],
   "source": [
    "%matplotlib inline"
   ]
  },
  {
   "cell_type": "markdown",
   "id": "10d2caeb",
   "metadata": {},
   "source": [
    "This note is written based on these readings and view:\n",
    "* https://www.real-statistics.com/distribution-fitting/kernel-density-estimation/#:~:text=A%20kernel%20is%20a%20probability,aka%20bandwidth)%20h%20%3E%200.\n",
    "* https://en.wikipedia.org/wiki/Kernel_(statistics)#Kernel_functions_in_common_use\n",
    "* https://www.youtube.com/watch?v=SUvPJ4URYGA\n",
    "\n",
    "\n",
    "# Kernel Density Estimation\n",
    "\n",
    "This is a technique that can be used to estimate the pdf of our data. It is a nonparametric technique since we do not use parameter such as the mean, standard deviation etc. but we simply just use the data points that we collected, put it inside a function (called kernel function) and we'll obtain the estimated pdf. The idea behind this technique is the histogram. For histogram, we can grouped our data into several bins before drawing it. And the bins can then be normalized so that the total area of our histogram will sum up to 1. Same goes with the KDE estimation, we'll create a smoothed curve for each datapoint and then will aggregate all curves into a single distribution.\n",
    "\n",
    "The KDE that we'll get is\n",
    "\n",
    "$$ f(x) = \\frac{1}{nh} \\sum_i{K(\\frac{x-x_i}{h})} $$\n",
    "\n",
    "where\n",
    "\n",
    "h = bandwith, usually 0 < h < 1.\n",
    "\n",
    "n = no. of data points,\n",
    "\n",
    "K(u) = Kernel function\n",
    "\n",
    "For this simulation, we'll try to create the KDE for our MysIDC \"Illiteracy rate of population aged 15-24 years by sex 2001-2021\" dataset. The kernel function that we will use is the gaussian kernel function since this is usually used by other researcher. The gaussian kernel function will be\n",
    "\n",
    "$$ K(u) = \\frac{1}{\\sqrt{2\\pi}} e^{-\\frac{1}{2} u^2}$$\n"
   ]
  },
  {
   "cell_type": "code",
   "execution_count": 2,
   "id": "d778965d",
   "metadata": {},
   "outputs": [
    {
     "data": {
      "text/html": [
       "<div>\n",
       "<style scoped>\n",
       "    .dataframe tbody tr th:only-of-type {\n",
       "        vertical-align: middle;\n",
       "    }\n",
       "\n",
       "    .dataframe tbody tr th {\n",
       "        vertical-align: top;\n",
       "    }\n",
       "\n",
       "    .dataframe thead th {\n",
       "        text-align: right;\n",
       "    }\n",
       "</style>\n",
       "<table border=\"1\" class=\"dataframe\">\n",
       "  <thead>\n",
       "    <tr style=\"text-align: right;\">\n",
       "      <th>Sex</th>\n",
       "      <th>Female</th>\n",
       "      <th>Male</th>\n",
       "      <th>Total</th>\n",
       "    </tr>\n",
       "    <tr>\n",
       "      <th>Year</th>\n",
       "      <th></th>\n",
       "      <th></th>\n",
       "      <th></th>\n",
       "    </tr>\n",
       "  </thead>\n",
       "  <tbody>\n",
       "    <tr>\n",
       "      <th>2001</th>\n",
       "      <td>1.700000</td>\n",
       "      <td>1.500000</td>\n",
       "      <td>1.600000</td>\n",
       "    </tr>\n",
       "    <tr>\n",
       "      <th>2002</th>\n",
       "      <td>1.800000</td>\n",
       "      <td>1.700000</td>\n",
       "      <td>1.800000</td>\n",
       "    </tr>\n",
       "    <tr>\n",
       "      <th>2003</th>\n",
       "      <td>1.700000</td>\n",
       "      <td>1.600000</td>\n",
       "      <td>1.700000</td>\n",
       "    </tr>\n",
       "    <tr>\n",
       "      <th>2004</th>\n",
       "      <td>1.800000</td>\n",
       "      <td>1.600000</td>\n",
       "      <td>1.700000</td>\n",
       "    </tr>\n",
       "    <tr>\n",
       "      <th>2005</th>\n",
       "      <td>1.700000</td>\n",
       "      <td>1.500000</td>\n",
       "      <td>1.600000</td>\n",
       "    </tr>\n",
       "    <tr>\n",
       "      <th>2006</th>\n",
       "      <td>1.600000</td>\n",
       "      <td>1.600000</td>\n",
       "      <td>1.600000</td>\n",
       "    </tr>\n",
       "    <tr>\n",
       "      <th>2007</th>\n",
       "      <td>1.500000</td>\n",
       "      <td>1.500000</td>\n",
       "      <td>1.500000</td>\n",
       "    </tr>\n",
       "    <tr>\n",
       "      <th>2008</th>\n",
       "      <td>1.600000</td>\n",
       "      <td>1.600000</td>\n",
       "      <td>1.600000</td>\n",
       "    </tr>\n",
       "    <tr>\n",
       "      <th>2009</th>\n",
       "      <td>1.600000</td>\n",
       "      <td>1.500000</td>\n",
       "      <td>1.500000</td>\n",
       "    </tr>\n",
       "    <tr>\n",
       "      <th>2010</th>\n",
       "      <td>2.000000</td>\n",
       "      <td>2.200000</td>\n",
       "      <td>2.100000</td>\n",
       "    </tr>\n",
       "    <tr>\n",
       "      <th>2011</th>\n",
       "      <td>2.000000</td>\n",
       "      <td>2.200000</td>\n",
       "      <td>2.100000</td>\n",
       "    </tr>\n",
       "    <tr>\n",
       "      <th>2012</th>\n",
       "      <td>1.900000</td>\n",
       "      <td>2.500000</td>\n",
       "      <td>2.200000</td>\n",
       "    </tr>\n",
       "    <tr>\n",
       "      <th>2013</th>\n",
       "      <td>2.500000</td>\n",
       "      <td>2.600000</td>\n",
       "      <td>2.600000</td>\n",
       "    </tr>\n",
       "    <tr>\n",
       "      <th>2014</th>\n",
       "      <td>2.300000</td>\n",
       "      <td>2.600000</td>\n",
       "      <td>2.400000</td>\n",
       "    </tr>\n",
       "    <tr>\n",
       "      <th>2015</th>\n",
       "      <td>2.500000</td>\n",
       "      <td>3.600000</td>\n",
       "      <td>3.100000</td>\n",
       "    </tr>\n",
       "    <tr>\n",
       "      <th>2016</th>\n",
       "      <td>2.200000</td>\n",
       "      <td>2.600000</td>\n",
       "      <td>2.400000</td>\n",
       "    </tr>\n",
       "    <tr>\n",
       "      <th>2017</th>\n",
       "      <td>2.600000</td>\n",
       "      <td>2.900000</td>\n",
       "      <td>2.700000</td>\n",
       "    </tr>\n",
       "    <tr>\n",
       "      <th>2018</th>\n",
       "      <td>2.982435</td>\n",
       "      <td>3.305768</td>\n",
       "      <td>3.150956</td>\n",
       "    </tr>\n",
       "    <tr>\n",
       "      <th>2019</th>\n",
       "      <td>3.300000</td>\n",
       "      <td>3.100000</td>\n",
       "      <td>3.400000</td>\n",
       "    </tr>\n",
       "    <tr>\n",
       "      <th>2020</th>\n",
       "      <td>2.600000</td>\n",
       "      <td>2.500000</td>\n",
       "      <td>2.700000</td>\n",
       "    </tr>\n",
       "    <tr>\n",
       "      <th>2021</th>\n",
       "      <td>2.500000</td>\n",
       "      <td>2.800000</td>\n",
       "      <td>2.700000</td>\n",
       "    </tr>\n",
       "  </tbody>\n",
       "</table>\n",
       "</div>"
      ],
      "text/plain": [
       "Sex     Female      Male     Total\n",
       "Year                              \n",
       "2001  1.700000  1.500000  1.600000\n",
       "2002  1.800000  1.700000  1.800000\n",
       "2003  1.700000  1.600000  1.700000\n",
       "2004  1.800000  1.600000  1.700000\n",
       "2005  1.700000  1.500000  1.600000\n",
       "2006  1.600000  1.600000  1.600000\n",
       "2007  1.500000  1.500000  1.500000\n",
       "2008  1.600000  1.600000  1.600000\n",
       "2009  1.600000  1.500000  1.500000\n",
       "2010  2.000000  2.200000  2.100000\n",
       "2011  2.000000  2.200000  2.100000\n",
       "2012  1.900000  2.500000  2.200000\n",
       "2013  2.500000  2.600000  2.600000\n",
       "2014  2.300000  2.600000  2.400000\n",
       "2015  2.500000  3.600000  3.100000\n",
       "2016  2.200000  2.600000  2.400000\n",
       "2017  2.600000  2.900000  2.700000\n",
       "2018  2.982435  3.305768  3.150956\n",
       "2019  3.300000  3.100000  3.400000\n",
       "2020  2.600000  2.500000  2.700000\n",
       "2021  2.500000  2.800000  2.700000"
      ]
     },
     "execution_count": 2,
     "metadata": {},
     "output_type": "execute_result"
    }
   ],
   "source": [
    "import matplotlib.pyplot as plt\n",
    "import numpy as np\n",
    "import pandas as pd\n",
    "\n",
    "path = 'C:/Users/farea/Desktop/Illiteracy rate of population aged 15-24 years by sex 2001 - 2021 Malaysia_dataset.xlsx'\n",
    "\n",
    "data = pd.read_excel(path)\n",
    "data = data.pivot(index='Year', columns = 'Sex', values = 'Illiteracy rate (%)')\n",
    "data"
   ]
  },
  {
   "cell_type": "code",
   "execution_count": 3,
   "id": "ecedd114",
   "metadata": {},
   "outputs": [],
   "source": [
    "# we'll need to insert observed data points inside our kde method\n",
    "class kde:\n",
    "    def __init__(self, data_points, h=0.5):\n",
    "        self.data = data_points\n",
    "        self.n = len(data_points)\n",
    "        self.h = h\n",
    "        \n",
    "    def kgauss(self,u):\n",
    "        return (1/np.sqrt(2*np.pi)) * np.exp(-0.5 * (u**2))\n",
    "    \n",
    "    def f(self,x):\n",
    "        return [self.kgauss((x - xi)/self.h) for xi in self.data]\n",
    "\n",
    "    def pdf(self):\n",
    "        j = np.linspace(np.min(self.data), np.max(self.data))\n",
    "        dist = [self.f(x) for x in j]\n",
    "        dist = pd.DataFrame(dist)\n",
    "        dist = np.sum(dist, axis='columns')\n",
    "        return j, (1/(self.n * self.h)) * dist"
   ]
  },
  {
   "cell_type": "code",
   "execution_count": 4,
   "id": "4c1a34d8",
   "metadata": {},
   "outputs": [],
   "source": [
    "test = kde(data['Female'], h=0.255)\n",
    "x, result = test.pdf()"
   ]
  },
  {
   "cell_type": "code",
   "execution_count": 5,
   "id": "8079cc7f",
   "metadata": {},
   "outputs": [
    {
     "data": {
      "text/plain": [
       "(array([1.05820106, 1.32275132, 0.79365079, 0.26455026, 0.26455026,\n",
       "        0.79365079, 0.52910053, 0.        , 0.26455026, 0.26455026]),\n",
       " array([1.5 , 1.68, 1.86, 2.04, 2.22, 2.4 , 2.58, 2.76, 2.94, 3.12, 3.3 ]),\n",
       " <BarContainer object of 10 artists>)"
      ]
     },
     "execution_count": 5,
     "metadata": {},
     "output_type": "execute_result"
    },
    {
     "data": {
      "image/png": "[encoded data removed]",
      "text/plain": [
       "<Figure size 640x480 with 1 Axes>"
      ]
     },
     "metadata": {},
     "output_type": "display_data"
    }
   ],
   "source": [
    "fig, ax = plt.subplots()\n",
    "ax.plot(x,result, label = 'Gaussian KDE plot')\n",
    "ax.hist(data['Female'], density=True, label = 'True histogram')"
   ]
  },
  {
   "cell_type": "markdown",
   "id": "3309a20a",
   "metadata": {},
   "source": [
    "If we compare our plot with package that is more established.."
   ]
  },
  {
   "cell_type": "code",
   "execution_count": 6,
   "id": "8d9b1689",
   "metadata": {},
   "outputs": [
    {
     "data": {
      "text/plain": [
       "<matplotlib.legend.Legend at 0x23ebad118b0>"
      ]
     },
     "execution_count": 6,
     "metadata": {},
     "output_type": "execute_result"
    },
    {
     "data": {
      "image/png": "[encoded data removed]",
      "text/plain": [
       "<Figure size 640x480 with 1 Axes>"
      ]
     },
     "metadata": {},
     "output_type": "display_data"
    }
   ],
   "source": [
    "import seaborn as sns\n",
    "\n",
    "fig, ax = plt.subplots()\n",
    "\n",
    "sns.kdeplot(data['Female'],label = 'Gaussian KDE plot from SNS')\n",
    "ax.plot(x,result, label = 'Our simulation Gaussian KDE plot', color='red')\n",
    "ax.set_xlim(np.min(data['Female']), np.max(data['Female']))\n",
    "plt.legend()"
   ]
  },
  {
   "cell_type": "markdown",
   "id": "2a784f54",
   "metadata": {},
   "source": [
    "This smoothed curve is very helpful for us to get a general visual of how our data is distributed and somehow give us some insight on what kind of distribution that our data is coming from."
   ]
  }
 ],
 "metadata": {
  "kernelspec": {
   "display_name": "Python 3 (ipykernel)",
   "language": "python",
   "name": "python3"
  },
  "language_info": {
   "codemirror_mode": {
    "name": "ipython",
    "version": 3
   },
   "file_extension": ".py",
   "mimetype": "text/x-python",
   "name": "python",
   "nbconvert_exporter": "python",
   "pygments_lexer": "ipython3",
   "version": "3.9.13"
  }
 },
 "nbformat": 4,
 "nbformat_minor": 5
}
