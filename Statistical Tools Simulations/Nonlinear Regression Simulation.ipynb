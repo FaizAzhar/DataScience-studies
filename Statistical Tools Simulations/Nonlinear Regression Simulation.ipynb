{
 "cells": [
  {
   "cell_type": "code",
   "execution_count": 1,
   "id": "92758002",
   "metadata": {},
   "outputs": [],
   "source": [
    "%matplotlib inline"
   ]
  },
  {
   "cell_type": "markdown",
   "id": "255a43c5",
   "metadata": {},
   "source": [
    "# Nonlinear Regression\n",
    "\n",
    "In real world, we usually did not encounter a phenomena that follows a straight line equation. Rather, cyclical or nonlinear equations will take place. \n",
    "\n",
    "I could not find a lot of tutorial while browsing the nonlinear regression on the internet because of it's complexity in computation. Most of the reference is either heavy on the theory part or just showing how to use the tools created by other people. \n",
    "\n",
    "So for this note/simulation, I will try to combine both aspects so that we could at least understand why and how we should do nonlinear regression for analysis. \n",
    "\n",
    "Reference:\n",
    "* https://www.sciencedirect.com/science/article/pii/S0378475422000738"
   ]
  },
  {
   "cell_type": "code",
   "execution_count": null,
   "id": "807f9370",
   "metadata": {},
   "outputs": [],
   "source": []
  }
 ],
 "metadata": {
  "kernelspec": {
   "display_name": "Python 3 (ipykernel)",
   "language": "python",
   "name": "python3"
  },
  "language_info": {
   "codemirror_mode": {
    "name": "ipython",
    "version": 3
   },
   "file_extension": ".py",
   "mimetype": "text/x-python",
   "name": "python",
   "nbconvert_exporter": "python",
   "pygments_lexer": "ipython3",
   "version": "3.9.13"
  }
 },
 "nbformat": 4,
 "nbformat_minor": 5
}
