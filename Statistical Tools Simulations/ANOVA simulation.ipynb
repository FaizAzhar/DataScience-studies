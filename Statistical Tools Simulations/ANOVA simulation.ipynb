{
 "cells": [
  {
   "cell_type": "code",
   "execution_count": 1,
   "id": "61b74bb0",
   "metadata": {},
   "outputs": [],
   "source": [
    "%matplotlib inline"
   ]
  },
  {
   "attachments": {},
   "cell_type": "markdown",
   "id": "72c9cddd",
   "metadata": {},
   "source": [
    "# ANOVA (Analysis of Variance)\n",
    "\n",
    "ANOVA is a popular technique used by researcher to check if there exist difference in the mean of groups. For example, let's say that we conduct an experiment to find what is the best temperature needed to bake a delicious pizza. For this experiment, we will have 3 different temperature, low, medium and high. This kind of experiment is called as a one-way ANOVA because we only have 1 variable observed which is the temperature. The different in temperature is called as factor levels. So in our case, we have 3 levels for consideration. The backbone for ANOVA is the variance. What we're doing is actually to find out the variance between group and variance within group. Eventually we will use both variance in our calculation and will decide whether there exist significant different in the mean for each level. The test statistic will be calculated as follow:\n",
    "\n",
    "$$ F-statistic = \\frac{\\sigma^2 between sample means}{\\sigma^2 within the samples}$$\n",
    "\n",
    "$$ F-statistic = \\frac{r \\sum{(\\bar{X_i} - \\bar{X})^2}}{\\sum{\\sum{(X_{ij} - \\bar{X_i})^2}}}$$\n",
    "\n",
    "$$ F-statistic = \\frac{SSTr}{SSE}$$\n",
    "\n",
    "where\n",
    "\n",
    "r = # of sample for one level\n",
    "\n",
    "SSTr = sum of squares explained by treatment\n",
    "\n",
    "SSE = sum of squares of error unexplained by treatment\n",
    "\n",
    "SSTr = SST - SSE such that SST = $\\sum{\\sum{(X_{ij} - \\bar{X})^2}}$"
   ]
  },
  {
   "cell_type": "markdown",
   "id": "fb531bd7",
   "metadata": {},
   "source": [
    "For this simulation, I will use the Crustacean & Molluscs data from MysIDC as an example. This will be a one-way ANOVA because I will try to check if there exist a significant different in the quantity production given that we're looking at Crustacean & Molluscs food category. For this one category, we have 5 sub-categories which will be our factor level for this simulation. I will not check the condition/assumptions because this simulation is to emphasis on how ANOVA is conducted rather than to make this as a standard research paper.\n",
    "\n",
    "Our null hypothesis will be the mean of quantity production is the same across sub-category. \n",
    "\n",
    "While our alternative hypothesis will be that there is at least one sub-category that have different mean."
   ]
  },
  {
   "cell_type": "code",
   "execution_count": 2,
   "id": "f3416bec",
   "metadata": {},
   "outputs": [
    {
     "data": {
      "text/html": [
       "<div>\n",
       "<style scoped>\n",
       "    .dataframe tbody tr th:only-of-type {\n",
       "        vertical-align: middle;\n",
       "    }\n",
       "\n",
       "    .dataframe tbody tr th {\n",
       "        vertical-align: top;\n",
       "    }\n",
       "\n",
       "    .dataframe thead th {\n",
       "        text-align: right;\n",
       "    }\n",
       "</style>\n",
       "<table border=\"1\" class=\"dataframe\">\n",
       "  <thead>\n",
       "    <tr style=\"text-align: right;\">\n",
       "      <th></th>\n",
       "      <th>Category</th>\n",
       "      <th>Sub-Category</th>\n",
       "      <th>Year</th>\n",
       "      <th>Quantity ('000 Tonnes)</th>\n",
       "      <th>Value (RM Million)</th>\n",
       "    </tr>\n",
       "  </thead>\n",
       "  <tbody>\n",
       "    <tr>\n",
       "      <th>0</th>\n",
       "      <td>\\nCrustacean &amp; Molluscs</td>\n",
       "      <td>Cockle</td>\n",
       "      <td>2000</td>\n",
       "      <td>64.400</td>\n",
       "      <td>50.650</td>\n",
       "    </tr>\n",
       "    <tr>\n",
       "      <th>1</th>\n",
       "      <td>\\nCrustacean &amp; Molluscs</td>\n",
       "      <td>Cockle</td>\n",
       "      <td>2001</td>\n",
       "      <td>70.820</td>\n",
       "      <td>55.730</td>\n",
       "    </tr>\n",
       "    <tr>\n",
       "      <th>2</th>\n",
       "      <td>\\nCrustacean &amp; Molluscs</td>\n",
       "      <td>Cockle</td>\n",
       "      <td>2002</td>\n",
       "      <td>78.710</td>\n",
       "      <td>62.400</td>\n",
       "    </tr>\n",
       "    <tr>\n",
       "      <th>3</th>\n",
       "      <td>\\nCrustacean &amp; Molluscs</td>\n",
       "      <td>Cockle</td>\n",
       "      <td>2003</td>\n",
       "      <td>71.070</td>\n",
       "      <td>56.770</td>\n",
       "    </tr>\n",
       "    <tr>\n",
       "      <th>4</th>\n",
       "      <td>\\nCrustacean &amp; Molluscs</td>\n",
       "      <td>Cockle</td>\n",
       "      <td>2004</td>\n",
       "      <td>64.560</td>\n",
       "      <td>54.210</td>\n",
       "    </tr>\n",
       "    <tr>\n",
       "      <th>...</th>\n",
       "      <td>...</td>\n",
       "      <td>...</td>\n",
       "      <td>...</td>\n",
       "      <td>...</td>\n",
       "      <td>...</td>\n",
       "    </tr>\n",
       "    <tr>\n",
       "      <th>95</th>\n",
       "      <td>\\nCrustacean &amp; Molluscs</td>\n",
       "      <td>Shrimp</td>\n",
       "      <td>2015</td>\n",
       "      <td>58.000</td>\n",
       "      <td>1221.550</td>\n",
       "    </tr>\n",
       "    <tr>\n",
       "      <th>96</th>\n",
       "      <td>\\nCrustacean &amp; Molluscs</td>\n",
       "      <td>Shrimp</td>\n",
       "      <td>2016</td>\n",
       "      <td>43.253</td>\n",
       "      <td>918.632</td>\n",
       "    </tr>\n",
       "    <tr>\n",
       "      <th>97</th>\n",
       "      <td>\\nCrustacean &amp; Molluscs</td>\n",
       "      <td>Shrimp</td>\n",
       "      <td>2017</td>\n",
       "      <td>45.783</td>\n",
       "      <td>1067.337</td>\n",
       "    </tr>\n",
       "    <tr>\n",
       "      <th>98</th>\n",
       "      <td>\\nCrustacean &amp; Molluscs</td>\n",
       "      <td>Shrimp</td>\n",
       "      <td>2018</td>\n",
       "      <td>45.920</td>\n",
       "      <td>1114.950</td>\n",
       "    </tr>\n",
       "    <tr>\n",
       "      <th>99</th>\n",
       "      <td>\\nCrustacean &amp; Molluscs</td>\n",
       "      <td>Shrimp</td>\n",
       "      <td>2019</td>\n",
       "      <td>53.410</td>\n",
       "      <td>1257.740</td>\n",
       "    </tr>\n",
       "  </tbody>\n",
       "</table>\n",
       "<p>100 rows × 5 columns</p>\n",
       "</div>"
      ],
      "text/plain": [
       "                   Category Sub-Category  Year  Quantity ('000 Tonnes)  \\\n",
       "0   \\nCrustacean & Molluscs       Cockle  2000                  64.400   \n",
       "1   \\nCrustacean & Molluscs       Cockle  2001                  70.820   \n",
       "2   \\nCrustacean & Molluscs       Cockle  2002                  78.710   \n",
       "3   \\nCrustacean & Molluscs       Cockle  2003                  71.070   \n",
       "4   \\nCrustacean & Molluscs       Cockle  2004                  64.560   \n",
       "..                      ...          ...   ...                     ...   \n",
       "95  \\nCrustacean & Molluscs       Shrimp  2015                  58.000   \n",
       "96  \\nCrustacean & Molluscs       Shrimp  2016                  43.253   \n",
       "97  \\nCrustacean & Molluscs       Shrimp  2017                  45.783   \n",
       "98  \\nCrustacean & Molluscs       Shrimp  2018                  45.920   \n",
       "99  \\nCrustacean & Molluscs       Shrimp  2019                  53.410   \n",
       "\n",
       "    Value (RM Million)  \n",
       "0               50.650  \n",
       "1               55.730  \n",
       "2               62.400  \n",
       "3               56.770  \n",
       "4               54.210  \n",
       "..                 ...  \n",
       "95            1221.550  \n",
       "96             918.632  \n",
       "97            1067.337  \n",
       "98            1114.950  \n",
       "99            1257.740  \n",
       "\n",
       "[100 rows x 5 columns]"
      ]
     },
     "execution_count": 2,
     "metadata": {},
     "output_type": "execute_result"
    }
   ],
   "source": [
    "import pandas as pd\n",
    "import numpy as np\n",
    "\n",
    "path = 'C:/Users/farea/Desktop/10.3.7 Production of Crustacean & Molluscs (Brackishwater Aquaculture) Malaysia 2000 - 2019_dataset.xlsx'\n",
    "\n",
    "data = pd.read_excel(path)\n",
    "data"
   ]
  },
  {
   "cell_type": "code",
   "execution_count": 3,
   "id": "daa754aa",
   "metadata": {},
   "outputs": [
    {
     "data": {
      "text/plain": [
       "array(['Cockle', 'Mussel', 'Oyster', 'Seaweed', 'Shrimp'], dtype=object)"
      ]
     },
     "execution_count": 3,
     "metadata": {},
     "output_type": "execute_result"
    }
   ],
   "source": [
    "data['Sub-Category'].unique()"
   ]
  },
  {
   "cell_type": "markdown",
   "id": "d41a5ffa",
   "metadata": {},
   "source": [
    "If we use the one-way ANOVA from pingouin package, we'll obtain"
   ]
  },
  {
   "cell_type": "code",
   "execution_count": 4,
   "id": "70ac47fe",
   "metadata": {},
   "outputs": [
    {
     "data": {
      "text/html": [
       "<div>\n",
       "<style scoped>\n",
       "    .dataframe tbody tr th:only-of-type {\n",
       "        vertical-align: middle;\n",
       "    }\n",
       "\n",
       "    .dataframe tbody tr th {\n",
       "        vertical-align: top;\n",
       "    }\n",
       "\n",
       "    .dataframe thead th {\n",
       "        text-align: right;\n",
       "    }\n",
       "</style>\n",
       "<table border=\"1\" class=\"dataframe\">\n",
       "  <thead>\n",
       "    <tr style=\"text-align: right;\">\n",
       "      <th></th>\n",
       "      <th>Source</th>\n",
       "      <th>SS</th>\n",
       "      <th>DF</th>\n",
       "      <th>MS</th>\n",
       "      <th>F</th>\n",
       "      <th>p-unc</th>\n",
       "      <th>np2</th>\n",
       "    </tr>\n",
       "  </thead>\n",
       "  <tbody>\n",
       "    <tr>\n",
       "      <th>0</th>\n",
       "      <td>Sub-Category</td>\n",
       "      <td>267474.451480</td>\n",
       "      <td>4</td>\n",
       "      <td>66868.612870</td>\n",
       "      <td>28.761301</td>\n",
       "      <td>1.157829e-15</td>\n",
       "      <td>0.547716</td>\n",
       "    </tr>\n",
       "    <tr>\n",
       "      <th>1</th>\n",
       "      <td>Within</td>\n",
       "      <td>220870.339971</td>\n",
       "      <td>95</td>\n",
       "      <td>2324.950947</td>\n",
       "      <td>NaN</td>\n",
       "      <td>NaN</td>\n",
       "      <td>NaN</td>\n",
       "    </tr>\n",
       "  </tbody>\n",
       "</table>\n",
       "</div>"
      ],
      "text/plain": [
       "         Source             SS  DF            MS          F         p-unc  \\\n",
       "0  Sub-Category  267474.451480   4  66868.612870  28.761301  1.157829e-15   \n",
       "1        Within  220870.339971  95   2324.950947        NaN           NaN   \n",
       "\n",
       "        np2  \n",
       "0  0.547716  \n",
       "1       NaN  "
      ]
     },
     "execution_count": 4,
     "metadata": {},
     "output_type": "execute_result"
    }
   ],
   "source": [
    "import pingouin as pg\n",
    "\n",
    "aov = pg.anova(data=data, dv=\"Quantity ('000 Tonnes)\", between='Sub-Category', detailed=True)\n",
    "aov"
   ]
  },
  {
   "cell_type": "markdown",
   "id": "be515637",
   "metadata": {},
   "source": [
    "And from this table, we get the F-statistic is so large and the p-value is so small which indicate that the null hypothesis should be rejected and there is at least a different between the mean of the sub-category.\n",
    "\n",
    "Now I'll use the hard way (sampling distribution) and try to build our own f-distribution to see if we obtain a similar result with our ANOVA table."
   ]
  },
  {
   "cell_type": "code",
   "execution_count": 5,
   "id": "0fac9a76",
   "metadata": {},
   "outputs": [],
   "source": [
    "data1 = data[(data['Sub-Category']=='Cockle')]\n",
    "data2 = data[(data['Sub-Category']=='Mussel')]\n",
    "data3 = data[(data['Sub-Category']=='Oyster')]\n",
    "data4 = data[(data['Sub-Category']=='Seaweed')]\n",
    "data5 = data[(data['Sub-Category']=='Shrimp')]\n",
    "\n",
    "nsample=10000\n",
    "test_data1 = pd.DataFrame(np.random.choice(data1[\"Quantity ('000 Tonnes)\"], size=(nsample, 20)))\n",
    "test_data2 = pd.DataFrame(np.random.choice(data2[\"Quantity ('000 Tonnes)\"], size=(nsample, 20)))\n",
    "test_data3 = pd.DataFrame(np.random.choice(data3[\"Quantity ('000 Tonnes)\"], size=(nsample, 20)))\n",
    "test_data4 = pd.DataFrame(np.random.choice(data4[\"Quantity ('000 Tonnes)\"], size=(nsample, 20)))\n",
    "test_data5 = pd.DataFrame(np.random.choice(data5[\"Quantity ('000 Tonnes)\"], size=(nsample, 20)))\n",
    "\n",
    "#calculating treatment average\n",
    "mean_trt1 = np.mean(test_data1, axis=1)\n",
    "mean_trt2 = np.mean(test_data2, axis=1)\n",
    "mean_trt3 = np.mean(test_data3, axis=1)\n",
    "mean_trt4 = np.mean(test_data4, axis=1)\n",
    "mean_trt5 = np.mean(test_data5, axis=1)\n",
    "\n",
    "#calculating total average\n",
    "test_data = pd.concat([test_data1,test_data2,test_data3,test_data4,test_data5], axis=1)\n",
    "mean_overall = np.mean(test_data, axis=1)\n",
    "\n",
    "#calculating SSTr & MSTr (sum of squares treatment ~ sum((yibar - ybar)^2) )\n",
    "sstr = 20*((mean_trt1 - mean_overall)**2 + (mean_trt2 - mean_overall)**2 + (mean_trt3 - mean_overall)**2 + (mean_trt4 - mean_overall)**2 + (mean_trt5 - mean_overall)**2)\n",
    "mstr = sstr/(5-1) # each run have 5 sub-category.\n",
    "\n",
    "#calculating SSE & MSE (sum of square error ~ sum((yi - yibar)^2) )\n",
    "square_error1 = [(test_data1.iloc[:,i] - mean_trt1)**2 for i in range(20)]\n",
    "square_error2 = [(test_data2.iloc[:,i] - mean_trt2)**2 for i in range(20)]\n",
    "square_error3 = [(test_data3.iloc[:,i] - mean_trt3)**2 for i in range(20)]\n",
    "square_error4 = [(test_data4.iloc[:,i] - mean_trt4)**2 for i in range(20)]\n",
    "square_error5 = [(test_data5.iloc[:,i] - mean_trt5)**2 for i in range(20)]\n",
    "\n",
    "square_error1 = pd.DataFrame(square_error1).T\n",
    "square_error2 = pd.DataFrame(square_error2).T\n",
    "square_error3 = pd.DataFrame(square_error3).T\n",
    "square_error4 = pd.DataFrame(square_error4).T\n",
    "square_error5 = pd.DataFrame(square_error5).T\n",
    "\n",
    "sse = np.sum(square_error1, axis=1) + np.sum(square_error2, axis=1) + np.sum(square_error3, axis=1) + np.sum(square_error4, axis=1) + np.sum(square_error5, axis=1)\n",
    "mse = sse/(100-5) # for 1 run, we have 100 data and 5 sub-category\n",
    "\n",
    "f_stat = mstr/mse"
   ]
  },
  {
   "cell_type": "code",
   "execution_count": 6,
   "id": "b5fe649c",
   "metadata": {
    "scrolled": false
   },
   "outputs": [
    {
     "data": {
      "text/plain": [
       "<matplotlib.legend.Legend at 0x2cfa807f7f0>"
      ]
     },
     "execution_count": 6,
     "metadata": {},
     "output_type": "execute_result"
    },
    {
     "data": {
      "image/png": "[encoded data removed]",
      "text/plain": [
       "<Figure size 640x480 with 1 Axes>"
      ]
     },
     "metadata": {},
     "output_type": "display_data"
    }
   ],
   "source": [
    "import matplotlib.pyplot as plt\n",
    "from scipy.stats import f\n",
    "\n",
    "dfn = 5-1\n",
    "dfd = 100-5\n",
    "x = np.linspace(f.ppf(0.001,dfn,dfd), f.ppf(0.99, dfn,dfd), 100)\n",
    "rv = f(dfn,dfd)\n",
    "\n",
    "fig, ax = plt.subplots()\n",
    "\n",
    "ax.plot(x, rv.pdf(x), label='F-distribution under null hypothesis')\n",
    "ax.axvspan(f.ppf(0.025,dfn,dfd), f.ppf(0.975, dfn,dfd), alpha=0.3, color='yellow', label='95% CI region')\n",
    "ax.hist(f_stat, density=True, color='grey', alpha=0.3, label='F-dist using sampling distribution')\n",
    "ax.axvspan(np.percentile(f_stat,2.5), np.percentile(f_stat,97.5), alpha=0.1, color='red')\n",
    "ax.axvline(np.mean(f_stat), color='red')\n",
    "ax.set_xlim([0,35])\n",
    "plt.legend()"
   ]
  },
  {
   "cell_type": "code",
   "execution_count": 8,
   "id": "a1089776",
   "metadata": {},
   "outputs": [
    {
     "data": {
      "text/plain": [
       "(69185.98660509633, 2209.9599589343225, 32.218232196834265)"
      ]
     },
     "execution_count": 8,
     "metadata": {},
     "output_type": "execute_result"
    }
   ],
   "source": [
    "np.mean(mstr), np.mean(mse), np.mean(f_stat)"
   ]
  },
  {
   "cell_type": "markdown",
   "id": "975f39d7",
   "metadata": {},
   "source": [
    "And we still get the same result which is to reject the null hypothesis.\n",
    "\n",
    "If you are using the scipy.stats, the one-way ANOVA test can be found under the f_oneway method. \n",
    "\n",
    "Usually after reporting that there is difference between the mean of the group/level, researcher will further their analysis by doing posthoc analysis. You can think of it as an act to drill down further to know which group/level is responsible to cause the difference and how much is the effect size. When doing posthoc analysis, adjustment need to be done to control the familywise error rate (error cause by too many comparison testing between two groups/levels)."
   ]
  }
 ],
 "metadata": {
  "kernelspec": {
   "display_name": "Python 3 (ipykernel)",
   "language": "python",
   "name": "python3"
  },
  "language_info": {
   "codemirror_mode": {
    "name": "ipython",
    "version": 3
   },
   "file_extension": ".py",
   "mimetype": "text/x-python",
   "name": "python",
   "nbconvert_exporter": "python",
   "pygments_lexer": "ipython3",
   "version": "3.9.13"
  }
 },
 "nbformat": 4,
 "nbformat_minor": 5
}
