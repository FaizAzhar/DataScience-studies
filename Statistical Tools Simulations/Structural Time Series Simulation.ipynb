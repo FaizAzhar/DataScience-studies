{
 "cells": [
  {
   "cell_type": "code",
   "execution_count": 1,
   "id": "a82eab93",
   "metadata": {},
   "outputs": [],
   "source": [
    "%matplotlib inline"
   ]
  },
  {
   "cell_type": "markdown",
   "id": "6285ddc9",
   "metadata": {},
   "source": [
    "The note and dataset of this note is taken from the links below:\n",
    "* https://storage.googleapis.com/dosm-public-healthcare/covid-cases.parquet\n",
    "\n",
    "Kudos to the new Malaysian Government for making this new initiative and become more transparent in gaining public trust.\n",
    "\n",
    "# Structural Time Series \n"
   ]
  },
  {
   "cell_type": "code",
   "execution_count": 4,
   "id": "77a506a9",
   "metadata": {},
   "outputs": [
    {
     "data": {
      "text/plain": [
       "Index(['date', 'state', 'cases_new', 'cases_import', 'cases_recovered',\n",
       "       'cases_active', 'cases_cluster', 'cases_unvax', 'cases_pvax',\n",
       "       'cases_fvax', 'cases_boost', 'cases_child', 'cases_adolescent',\n",
       "       'cases_adult', 'cases_elderly', 'cases_0_4', 'cases_5_11',\n",
       "       'cases_12_17', 'cases_18_29', 'cases_30_39', 'cases_40_49',\n",
       "       'cases_50_59', 'cases_60_69', 'cases_70_79', 'cases_80'],\n",
       "      dtype='object')"
      ]
     },
     "execution_count": 4,
     "metadata": {},
     "output_type": "execute_result"
    }
   ],
   "source": [
    "#!pip install fastparquet pyarrow\n",
    "\n",
    "import pandas as pd\n",
    "\n",
    "URL_DATA = r'https://storage.googleapis.com/dosm-public-healthcare/covid-cases.parquet'\n",
    "\n",
    "df = pd.read_parquet(URL_DATA)\n",
    "if 'date' in df.columns: df['date'] = pd.to_datetime(df['date'])\n",
    "\n",
    "df.columns"
   ]
  },
  {
   "cell_type": "code",
   "execution_count": null,
   "id": "e4b03c4b",
   "metadata": {},
   "outputs": [],
   "source": []
  }
 ],
 "metadata": {
  "kernelspec": {
   "display_name": "Python 3 (ipykernel)",
   "language": "python",
   "name": "python3"
  },
  "language_info": {
   "codemirror_mode": {
    "name": "ipython",
    "version": 3
   },
   "file_extension": ".py",
   "mimetype": "text/x-python",
   "name": "python",
   "nbconvert_exporter": "python",
   "pygments_lexer": "ipython3",
   "version": "3.9.13"
  }
 },
 "nbformat": 4,
 "nbformat_minor": 5
}
